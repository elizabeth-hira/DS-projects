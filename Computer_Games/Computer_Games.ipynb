{
 "cells": [
  {
   "cell_type": "markdown",
   "metadata": {},
   "source": [
    "# Исследование компьютерных игр\n",
    "\n",
    "По собранным в интернете данным компания по продаже компьютерных игр хочет выявить определяющие успех игры факторы для\n",
    " последующих закупок и рекламных акций.\n"
   ]
  },
  {
   "cell_type": "markdown",
   "metadata": {},
   "source": [
    "## Оглавление:\n",
    "* [Шаг 1. Файл с данными изучение общей информации](#first)\n",
    "* [Шаг 2. Предобработка данных](#second)\n",
    "* [Шаг 3. Исследовательский анализ данных](#third)\n",
    "* [Шаг 4. Портрет пользователя каждого региона](#fourth)\n",
    "* [Шаг 5. Проверка гипотез](#fifth)\n",
    "* [Шаг 6. Общий вывод](#sixth)"
   ]
  },
  {
   "cell_type": "markdown",
   "metadata": {},
   "source": [
    "# Шаг 1. Файл с данными изучение общей информации. <a class=\"anchor\" id=\"first\"></a>\n",
    "\n",
    "## Импорт библиотек"
   ]
  },
  {
   "cell_type": "code",
   "execution_count": 1,
   "metadata": {
    "ExecuteTime": {
     "end_time": "2020-11-27T09:09:03.964867Z",
     "start_time": "2020-11-27T09:09:03.960294Z"
    }
   },
   "outputs": [],
   "source": [
    "# <импорт библиотеки pandas для таблиц>\n",
    "import pandas as pd\n",
    "#<импорт библиотеки matplotlib для графиков>\n",
    "import matplotlib.pyplot as plt\n",
    "#<импорт библиотеки для проверки гипотез>\n",
    "from scipy import stats as st"
   ]
  },
  {
   "cell_type": "markdown",
   "metadata": {},
   "source": [
    "## Получение информации\n",
    "\n",
    "Прочитаем файл *games.csv* и сохраним его в переменной *df*. "
   ]
  },
  {
   "cell_type": "code",
   "execution_count": 2,
   "metadata": {
    "ExecuteTime": {
     "end_time": "2020-11-27T09:09:06.229361Z",
     "start_time": "2020-11-27T09:09:03.977502Z"
    }
   },
   "outputs": [],
   "source": [
    "# <чтение файла с данными с сохранением в df>\n",
    "from io import BytesIO\n",
    "import requests\n",
    "\n",
    "spreadsheet_id = '1kl3ifbGQXW1Q0GgN5-3HSYLopaGoZov9CDPQFfrRkks'\n",
    "file_name = 'https://docs.google.com/spreadsheets/d/{}/export?format=csv'.format(spreadsheet_id)\n",
    "r = requests.get(file_name)\n",
    "df = pd.read_csv(BytesIO(r.content))"
   ]
  },
  {
   "cell_type": "markdown",
   "metadata": {},
   "source": [
    "Получение первых 10 строк таблицы."
   ]
  },
  {
   "cell_type": "code",
   "execution_count": 3,
   "metadata": {
    "ExecuteTime": {
     "end_time": "2020-11-27T09:09:06.277965Z",
     "start_time": "2020-11-27T09:09:06.233646Z"
    }
   },
   "outputs": [
    {
     "data": {
      "text/plain": "                        Name Platform  Year_of_Release         Genre  \\\n0                 Wii Sports      Wii           2006.0        Sports   \n1          Super Mario Bros.      NES           1985.0      Platform   \n2             Mario Kart Wii      Wii           2008.0        Racing   \n3          Wii Sports Resort      Wii           2009.0        Sports   \n4   Pokemon Red/Pokemon Blue       GB           1996.0  Role-Playing   \n5                     Tetris       GB           1989.0        Puzzle   \n6      New Super Mario Bros.       DS           2006.0      Platform   \n7                   Wii Play      Wii           2006.0          Misc   \n8  New Super Mario Bros. Wii      Wii           2009.0      Platform   \n9                  Duck Hunt      NES           1984.0       Shooter   \n\n   NA_sales  EU_sales  JP_sales  Other_sales  Critic_Score User_Score Rating  \n0     41.36     28.96      3.77         8.45          76.0          8      E  \n1     29.08      3.58      6.81         0.77           NaN        NaN    NaN  \n2     15.68     12.76      3.79         3.29          82.0        8.3      E  \n3     15.61     10.93      3.28         2.95          80.0          8      E  \n4     11.27      8.89     10.22         1.00           NaN        NaN    NaN  \n5     23.20      2.26      4.22         0.58           NaN        NaN    NaN  \n6     11.28      9.14      6.50         2.88          89.0        8.5      E  \n7     13.96      9.18      2.93         2.84          58.0        6.6      E  \n8     14.44      6.94      4.70         2.24          87.0        8.4      E  \n9     26.93      0.63      0.28         0.47           NaN        NaN    NaN  ",
      "text/html": "<div>\n<style scoped>\n    .dataframe tbody tr th:only-of-type {\n        vertical-align: middle;\n    }\n\n    .dataframe tbody tr th {\n        vertical-align: top;\n    }\n\n    .dataframe thead th {\n        text-align: right;\n    }\n</style>\n<table border=\"1\" class=\"dataframe\">\n  <thead>\n    <tr style=\"text-align: right;\">\n      <th></th>\n      <th>Name</th>\n      <th>Platform</th>\n      <th>Year_of_Release</th>\n      <th>Genre</th>\n      <th>NA_sales</th>\n      <th>EU_sales</th>\n      <th>JP_sales</th>\n      <th>Other_sales</th>\n      <th>Critic_Score</th>\n      <th>User_Score</th>\n      <th>Rating</th>\n    </tr>\n  </thead>\n  <tbody>\n    <tr>\n      <th>0</th>\n      <td>Wii Sports</td>\n      <td>Wii</td>\n      <td>2006.0</td>\n      <td>Sports</td>\n      <td>41.36</td>\n      <td>28.96</td>\n      <td>3.77</td>\n      <td>8.45</td>\n      <td>76.0</td>\n      <td>8</td>\n      <td>E</td>\n    </tr>\n    <tr>\n      <th>1</th>\n      <td>Super Mario Bros.</td>\n      <td>NES</td>\n      <td>1985.0</td>\n      <td>Platform</td>\n      <td>29.08</td>\n      <td>3.58</td>\n      <td>6.81</td>\n      <td>0.77</td>\n      <td>NaN</td>\n      <td>NaN</td>\n      <td>NaN</td>\n    </tr>\n    <tr>\n      <th>2</th>\n      <td>Mario Kart Wii</td>\n      <td>Wii</td>\n      <td>2008.0</td>\n      <td>Racing</td>\n      <td>15.68</td>\n      <td>12.76</td>\n      <td>3.79</td>\n      <td>3.29</td>\n      <td>82.0</td>\n      <td>8.3</td>\n      <td>E</td>\n    </tr>\n    <tr>\n      <th>3</th>\n      <td>Wii Sports Resort</td>\n      <td>Wii</td>\n      <td>2009.0</td>\n      <td>Sports</td>\n      <td>15.61</td>\n      <td>10.93</td>\n      <td>3.28</td>\n      <td>2.95</td>\n      <td>80.0</td>\n      <td>8</td>\n      <td>E</td>\n    </tr>\n    <tr>\n      <th>4</th>\n      <td>Pokemon Red/Pokemon Blue</td>\n      <td>GB</td>\n      <td>1996.0</td>\n      <td>Role-Playing</td>\n      <td>11.27</td>\n      <td>8.89</td>\n      <td>10.22</td>\n      <td>1.00</td>\n      <td>NaN</td>\n      <td>NaN</td>\n      <td>NaN</td>\n    </tr>\n    <tr>\n      <th>5</th>\n      <td>Tetris</td>\n      <td>GB</td>\n      <td>1989.0</td>\n      <td>Puzzle</td>\n      <td>23.20</td>\n      <td>2.26</td>\n      <td>4.22</td>\n      <td>0.58</td>\n      <td>NaN</td>\n      <td>NaN</td>\n      <td>NaN</td>\n    </tr>\n    <tr>\n      <th>6</th>\n      <td>New Super Mario Bros.</td>\n      <td>DS</td>\n      <td>2006.0</td>\n      <td>Platform</td>\n      <td>11.28</td>\n      <td>9.14</td>\n      <td>6.50</td>\n      <td>2.88</td>\n      <td>89.0</td>\n      <td>8.5</td>\n      <td>E</td>\n    </tr>\n    <tr>\n      <th>7</th>\n      <td>Wii Play</td>\n      <td>Wii</td>\n      <td>2006.0</td>\n      <td>Misc</td>\n      <td>13.96</td>\n      <td>9.18</td>\n      <td>2.93</td>\n      <td>2.84</td>\n      <td>58.0</td>\n      <td>6.6</td>\n      <td>E</td>\n    </tr>\n    <tr>\n      <th>8</th>\n      <td>New Super Mario Bros. Wii</td>\n      <td>Wii</td>\n      <td>2009.0</td>\n      <td>Platform</td>\n      <td>14.44</td>\n      <td>6.94</td>\n      <td>4.70</td>\n      <td>2.24</td>\n      <td>87.0</td>\n      <td>8.4</td>\n      <td>E</td>\n    </tr>\n    <tr>\n      <th>9</th>\n      <td>Duck Hunt</td>\n      <td>NES</td>\n      <td>1984.0</td>\n      <td>Shooter</td>\n      <td>26.93</td>\n      <td>0.63</td>\n      <td>0.28</td>\n      <td>0.47</td>\n      <td>NaN</td>\n      <td>NaN</td>\n      <td>NaN</td>\n    </tr>\n  </tbody>\n</table>\n</div>"
     },
     "execution_count": 3,
     "metadata": {},
     "output_type": "execute_result"
    }
   ],
   "source": [
    "# <получение первых 10 строк таблицы df>\n",
    "df.head(10)"
   ]
  },
  {
   "cell_type": "markdown",
   "metadata": {},
   "source": [
    "Общая информация о данных таблицы *df*."
   ]
  },
  {
   "cell_type": "code",
   "execution_count": 4,
   "metadata": {
    "ExecuteTime": {
     "end_time": "2020-11-27T09:09:06.323304Z",
     "start_time": "2020-11-27T09:09:06.281981Z"
    }
   },
   "outputs": [
    {
     "name": "stdout",
     "output_type": "stream",
     "text": [
      "<class 'pandas.core.frame.DataFrame'>\n",
      "RangeIndex: 16715 entries, 0 to 16714\n",
      "Data columns (total 11 columns):\n",
      " #   Column           Non-Null Count  Dtype  \n",
      "---  ------           --------------  -----  \n",
      " 0   Name             16713 non-null  object \n",
      " 1   Platform         16715 non-null  object \n",
      " 2   Year_of_Release  16446 non-null  float64\n",
      " 3   Genre            16713 non-null  object \n",
      " 4   NA_sales         16715 non-null  float64\n",
      " 5   EU_sales         16715 non-null  float64\n",
      " 6   JP_sales         16715 non-null  float64\n",
      " 7   Other_sales      16715 non-null  float64\n",
      " 8   Critic_Score     8137 non-null   float64\n",
      " 9   User_Score       10014 non-null  object \n",
      " 10  Rating           9949 non-null   object \n",
      "dtypes: float64(6), object(5)\n",
      "memory usage: 1.4+ MB\n"
     ]
    }
   ],
   "source": [
    "# <получение общей информации о данных в таблице df>\n",
    "df.info()"
   ]
  },
  {
   "cell_type": "markdown",
   "metadata": {},
   "source": [
    "Рассмотрим полученную информацию подробнее.\n",
    "\n",
    "Всего в таблице 11 столбцов, типы данных столбцов - object, float64.\n",
    "\n",
    "Подробно разберём, какие в *df* столбцы и какую информацию они содержат:\n",
    "\n",
    "* Name — название игры\n",
    "* Platform — платформа\n",
    "* Year_of_Release — год выпуска\n",
    "* Genre — жанр игры\n",
    "* NA_sales — продажи в Северной Америке (миллионы проданных копий)\n",
    "* EU_sales — продажи в Европе (миллионы проданных копий)\n",
    "* JP_sales — продажи в Японии (миллионы проданных копий)\n",
    "* Other_sales — продажи в других странах (миллионы проданных копий)\n",
    "* Critic_Score — оценка критиков (максимум 100)\n",
    "* User_Score — оценка пользователей (максимум 10)\n",
    "* Rating — рейтинг от организации ESRB (англ. Entertainment Software Rating Board). Эта ассоциация определяет рейтинг компьютерных игр и присваивает им подходящую возрастную категорию.\n",
    "\n",
    "Количество значений в столбцах различается. Это говорит о том, что в данных есть нулевые значения.\n",
    "Заметим, что названия столбцов некорректны и их нужно привести к нижнему регистру."
   ]
  },
  {
   "cell_type": "markdown",
   "metadata": {},
   "source": [
    "### Вывод\n",
    "\n",
    "Каждая строка таблицы содержит информацию об определённой игре, которая продавалась ранее. Проблемы, которые нужно решать:\n",
    "\n",
    "* пропуски\n",
    "* некорректные значения\n",
    "* аномалии\n",
    "* замена типов данных\n",
    "* обработка дубликатов\n",
    "* категоризация данных\n",
    "\n",
    "Для проверки рабочих гипотез особенно ценны столбцы *rating* и *platform*."
   ]
  },
  {
   "cell_type": "markdown",
   "metadata": {},
   "source": [
    "# Шаг 2. Предобработка данных <a class=\"anchor\" id=\"second\"></a>\n",
    "\n",
    "## Приведение к нижнему регистру названия столбцов\n",
    "\n",
    "Переименуем столбцы для удобства дальнейшей работы. Проверим результат."
   ]
  },
  {
   "cell_type": "code",
   "execution_count": 5,
   "metadata": {
    "ExecuteTime": {
     "end_time": "2020-11-27T09:09:06.342174Z",
     "start_time": "2020-11-27T09:09:06.328719Z"
    },
    "scrolled": true
   },
   "outputs": [
    {
     "data": {
      "text/plain": "Index(['name', 'platform', 'year_of_release', 'genre', 'na_sales', 'eu_sales',\n       'jp_sales', 'other_sales', 'critic_score', 'user_score', 'rating'],\n      dtype='object')"
     },
     "execution_count": 5,
     "metadata": {},
     "output_type": "execute_result"
    }
   ],
   "source": [
    "# <Приведение к нижнему регистру столбцов методом lower>\n",
    "df.columns = df.columns.str.lower()\n",
    "# <проверка результатов - перечень названий столбцов>\n",
    "df.columns"
   ]
  },
  {
   "cell_type": "markdown",
   "metadata": {},
   "source": [
    "## Приведение типов и обработка пропусков\n",
    "\n",
    "Проверим данные на наличие пропусков вызовом набора методов для суммирования пропущенных значений."
   ]
  },
  {
   "cell_type": "code",
   "execution_count": 6,
   "metadata": {
    "ExecuteTime": {
     "end_time": "2020-11-27T09:09:06.381071Z",
     "start_time": "2020-11-27T09:09:06.345861Z"
    },
    "scrolled": true
   },
   "outputs": [
    {
     "data": {
      "text/plain": "name                  2\nplatform              0\nyear_of_release     269\ngenre                 2\nna_sales              0\neu_sales              0\njp_sales              0\nother_sales           0\ncritic_score       8578\nuser_score         6701\nrating             6766\ndtype: int64"
     },
     "execution_count": 6,
     "metadata": {},
     "output_type": "execute_result"
    }
   ],
   "source": [
    "# <суммарное количество пропусков, выявленных методом isnull() в таблице df>\n",
    "df.isnull().sum()"
   ]
  },
  {
   "cell_type": "markdown",
   "metadata": {},
   "source": [
    "Размер всех строк с пропущенными значениями может быть больше 50%, а значит просто избавиться от данных мы не можем. Но в столбце с именем и жанром пропуски состовляют всего 2 строчки (менее 1%), их угадать мы никак не сможем. Удалим их."
   ]
  },
  {
   "cell_type": "code",
   "execution_count": 7,
   "metadata": {
    "ExecuteTime": {
     "end_time": "2020-11-27T09:09:06.410154Z",
     "start_time": "2020-11-27T09:09:06.383749Z"
    }
   },
   "outputs": [],
   "source": [
    "#<удаление всех строк с пустыми name и genre со сбросом индексов>\n",
    "df = df.dropna(subset = ['name', 'genre']).reset_index(drop = True)"
   ]
  },
  {
   "cell_type": "markdown",
   "metadata": {},
   "source": [
    "Каждая игра выходила на определенной платформе. А каждой платформе характерен тот или иной период времени. Поэтому создадим таблицу, где будут храниться названия платформы и медианный год, издаваемых на ней игр."
   ]
  },
  {
   "cell_type": "code",
   "execution_count": 8,
   "metadata": {
    "ExecuteTime": {
     "end_time": "2020-11-27T09:09:06.452487Z",
     "start_time": "2020-11-27T09:09:06.413641Z"
    }
   },
   "outputs": [
    {
     "data": {
      "text/plain": "          year_of_release\nplatform                 \n2600               1982.0\n3DO                1995.0\n3DS                2013.0\nDC                 2000.0\nDS                 2008.0\nGB                 1997.0\nGBA                2003.0\nGC                 2003.0\nGEN                1993.0\nGG                 1992.0\nN64                1999.0\nNES                1986.5\nNG                 1994.5\nPC                 2010.0\nPCFX               1996.0\nPS                 1998.0\nPS2                2005.0\nPS3                2011.0\nPS4                2015.0\nPSP                2009.0\nPSV                2014.0\nSAT                1996.0\nSCD                1994.0\nSNES               1994.0\nTG16               1995.0\nWS                 2000.0\nWii                2009.0\nWiiU               2013.0\nX360               2010.0\nXB                 2004.0\nXOne               2015.0",
      "text/html": "<div>\n<style scoped>\n    .dataframe tbody tr th:only-of-type {\n        vertical-align: middle;\n    }\n\n    .dataframe tbody tr th {\n        vertical-align: top;\n    }\n\n    .dataframe thead th {\n        text-align: right;\n    }\n</style>\n<table border=\"1\" class=\"dataframe\">\n  <thead>\n    <tr style=\"text-align: right;\">\n      <th></th>\n      <th>year_of_release</th>\n    </tr>\n    <tr>\n      <th>platform</th>\n      <th></th>\n    </tr>\n  </thead>\n  <tbody>\n    <tr>\n      <th>2600</th>\n      <td>1982.0</td>\n    </tr>\n    <tr>\n      <th>3DO</th>\n      <td>1995.0</td>\n    </tr>\n    <tr>\n      <th>3DS</th>\n      <td>2013.0</td>\n    </tr>\n    <tr>\n      <th>DC</th>\n      <td>2000.0</td>\n    </tr>\n    <tr>\n      <th>DS</th>\n      <td>2008.0</td>\n    </tr>\n    <tr>\n      <th>GB</th>\n      <td>1997.0</td>\n    </tr>\n    <tr>\n      <th>GBA</th>\n      <td>2003.0</td>\n    </tr>\n    <tr>\n      <th>GC</th>\n      <td>2003.0</td>\n    </tr>\n    <tr>\n      <th>GEN</th>\n      <td>1993.0</td>\n    </tr>\n    <tr>\n      <th>GG</th>\n      <td>1992.0</td>\n    </tr>\n    <tr>\n      <th>N64</th>\n      <td>1999.0</td>\n    </tr>\n    <tr>\n      <th>NES</th>\n      <td>1986.5</td>\n    </tr>\n    <tr>\n      <th>NG</th>\n      <td>1994.5</td>\n    </tr>\n    <tr>\n      <th>PC</th>\n      <td>2010.0</td>\n    </tr>\n    <tr>\n      <th>PCFX</th>\n      <td>1996.0</td>\n    </tr>\n    <tr>\n      <th>PS</th>\n      <td>1998.0</td>\n    </tr>\n    <tr>\n      <th>PS2</th>\n      <td>2005.0</td>\n    </tr>\n    <tr>\n      <th>PS3</th>\n      <td>2011.0</td>\n    </tr>\n    <tr>\n      <th>PS4</th>\n      <td>2015.0</td>\n    </tr>\n    <tr>\n      <th>PSP</th>\n      <td>2009.0</td>\n    </tr>\n    <tr>\n      <th>PSV</th>\n      <td>2014.0</td>\n    </tr>\n    <tr>\n      <th>SAT</th>\n      <td>1996.0</td>\n    </tr>\n    <tr>\n      <th>SCD</th>\n      <td>1994.0</td>\n    </tr>\n    <tr>\n      <th>SNES</th>\n      <td>1994.0</td>\n    </tr>\n    <tr>\n      <th>TG16</th>\n      <td>1995.0</td>\n    </tr>\n    <tr>\n      <th>WS</th>\n      <td>2000.0</td>\n    </tr>\n    <tr>\n      <th>Wii</th>\n      <td>2009.0</td>\n    </tr>\n    <tr>\n      <th>WiiU</th>\n      <td>2013.0</td>\n    </tr>\n    <tr>\n      <th>X360</th>\n      <td>2010.0</td>\n    </tr>\n    <tr>\n      <th>XB</th>\n      <td>2004.0</td>\n    </tr>\n    <tr>\n      <th>XOne</th>\n      <td>2015.0</td>\n    </tr>\n  </tbody>\n</table>\n</div>"
     },
     "execution_count": 8,
     "metadata": {},
     "output_type": "execute_result"
    }
   ],
   "source": [
    "#<Создание таблицы со медианным годом>\n",
    "platform_year = df.pivot_table(index = 'platform', values = 'year_of_release', aggfunc = 'median')\n",
    "platform_year"
   ]
  },
  {
   "cell_type": "markdown",
   "metadata": {},
   "source": [
    "Заменим прропущенные года издания на средние из таблицы."
   ]
  },
  {
   "cell_type": "code",
   "execution_count": 9,
   "metadata": {
    "ExecuteTime": {
     "end_time": "2020-11-27T09:09:06.515435Z",
     "start_time": "2020-11-27T09:09:06.464459Z"
    }
   },
   "outputs": [],
   "source": [
    "#<Функция для получения среднего года издания для платформы>\n",
    "def get_year (row):\n",
    "    platform = row['platform']\n",
    "    return platform_year.loc[platform, 'year_of_release']\n",
    "\n",
    "#<Применение функции>\n",
    "df.loc[df['year_of_release'].isna(), 'year_of_release'] = df.loc[df['year_of_release'].isna()].apply(get_year, axis = 1)"
   ]
  },
  {
   "cell_type": "markdown",
   "metadata": {},
   "source": [
    "Год издания не может быть дробным, приведем его к типу **int**."
   ]
  },
  {
   "cell_type": "code",
   "execution_count": 10,
   "metadata": {
    "ExecuteTime": {
     "end_time": "2020-11-27T09:09:06.532456Z",
     "start_time": "2020-11-27T09:09:06.522652Z"
    }
   },
   "outputs": [],
   "source": [
    "#<приведение типов методом astype>\n",
    "df['year_of_release'] = df['year_of_release'].astype('int')"
   ]
  },
  {
   "cell_type": "markdown",
   "metadata": {},
   "source": [
    "У столбца *critic_score* тип **float**, а у *user_score* **object**. Значит в столбце *user_score* есть данные типа **str**. Посмотрим уникальные значения столбца."
   ]
  },
  {
   "cell_type": "code",
   "execution_count": 11,
   "metadata": {
    "ExecuteTime": {
     "end_time": "2020-11-27T09:09:06.554300Z",
     "start_time": "2020-11-27T09:09:06.540729Z"
    }
   },
   "outputs": [
    {
     "data": {
      "text/plain": "array(['8', nan, '8.3', '8.5', '6.6', '8.4', '8.6', '7.7', '6.3', '7.4',\n       '8.2', '9', '7.9', '8.1', '8.7', '7.1', '3.4', '5.3', '4.8', '3.2',\n       '8.9', '6.4', '7.8', '7.5', '2.6', '7.2', '9.2', '7', '7.3', '4.3',\n       '7.6', '5.7', '5', '9.1', '6.5', 'tbd', '8.8', '6.9', '9.4', '6.8',\n       '6.1', '6.7', '5.4', '4', '4.9', '4.5', '9.3', '6.2', '4.2', '6',\n       '3.7', '4.1', '5.8', '5.6', '5.5', '4.4', '4.6', '5.9', '3.9',\n       '3.1', '2.9', '5.2', '3.3', '4.7', '5.1', '3.5', '2.5', '1.9', '3',\n       '2.7', '2.2', '2', '9.5', '2.1', '3.6', '2.8', '1.8', '3.8', '0',\n       '1.6', '9.6', '2.4', '1.7', '1.1', '0.3', '1.5', '0.7', '1.2',\n       '2.3', '0.5', '1.3', '0.2', '0.6', '1.4', '0.9', '1', '9.7'],\n      dtype=object)"
     },
     "execution_count": 11,
     "metadata": {},
     "output_type": "execute_result"
    }
   ],
   "source": [
    "#<получение уникальных значений методом unique>\n",
    "df['user_score'].unique()"
   ]
  },
  {
   "cell_type": "markdown",
   "metadata": {},
   "source": [
    "Мы можем видеть значение `tbd` - to be determined. То есть оценка еще не выставлена.\n",
    "\n",
    "Посмотри уникальные значения в столбце *rating*"
   ]
  },
  {
   "cell_type": "code",
   "execution_count": 12,
   "metadata": {
    "ExecuteTime": {
     "end_time": "2020-11-27T09:09:06.580016Z",
     "start_time": "2020-11-27T09:09:06.557543Z"
    }
   },
   "outputs": [
    {
     "data": {
      "text/plain": "array(['E', nan, 'M', 'T', 'E10+', 'K-A', 'AO', 'EC', 'RP'], dtype=object)"
     },
     "execution_count": 12,
     "metadata": {},
     "output_type": "execute_result"
    }
   ],
   "source": [
    "#<получение уникальных значений методом unique>\n",
    "df['rating'].unique()"
   ]
  },
  {
   "cell_type": "markdown",
   "metadata": {},
   "source": [
    "Здесь нет `tbd`. Заменим это значение и все пропуски на -1 в столбце *user_score* и приведем его к типу float."
   ]
  },
  {
   "cell_type": "code",
   "execution_count": 13,
   "metadata": {
    "ExecuteTime": {
     "end_time": "2020-11-27T09:09:06.613931Z",
     "start_time": "2020-11-27T09:09:06.584777Z"
    },
    "scrolled": true
   },
   "outputs": [],
   "source": [
    "#<замена значений методом replace>\n",
    "df['user_score'] = df['user_score'].replace('tbd', -1)\n",
    "#<замена пропущенных значений>\n",
    "df['user_score'] = df['user_score'].fillna(-1)\n",
    "#<приведение типов методом astype>\n",
    "df['user_score'] = df['user_score'].astype('float')"
   ]
  },
  {
   "cell_type": "markdown",
   "metadata": {},
   "source": [
    "Создадим таблицу, в которую поместим данные о медианной оценке критиков, пользователей и рейтинге для каждого жанра."
   ]
  },
  {
   "cell_type": "code",
   "execution_count": 14,
   "metadata": {
    "ExecuteTime": {
     "end_time": "2020-11-27T09:09:06.669322Z",
     "start_time": "2020-11-27T09:09:06.618382Z"
    }
   },
   "outputs": [],
   "source": [
    "#<Создание таблицы с медианной оценкой критиков>\n",
    "genre_rating = df.pivot_table(index = 'genre', values = 'critic_score', aggfunc = 'median')\n",
    "#<добавляем столбец с пользовательской оценков (не учитываем поставленное нами значение -1)>\n",
    "genre_rating['user_score'] = df.query('user_score != -1').pivot_table(index = 'genre', values = 'user_score', aggfunc = 'median')\n",
    "#<округляем данные в таблице>\n",
    "genre_rating = round(genre_rating, 2)"
   ]
  },
  {
   "cell_type": "markdown",
   "metadata": {},
   "source": [
    "При вызове метода **value_counts()** получается объект Series, где пары ключ-количество отсортированы в порядке убывания количества. Т.е. первым всегда идет самое повторяющееся значение. Его и возьмем за среднее."
   ]
  },
  {
   "cell_type": "code",
   "execution_count": 15,
   "metadata": {
    "ExecuteTime": {
     "end_time": "2020-11-27T09:09:06.832320Z",
     "start_time": "2020-11-27T09:09:06.674545Z"
    },
    "scrolled": true
   },
   "outputs": [
    {
     "data": {
      "text/plain": "              critic_score  user_score rating\ngenre                                        \nAction                68.0         7.4      T\nAdventure             66.0         7.6      E\nFighting              72.0         7.6      T\nMisc                  69.0         7.1      E\nPlatform              69.0         7.7      E\nPuzzle                70.0         7.5      E\nRacing                69.0         7.4      E\nRole-Playing          74.0         7.8      T\nShooter               73.0         7.4      M\nSimulation            70.0         7.5      E\nSports                75.0         7.4      E\nStrategy              73.0         7.8      T",
      "text/html": "<div>\n<style scoped>\n    .dataframe tbody tr th:only-of-type {\n        vertical-align: middle;\n    }\n\n    .dataframe tbody tr th {\n        vertical-align: top;\n    }\n\n    .dataframe thead th {\n        text-align: right;\n    }\n</style>\n<table border=\"1\" class=\"dataframe\">\n  <thead>\n    <tr style=\"text-align: right;\">\n      <th></th>\n      <th>critic_score</th>\n      <th>user_score</th>\n      <th>rating</th>\n    </tr>\n    <tr>\n      <th>genre</th>\n      <th></th>\n      <th></th>\n      <th></th>\n    </tr>\n  </thead>\n  <tbody>\n    <tr>\n      <th>Action</th>\n      <td>68.0</td>\n      <td>7.4</td>\n      <td>T</td>\n    </tr>\n    <tr>\n      <th>Adventure</th>\n      <td>66.0</td>\n      <td>7.6</td>\n      <td>E</td>\n    </tr>\n    <tr>\n      <th>Fighting</th>\n      <td>72.0</td>\n      <td>7.6</td>\n      <td>T</td>\n    </tr>\n    <tr>\n      <th>Misc</th>\n      <td>69.0</td>\n      <td>7.1</td>\n      <td>E</td>\n    </tr>\n    <tr>\n      <th>Platform</th>\n      <td>69.0</td>\n      <td>7.7</td>\n      <td>E</td>\n    </tr>\n    <tr>\n      <th>Puzzle</th>\n      <td>70.0</td>\n      <td>7.5</td>\n      <td>E</td>\n    </tr>\n    <tr>\n      <th>Racing</th>\n      <td>69.0</td>\n      <td>7.4</td>\n      <td>E</td>\n    </tr>\n    <tr>\n      <th>Role-Playing</th>\n      <td>74.0</td>\n      <td>7.8</td>\n      <td>T</td>\n    </tr>\n    <tr>\n      <th>Shooter</th>\n      <td>73.0</td>\n      <td>7.4</td>\n      <td>M</td>\n    </tr>\n    <tr>\n      <th>Simulation</th>\n      <td>70.0</td>\n      <td>7.5</td>\n      <td>E</td>\n    </tr>\n    <tr>\n      <th>Sports</th>\n      <td>75.0</td>\n      <td>7.4</td>\n      <td>E</td>\n    </tr>\n    <tr>\n      <th>Strategy</th>\n      <td>73.0</td>\n      <td>7.8</td>\n      <td>T</td>\n    </tr>\n  </tbody>\n</table>\n</div>"
     },
     "execution_count": 15,
     "metadata": {},
     "output_type": "execute_result"
    }
   ],
   "source": [
    "#<для каждой строки таблицы>\n",
    "for i in genre_rating.index:\n",
    "    #<выбираем количество для каждого жанра>\n",
    "    for j in df.query('genre == @i')['rating'].value_counts().index:\n",
    "        #<присваиваем первый индекс>\n",
    "        genre_rating.loc[i, 'rating'] = j\n",
    "        #<выходим>\n",
    "        break\n",
    "        \n",
    "genre_rating"
   ]
  },
  {
   "cell_type": "markdown",
   "metadata": {},
   "source": [
    "Напишем функции, для замены пустых значений средними из таблицы."
   ]
  },
  {
   "cell_type": "code",
   "execution_count": 16,
   "metadata": {
    "ExecuteTime": {
     "end_time": "2020-11-27T09:09:08.510008Z",
     "start_time": "2020-11-27T09:09:06.838928Z"
    }
   },
   "outputs": [],
   "source": [
    "#<Функция для получения медианной оценки критиков для жанра>\n",
    "def get_critic_score (row):\n",
    "    genre = row['genre']\n",
    "    return genre_rating.loc[genre, 'critic_score']\n",
    "\n",
    "#<Применение функции>\n",
    "df.loc[df['critic_score'].isna(), 'critic_score'] = df.loc[df['critic_score'].isna()].apply(get_critic_score, axis = 1)\n",
    "\n",
    "#<Функция для получения медианной оценки пользователей для жанра>\n",
    "def get_user_score (row):\n",
    "    genre = row['genre']\n",
    "    return genre_rating.loc[genre, 'user_score']\n",
    "\n",
    "#<Применение функции>\n",
    "df.loc[df['user_score'] == -1, 'user_score'] = df.loc[df['user_score'] == -1].apply(get_user_score, axis = 1)\n",
    "\n",
    "#<Функция для получения медианной рейтинга для жанра>\n",
    "def get_rating (row):\n",
    "    genre = row['genre']\n",
    "    return genre_rating.loc[genre, 'rating']\n",
    "\n",
    "#<Применение функции>\n",
    "df.loc[df['rating'].isna(), 'rating'] = df.loc[df['rating'].isna()].apply(get_rating, axis = 1)\n",
    "\n",
    "#<округление сзначений стобцов до 2 знаков после запятой>\n",
    "df[['critic_score', 'user_score']] = round(df[['critic_score', 'user_score']], 2)"
   ]
  },
  {
   "cell_type": "code",
   "execution_count": 17,
   "metadata": {
    "ExecuteTime": {
     "end_time": "2020-11-27T09:09:08.536027Z",
     "start_time": "2020-11-27T09:09:08.512194Z"
    },
    "scrolled": true
   },
   "outputs": [
    {
     "name": "stdout",
     "output_type": "stream",
     "text": [
      "<class 'pandas.core.frame.DataFrame'>\n",
      "RangeIndex: 16713 entries, 0 to 16712\n",
      "Data columns (total 11 columns):\n",
      " #   Column           Non-Null Count  Dtype  \n",
      "---  ------           --------------  -----  \n",
      " 0   name             16713 non-null  object \n",
      " 1   platform         16713 non-null  object \n",
      " 2   year_of_release  16713 non-null  int32  \n",
      " 3   genre            16713 non-null  object \n",
      " 4   na_sales         16713 non-null  float64\n",
      " 5   eu_sales         16713 non-null  float64\n",
      " 6   jp_sales         16713 non-null  float64\n",
      " 7   other_sales      16713 non-null  float64\n",
      " 8   critic_score     16713 non-null  float64\n",
      " 9   user_score       16713 non-null  float64\n",
      " 10  rating           16713 non-null  object \n",
      "dtypes: float64(6), int32(1), object(4)\n",
      "memory usage: 1.3+ MB\n"
     ]
    }
   ],
   "source": [
    "df.info()"
   ]
  },
  {
   "cell_type": "markdown",
   "metadata": {},
   "source": [
    "## Суммарные продажи во всех регионах\n",
    "\n",
    "Посчитаем суммарные продажи и добавим в столбец *all_sales*."
   ]
  },
  {
   "cell_type": "code",
   "execution_count": 18,
   "metadata": {
    "ExecuteTime": {
     "end_time": "2020-11-27T09:09:08.580850Z",
     "start_time": "2020-11-27T09:09:08.540064Z"
    },
    "scrolled": true
   },
   "outputs": [
    {
     "data": {
      "text/plain": "                       name platform  year_of_release         genre  na_sales  \\\n0                Wii Sports      Wii             2006        Sports     41.36   \n1         Super Mario Bros.      NES             1985      Platform     29.08   \n2            Mario Kart Wii      Wii             2008        Racing     15.68   \n3         Wii Sports Resort      Wii             2009        Sports     15.61   \n4  Pokemon Red/Pokemon Blue       GB             1996  Role-Playing     11.27   \n\n   eu_sales  jp_sales  other_sales  critic_score  user_score rating  all_sales  \n0     28.96      3.77         8.45          76.0         8.0      E      82.54  \n1      3.58      6.81         0.77          69.0         7.7      E      40.24  \n2     12.76      3.79         3.29          82.0         8.3      E      35.52  \n3     10.93      3.28         2.95          80.0         8.0      E      32.77  \n4      8.89     10.22         1.00          74.0         7.8      T      31.38  ",
      "text/html": "<div>\n<style scoped>\n    .dataframe tbody tr th:only-of-type {\n        vertical-align: middle;\n    }\n\n    .dataframe tbody tr th {\n        vertical-align: top;\n    }\n\n    .dataframe thead th {\n        text-align: right;\n    }\n</style>\n<table border=\"1\" class=\"dataframe\">\n  <thead>\n    <tr style=\"text-align: right;\">\n      <th></th>\n      <th>name</th>\n      <th>platform</th>\n      <th>year_of_release</th>\n      <th>genre</th>\n      <th>na_sales</th>\n      <th>eu_sales</th>\n      <th>jp_sales</th>\n      <th>other_sales</th>\n      <th>critic_score</th>\n      <th>user_score</th>\n      <th>rating</th>\n      <th>all_sales</th>\n    </tr>\n  </thead>\n  <tbody>\n    <tr>\n      <th>0</th>\n      <td>Wii Sports</td>\n      <td>Wii</td>\n      <td>2006</td>\n      <td>Sports</td>\n      <td>41.36</td>\n      <td>28.96</td>\n      <td>3.77</td>\n      <td>8.45</td>\n      <td>76.0</td>\n      <td>8.0</td>\n      <td>E</td>\n      <td>82.54</td>\n    </tr>\n    <tr>\n      <th>1</th>\n      <td>Super Mario Bros.</td>\n      <td>NES</td>\n      <td>1985</td>\n      <td>Platform</td>\n      <td>29.08</td>\n      <td>3.58</td>\n      <td>6.81</td>\n      <td>0.77</td>\n      <td>69.0</td>\n      <td>7.7</td>\n      <td>E</td>\n      <td>40.24</td>\n    </tr>\n    <tr>\n      <th>2</th>\n      <td>Mario Kart Wii</td>\n      <td>Wii</td>\n      <td>2008</td>\n      <td>Racing</td>\n      <td>15.68</td>\n      <td>12.76</td>\n      <td>3.79</td>\n      <td>3.29</td>\n      <td>82.0</td>\n      <td>8.3</td>\n      <td>E</td>\n      <td>35.52</td>\n    </tr>\n    <tr>\n      <th>3</th>\n      <td>Wii Sports Resort</td>\n      <td>Wii</td>\n      <td>2009</td>\n      <td>Sports</td>\n      <td>15.61</td>\n      <td>10.93</td>\n      <td>3.28</td>\n      <td>2.95</td>\n      <td>80.0</td>\n      <td>8.0</td>\n      <td>E</td>\n      <td>32.77</td>\n    </tr>\n    <tr>\n      <th>4</th>\n      <td>Pokemon Red/Pokemon Blue</td>\n      <td>GB</td>\n      <td>1996</td>\n      <td>Role-Playing</td>\n      <td>11.27</td>\n      <td>8.89</td>\n      <td>10.22</td>\n      <td>1.00</td>\n      <td>74.0</td>\n      <td>7.8</td>\n      <td>T</td>\n      <td>31.38</td>\n    </tr>\n  </tbody>\n</table>\n</div>"
     },
     "execution_count": 18,
     "metadata": {},
     "output_type": "execute_result"
    }
   ],
   "source": [
    "#<добавление новог столбца путем ссумирования существующих>\n",
    "df['all_sales'] = df['na_sales'] + df['eu_sales'] + df['jp_sales'] + df['other_sales']\n",
    "df.head()"
   ]
  },
  {
   "cell_type": "markdown",
   "metadata": {},
   "source": [
    "### Вывод\n",
    "\n",
    "Заменены пропуски в столбцах:\n",
    "* year_of_release\t- медианное значение для платформы\n",
    "* critic_score - среднее для жанра\n",
    "* user_score - среднее для жанра\n",
    "* rating - самое популярное для жанра\n",
    "\n",
    "Удалены строки с пропусками в столбцах *name, genre*(потеря меньше 1%).\n",
    "\n",
    "Приведены к типам следующие столбцы:\n",
    "* year_of_release - int\n",
    "* user_score - float\n",
    "\n",
    "Добавлен новый столбец *all_sales* с суммами продаж во всех регионах."
   ]
  },
  {
   "cell_type": "markdown",
   "metadata": {},
   "source": [
    "# Шаг 3. Исследовательский анализ данных<a class=\"anchor\" id=\"third\"></a>\n",
    "\n",
    "## Сколько игр выпускалось в разные годы\n",
    "\n",
    "Посмотрим на данные по годам с помощью метода **describe** и построим гистограмму."
   ]
  },
  {
   "cell_type": "code",
   "execution_count": 19,
   "metadata": {
    "ExecuteTime": {
     "end_time": "2020-11-27T09:09:08.628205Z",
     "start_time": "2020-11-27T09:09:08.597290Z"
    }
   },
   "outputs": [
    {
     "data": {
      "text/plain": "count    16713.000000\nmean      2006.474960\nstd          5.896089\nmin       1980.000000\n25%       2003.000000\n50%       2007.000000\n75%       2010.000000\nmax       2016.000000\nName: year_of_release, dtype: float64"
     },
     "execution_count": 19,
     "metadata": {},
     "output_type": "execute_result"
    }
   ],
   "source": [
    "#<получение данных методом describe>\n",
    "df['year_of_release'].describe()"
   ]
  },
  {
   "cell_type": "code",
   "execution_count": 20,
   "metadata": {
    "ExecuteTime": {
     "end_time": "2020-11-27T09:09:09.018785Z",
     "start_time": "2020-11-27T09:09:08.632534Z"
    }
   },
   "outputs": [
    {
     "data": {
      "text/plain": "Text(0.5, 1.0, 'Количество выпущенных игр')"
     },
     "execution_count": 20,
     "metadata": {},
     "output_type": "execute_result"
    },
    {
     "data": {
      "text/plain": "<Figure size 648x432 with 1 Axes>",
      "image/png": "[encoded data removed]"
     },
     "metadata": {
      "needs_background": "light"
     },
     "output_type": "display_data"
    }
   ],
   "source": [
    "#<построение гистограммы методом hist>\n",
    "df['year_of_release'].hist(bins = 37, figsize = (9, 6))\n",
    "#<задаем оси графика>\n",
    "plt.xlabel('year')\n",
    "plt.ylabel('count')\n",
    "plt.title('Количество выпущенных игр')"
   ]
  },
  {
   "cell_type": "markdown",
   "metadata": {},
   "source": [
    "Можем наблюдать отрицательную скошенность(влево). Также видим два пика на 1980 и 2010, возможно это связано с тем, что в 1980 игры только появлялись и все хотели попробовать их написать/ в них поиграть, а может это ошибки. Решим, что с этим делать далее. Заметим, что с 2011 по 2016 количесвто выпускаемых игр практически одинаково (500-600)."
   ]
  },
  {
   "cell_type": "markdown",
   "metadata": {},
   "source": [
    "## Как менялись продажи по платформам\n",
    "\n",
    "Найдем топ-5 самых популярных платформ, по продажам игр. Для это создадим сводную таблицу с суммами для каждой платформы и не забудем отсортировать ее в порядке убывания."
   ]
  },
  {
   "cell_type": "code",
   "execution_count": 21,
   "metadata": {
    "ExecuteTime": {
     "end_time": "2020-11-27T09:09:09.070923Z",
     "start_time": "2020-11-27T09:09:09.021780Z"
    },
    "scrolled": true
   },
   "outputs": [
    {
     "data": {
      "text/plain": "          all_sales\nplatform           \nPS2         1255.77\nX360         971.42\nPS3          939.65\nWii          907.51\nDS           806.12",
      "text/html": "<div>\n<style scoped>\n    .dataframe tbody tr th:only-of-type {\n        vertical-align: middle;\n    }\n\n    .dataframe tbody tr th {\n        vertical-align: top;\n    }\n\n    .dataframe thead th {\n        text-align: right;\n    }\n</style>\n<table border=\"1\" class=\"dataframe\">\n  <thead>\n    <tr style=\"text-align: right;\">\n      <th></th>\n      <th>all_sales</th>\n    </tr>\n    <tr>\n      <th>platform</th>\n      <th></th>\n    </tr>\n  </thead>\n  <tbody>\n    <tr>\n      <th>PS2</th>\n      <td>1255.77</td>\n    </tr>\n    <tr>\n      <th>X360</th>\n      <td>971.42</td>\n    </tr>\n    <tr>\n      <th>PS3</th>\n      <td>939.65</td>\n    </tr>\n    <tr>\n      <th>Wii</th>\n      <td>907.51</td>\n    </tr>\n    <tr>\n      <th>DS</th>\n      <td>806.12</td>\n    </tr>\n  </tbody>\n</table>\n</div>"
     },
     "execution_count": 21,
     "metadata": {},
     "output_type": "execute_result"
    }
   ],
   "source": [
    "#<pivot table с функцией суммы и сортировка>\n",
    "sales_by_platform = df.pivot_table(index = 'platform', values = 'all_sales', aggfunc = 'sum').sort_values('all_sales', ascending = False).head()\n",
    "sales_by_platform"
   ]
  },
  {
   "cell_type": "markdown",
   "metadata": {},
   "source": [
    "Посмотрим на данные этих платформ через **describe**."
   ]
  },
  {
   "cell_type": "code",
   "execution_count": 22,
   "metadata": {
    "ExecuteTime": {
     "end_time": "2020-11-27T09:09:09.193878Z",
     "start_time": "2020-11-27T09:09:09.074484Z"
    },
    "scrolled": true
   },
   "outputs": [
    {
     "name": "stdout",
     "output_type": "stream",
     "text": [
      "PS2\n",
      "count    2161.000000\n",
      "mean     2004.590467\n",
      "std         2.547926\n",
      "min      2000.000000\n",
      "25%      2002.000000\n",
      "50%      2005.000000\n",
      "75%      2007.000000\n",
      "max      2011.000000\n",
      "Name: year_of_release, dtype: float64\n",
      "X360\n",
      "count    1262.000000\n",
      "mean     2009.883518\n",
      "std         2.428988\n",
      "min      2005.000000\n",
      "25%      2008.000000\n",
      "50%      2010.000000\n",
      "75%      2011.000000\n",
      "max      2016.000000\n",
      "Name: year_of_release, dtype: float64\n",
      "PS3\n",
      "count    1331.000000\n",
      "mean     2010.843727\n",
      "std         2.436486\n",
      "min      2006.000000\n",
      "25%      2009.000000\n",
      "50%      2011.000000\n",
      "75%      2013.000000\n",
      "max      2016.000000\n",
      "Name: year_of_release, dtype: float64\n",
      "Wii\n",
      "count    1320.000000\n",
      "mean     2008.967424\n",
      "std         1.522039\n",
      "min      2006.000000\n",
      "25%      2008.000000\n",
      "50%      2009.000000\n",
      "75%      2010.000000\n",
      "max      2016.000000\n",
      "Name: year_of_release, dtype: float64\n",
      "DS\n",
      "count    2151.000000\n",
      "mean     2008.182706\n",
      "std         1.766246\n",
      "min      1985.000000\n",
      "25%      2007.000000\n",
      "50%      2008.000000\n",
      "75%      2009.000000\n",
      "max      2013.000000\n",
      "Name: year_of_release, dtype: float64\n"
     ]
    }
   ],
   "source": [
    "#<для каждой полученной платформы>\n",
    "for i in sales_by_platform.index:\n",
    "    print(i)\n",
    "    #<получение данных методом describe>\n",
    "    print(df.query('platform == @i')['year_of_release'].describe())"
   ]
  },
  {
   "cell_type": "markdown",
   "metadata": {},
   "source": [
    "Мы нашли аномалию. Платформа DS  была выпущена в 2004 году, а игры уже выпустились в 1985. Возможно такие ошибки есть и еще, что и привело к увеличению количсетва игр за 1980-1990. Отсечем эти данные как выбросы."
   ]
  },
  {
   "cell_type": "code",
   "execution_count": 23,
   "metadata": {
    "ExecuteTime": {
     "end_time": "2020-11-27T09:09:09.218442Z",
     "start_time": "2020-11-27T09:09:09.199537Z"
    },
    "scrolled": true
   },
   "outputs": [],
   "source": [
    "#<отсечение данных>\n",
    "df = df.query('year_of_release > 1990')"
   ]
  },
  {
   "cell_type": "markdown",
   "metadata": {},
   "source": [
    "Построим гистограммы для каждой популярной платформы."
   ]
  },
  {
   "cell_type": "code",
   "execution_count": 24,
   "metadata": {
    "ExecuteTime": {
     "end_time": "2020-11-27T09:09:11.042779Z",
     "start_time": "2020-11-27T09:09:09.227647Z"
    },
    "scrolled": false
   },
   "outputs": [
    {
     "data": {
      "text/plain": "<Figure size 432x288 with 1 Axes>",
      "image/png": "[encoded data removed]"
     },
     "metadata": {
      "needs_background": "light"
     },
     "output_type": "display_data"
    },
    {
     "data": {
      "text/plain": "<Figure size 432x288 with 1 Axes>",
      "image/png": "[encoded data removed]"
     },
     "metadata": {
      "needs_background": "light"
     },
     "output_type": "display_data"
    },
    {
     "data": {
      "text/plain": "<Figure size 432x288 with 1 Axes>",
      "image/png": "[encoded data removed]"
     },
     "metadata": {
      "needs_background": "light"
     },
     "output_type": "display_data"
    },
    {
     "data": {
      "text/plain": "<Figure size 432x288 with 1 Axes>",
      "image/png": "[encoded data removed]"
     },
     "metadata": {
      "needs_background": "light"
     },
     "output_type": "display_data"
    },
    {
     "data": {
      "text/plain": "<Figure size 432x288 with 1 Axes>",
      "image/png": "[encoded data removed]"
     },
     "metadata": {
      "needs_background": "light"
     },
     "output_type": "display_data"
    }
   ],
   "source": [
    "#<для каждой полученной платформы>\n",
    "for i in sales_by_platform.index:\n",
    "    #<построение обычного графика методом plot>\n",
    "    df.query('platform == @i').pivot_table(index = 'year_of_release', values='all_sales',aggfunc = 'sum').plot()\n",
    "    #<задаем оси графика>\n",
    "    plt.xlabel('year')\n",
    "    plt.ylabel('sales')\n",
    "    plt.title(i)"
   ]
  },
  {
   "cell_type": "markdown",
   "metadata": {},
   "source": [
    "От этапа создания консоли до этапа упадка в среднем проходит 10 лет. Исключение это самая популярная консоль в мире - PS2. Также в среднем на пике популярночти консоли находятся 5-6 лет."
   ]
  },
  {
   "cell_type": "markdown",
   "metadata": {},
   "source": [
    "## Выбор данных за соответствующий актуальный период\n",
    "\n",
    "Возьмем данные за последние года размером равным половине \"жизни\" платформы (5 лет). За этот временной промежуток мы сможем точно понять на какой стадии находится консоль, как долгожительная, так и совсем разовая."
   ]
  },
  {
   "cell_type": "code",
   "execution_count": 25,
   "metadata": {
    "ExecuteTime": {
     "end_time": "2020-11-27T09:09:11.060240Z",
     "start_time": "2020-11-27T09:09:11.047125Z"
    }
   },
   "outputs": [],
   "source": [
    "#<отсечение данных>\n",
    "df = df.query('year_of_release > 2011')"
   ]
  },
  {
   "cell_type": "markdown",
   "metadata": {},
   "source": [
    "## Какие платформы лидируют по продажам, растут или падают\n",
    "\n",
    "Создадим таблицу, в которой будем хранить информацию о каждой платформе. Сначала добавим туда столбец с общими суммами продаж и отсортируем по нему."
   ]
  },
  {
   "cell_type": "code",
   "execution_count": 26,
   "metadata": {
    "ExecuteTime": {
     "end_time": "2020-11-27T09:09:11.130915Z",
     "start_time": "2020-11-27T09:09:11.063000Z"
    }
   },
   "outputs": [
    {
     "data": {
      "text/plain": "          all_sales\nplatform           \nPS4          314.14\nPS3          288.79\nX360         236.54\n3DS          195.80\nXOne         159.32\nWiiU          82.19\nPC            62.65\nPSV           49.44\nWii           35.37\nDS            12.55\nPSP           11.19",
      "text/html": "<div>\n<style scoped>\n    .dataframe tbody tr th:only-of-type {\n        vertical-align: middle;\n    }\n\n    .dataframe tbody tr th {\n        vertical-align: top;\n    }\n\n    .dataframe thead th {\n        text-align: right;\n    }\n</style>\n<table border=\"1\" class=\"dataframe\">\n  <thead>\n    <tr style=\"text-align: right;\">\n      <th></th>\n      <th>all_sales</th>\n    </tr>\n    <tr>\n      <th>platform</th>\n      <th></th>\n    </tr>\n  </thead>\n  <tbody>\n    <tr>\n      <th>PS4</th>\n      <td>314.14</td>\n    </tr>\n    <tr>\n      <th>PS3</th>\n      <td>288.79</td>\n    </tr>\n    <tr>\n      <th>X360</th>\n      <td>236.54</td>\n    </tr>\n    <tr>\n      <th>3DS</th>\n      <td>195.80</td>\n    </tr>\n    <tr>\n      <th>XOne</th>\n      <td>159.32</td>\n    </tr>\n    <tr>\n      <th>WiiU</th>\n      <td>82.19</td>\n    </tr>\n    <tr>\n      <th>PC</th>\n      <td>62.65</td>\n    </tr>\n    <tr>\n      <th>PSV</th>\n      <td>49.44</td>\n    </tr>\n    <tr>\n      <th>Wii</th>\n      <td>35.37</td>\n    </tr>\n    <tr>\n      <th>DS</th>\n      <td>12.55</td>\n    </tr>\n    <tr>\n      <th>PSP</th>\n      <td>11.19</td>\n    </tr>\n  </tbody>\n</table>\n</div>"
     },
     "execution_count": 26,
     "metadata": {},
     "output_type": "execute_result"
    }
   ],
   "source": [
    "#<pivot table с функцией суммы и сортировка>\n",
    "platform_info = df.pivot_table(index = 'platform', values = 'all_sales', aggfunc = 'sum').sort_values('all_sales', ascending = False)\n",
    "platform_info"
   ]
  },
  {
   "cell_type": "markdown",
   "metadata": {},
   "source": [
    "Определить растут или падают продажи для каждой платформы поможет коэффициент корреляции Пирсона. Разберем подробнее. Если зависимость между годами и продажами:\n",
    "\n",
    "* стремится к 1 (прямая зависимость) - продажи на этой платформе растут\n",
    "* стремится к +0 - продажи вышли на пик\n",
    "* стремится к -0 - продажи уходят с пика\n",
    "* стремится к -1 (обратная зависимлсть) - продажи падают"
   ]
  },
  {
   "cell_type": "code",
   "execution_count": 27,
   "metadata": {
    "ExecuteTime": {
     "end_time": "2020-11-27T09:09:11.428089Z",
     "start_time": "2020-11-27T09:09:11.138827Z"
    }
   },
   "outputs": [
    {
     "data": {
      "text/plain": "          all_sales  corr_by_year\nplatform                         \nPS4          314.14      0.473145\nPS3          288.79     -0.949441\nX360         236.54     -0.968050\n3DS          195.80     -0.926347\nXOne         159.32      0.175658\nWiiU          82.19     -0.698379\nPC            62.65     -0.927995\nPSV           49.44     -0.938624\nWii           35.37     -0.906749\nDS            12.55     -1.000000\nPSP           11.19     -0.931875",
      "text/html": "<div>\n<style scoped>\n    .dataframe tbody tr th:only-of-type {\n        vertical-align: middle;\n    }\n\n    .dataframe tbody tr th {\n        vertical-align: top;\n    }\n\n    .dataframe thead th {\n        text-align: right;\n    }\n</style>\n<table border=\"1\" class=\"dataframe\">\n  <thead>\n    <tr style=\"text-align: right;\">\n      <th></th>\n      <th>all_sales</th>\n      <th>corr_by_year</th>\n    </tr>\n    <tr>\n      <th>platform</th>\n      <th></th>\n      <th></th>\n    </tr>\n  </thead>\n  <tbody>\n    <tr>\n      <th>PS4</th>\n      <td>314.14</td>\n      <td>0.473145</td>\n    </tr>\n    <tr>\n      <th>PS3</th>\n      <td>288.79</td>\n      <td>-0.949441</td>\n    </tr>\n    <tr>\n      <th>X360</th>\n      <td>236.54</td>\n      <td>-0.968050</td>\n    </tr>\n    <tr>\n      <th>3DS</th>\n      <td>195.80</td>\n      <td>-0.926347</td>\n    </tr>\n    <tr>\n      <th>XOne</th>\n      <td>159.32</td>\n      <td>0.175658</td>\n    </tr>\n    <tr>\n      <th>WiiU</th>\n      <td>82.19</td>\n      <td>-0.698379</td>\n    </tr>\n    <tr>\n      <th>PC</th>\n      <td>62.65</td>\n      <td>-0.927995</td>\n    </tr>\n    <tr>\n      <th>PSV</th>\n      <td>49.44</td>\n      <td>-0.938624</td>\n    </tr>\n    <tr>\n      <th>Wii</th>\n      <td>35.37</td>\n      <td>-0.906749</td>\n    </tr>\n    <tr>\n      <th>DS</th>\n      <td>12.55</td>\n      <td>-1.000000</td>\n    </tr>\n    <tr>\n      <th>PSP</th>\n      <td>11.19</td>\n      <td>-0.931875</td>\n    </tr>\n  </tbody>\n</table>\n</div>"
     },
     "execution_count": 27,
     "metadata": {},
     "output_type": "execute_result"
    }
   ],
   "source": [
    "#<для каждой платформы>\n",
    "for i in platform_info.index:\n",
    "    #<создание сводной таблицы с годом и всеми продажами>\n",
    "    table = df.query('platform == @i').pivot_table(index = 'year_of_release', values = 'all_sales', aggfunc = 'sum').reset_index()\n",
    "    #<получение корреляции методом corr>\n",
    "    platform_info.loc[i, 'corr_by_year'] = table['all_sales'].corr(table['year_of_release'])\n",
    "platform_info"
   ]
  },
  {
   "cell_type": "markdown",
   "metadata": {},
   "source": [
    "Можем видеть, что продажи у PS4 растут, а платформа XOne находится почти на пике. Также они в топ-5 по выручке с игр. Их и будем считать потенциально прибыльными."
   ]
  },
  {
   "cell_type": "markdown",
   "metadata": {},
   "source": [
    "## «Ящик с усами» по глобальным продажам игр в разбивке по платформам.\n",
    "\n",
    "Воспользуемся методом **boxplot**, чтобы построть диаграмму размаха."
   ]
  },
  {
   "cell_type": "code",
   "execution_count": 28,
   "metadata": {
    "ExecuteTime": {
     "end_time": "2020-11-27T09:09:11.748994Z",
     "start_time": "2020-11-27T09:09:11.431010Z"
    }
   },
   "outputs": [
    {
     "name": "stdout",
     "output_type": "stream",
     "text": [
      "PS4\n"
     ]
    },
    {
     "data": {
      "text/plain": "<AxesSubplot:>"
     },
     "execution_count": 28,
     "metadata": {},
     "output_type": "execute_result"
    },
    {
     "data": {
      "text/plain": "<Figure size 432x288 with 1 Axes>",
      "image/png": "[encoded data removed]"
     },
     "metadata": {
      "needs_background": "light"
     },
     "output_type": "display_data"
    }
   ],
   "source": [
    "print('PS4')\n",
    "#<Построение диаграммы размаха методом boxplot>\n",
    "df.query('platform == \"PS4\"').boxplot(column = 'all_sales')"
   ]
  },
  {
   "cell_type": "code",
   "execution_count": 29,
   "metadata": {
    "ExecuteTime": {
     "end_time": "2020-11-27T09:09:12.080438Z",
     "start_time": "2020-11-27T09:09:11.752842Z"
    }
   },
   "outputs": [
    {
     "name": "stdout",
     "output_type": "stream",
     "text": [
      "XOne\n"
     ]
    },
    {
     "data": {
      "text/plain": "<AxesSubplot:>"
     },
     "execution_count": 29,
     "metadata": {},
     "output_type": "execute_result"
    },
    {
     "data": {
      "text/plain": "<Figure size 432x288 with 1 Axes>",
      "image/png": "[encoded data removed]"
     },
     "metadata": {
      "needs_background": "light"
     },
     "output_type": "display_data"
    }
   ],
   "source": [
    "print('XOne')\n",
    "#<Построение диаграммы размаха методом boxplot>\n",
    "df.query('platform == \"XOne\"').boxplot(column = 'all_sales')"
   ]
  },
  {
   "cell_type": "markdown",
   "metadata": {},
   "source": [
    "Можем наблюдать много выбросов в каждой диаграмме. Также в обоих случаях медиана находится ближе к первому квартелю. Также можно заметить по максимуму нормальных значений, что игры на XOne продаются немного меньшими копиями чем на PS4."
   ]
  },
  {
   "cell_type": "markdown",
   "metadata": {},
   "source": [
    "## Как влияют на продажи внутри одной популярной платформы отзывы пользователей и критиков\n",
    "\n",
    "Построим диаграмму рассеяния и посчитаем корреляцию между отзывами критиков и продажами. Возьмем самую популярную PS4."
   ]
  },
  {
   "cell_type": "code",
   "execution_count": 30,
   "metadata": {
    "ExecuteTime": {
     "end_time": "2020-11-27T09:09:12.888497Z",
     "start_time": "2020-11-27T09:09:12.092020Z"
    },
    "scrolled": false
   },
   "outputs": [
    {
     "data": {
      "text/plain": "0.35140802447758496"
     },
     "execution_count": 30,
     "metadata": {},
     "output_type": "execute_result"
    },
    {
     "data": {
      "text/plain": "<Figure size 1296x432 with 2 Axes>",
      "image/png": "[encoded data removed]"
     },
     "metadata": {
      "needs_background": "light"
     },
     "output_type": "display_data"
    }
   ],
   "source": [
    "#<построение графика методом plot с параметром hexbin>\n",
    "df.query('platform == \"PS4\"').plot(x = 'critic_score', y = 'all_sales',\n",
    "                                  kind='hexbin', ylim = (0, 1), gridsize=90,\n",
    "                                  sharex=False, grid=True, figsize = (18, 6))\n",
    "#<задаем оси графика>\n",
    "plt.xlabel(\"Оценка критиков\")\n",
    "plt.ylabel(\"Проданных копий в миллионах\")\n",
    "\n",
    "df.query('platform == \"PS4\"')['all_sales'].corr(df.query('platform == \"PS4\"')['critic_score'])"
   ]
  },
  {
   "cell_type": "markdown",
   "metadata": {},
   "source": [
    "Зависимости почти нет. Теперь рассмотрим отзывы пользователей и продажи."
   ]
  },
  {
   "cell_type": "code",
   "execution_count": 31,
   "metadata": {
    "ExecuteTime": {
     "end_time": "2020-11-27T09:09:13.637881Z",
     "start_time": "2020-11-27T09:09:12.892198Z"
    }
   },
   "outputs": [
    {
     "data": {
      "text/plain": "-0.06548195077585682"
     },
     "execution_count": 31,
     "metadata": {},
     "output_type": "execute_result"
    },
    {
     "data": {
      "text/plain": "<Figure size 1296x432 with 2 Axes>",
      "image/png": "[encoded data removed]"
     },
     "metadata": {
      "needs_background": "light"
     },
     "output_type": "display_data"
    }
   ],
   "source": [
    "#<построение графика методом plot с параметром hexbin>\n",
    "df.query('platform == \"PS4\"').plot(x = 'user_score', y = 'all_sales',\n",
    "                                  kind='hexbin', ylim = (0, 1), gridsize=90,\n",
    "                                  sharex=False, grid=True, figsize = (18, 6))\n",
    "#<задаем оси графика>\n",
    "plt.xlabel(\"Оценка пользователей\")\n",
    "plt.ylabel(\"Проданных копий в миллионах\")\n",
    "\n",
    "df.query('platform == \"PS4\"')['all_sales'].corr(df.query('platform == \"PS4\"')['user_score'])"
   ]
  },
  {
   "cell_type": "markdown",
   "metadata": {},
   "source": [
    "Зависимости вообще нет. Но из двух этих графиков можно заметить, что пользователи чаще оценивают игры выше, чем критики. Теперь напишем цикл, который проверит корреляцию для других популярных платформ."
   ]
  },
  {
   "cell_type": "code",
   "execution_count": 32,
   "metadata": {
    "ExecuteTime": {
     "end_time": "2020-11-27T09:09:13.810537Z",
     "start_time": "2020-11-27T09:09:13.641683Z"
    }
   },
   "outputs": [
    {
     "name": "stdout",
     "output_type": "stream",
     "text": [
      "Все независимы\n"
     ]
    }
   ],
   "source": [
    "#<Ставим флаг, что все независимы>\n",
    "flag = True\n",
    "#<для каждой платформы>\n",
    "for i in platform_info.index:\n",
    "    #<если есть зависимость>\n",
    "    if df.query('platform == @i')['all_sales'].corr(df.query('platform == @i')['user_score']) > 0.5:\n",
    "        #<выводим какая платорма зависима>\n",
    "        print(i, \"зависима\")\n",
    "        #<меняем флаг, есть зависимые>\n",
    "        flag = False\n",
    "#<если флаг остался прежним>\n",
    "if flag:\n",
    "    print('Все независимы')"
   ]
  },
  {
   "cell_type": "markdown",
   "metadata": {},
   "source": [
    "## Общее распределение игр по жанрам\n",
    "\n",
    "Сгруппируем данные по жанрам и найдем количество игр, проданных копий и медианное количество проданных копий для каждого."
   ]
  },
  {
   "cell_type": "code",
   "execution_count": 33,
   "metadata": {
    "ExecuteTime": {
     "end_time": "2020-11-27T09:09:13.862286Z",
     "start_time": "2020-11-27T09:09:13.816375Z"
    }
   },
   "outputs": [
    {
     "data": {
      "text/plain": "              count     sum  median\ngenre                              \nAction         1032  441.52   0.120\nShooter         236  304.80   0.435\nRole-Playing    372  193.09   0.140\nSports          269  181.09   0.240\nMisc            192   85.04   0.120\nPlatform         85   61.00   0.210\nRacing          116   53.59   0.135\nFighting        109   44.49   0.130\nSimulation       82   35.61   0.120\nAdventure       303   29.52   0.030\nStrategy         71   13.34   0.080\nPuzzle           28    4.89   0.045",
      "text/html": "<div>\n<style scoped>\n    .dataframe tbody tr th:only-of-type {\n        vertical-align: middle;\n    }\n\n    .dataframe tbody tr th {\n        vertical-align: top;\n    }\n\n    .dataframe thead th {\n        text-align: right;\n    }\n</style>\n<table border=\"1\" class=\"dataframe\">\n  <thead>\n    <tr style=\"text-align: right;\">\n      <th></th>\n      <th>count</th>\n      <th>sum</th>\n      <th>median</th>\n    </tr>\n    <tr>\n      <th>genre</th>\n      <th></th>\n      <th></th>\n      <th></th>\n    </tr>\n  </thead>\n  <tbody>\n    <tr>\n      <th>Action</th>\n      <td>1032</td>\n      <td>441.52</td>\n      <td>0.120</td>\n    </tr>\n    <tr>\n      <th>Shooter</th>\n      <td>236</td>\n      <td>304.80</td>\n      <td>0.435</td>\n    </tr>\n    <tr>\n      <th>Role-Playing</th>\n      <td>372</td>\n      <td>193.09</td>\n      <td>0.140</td>\n    </tr>\n    <tr>\n      <th>Sports</th>\n      <td>269</td>\n      <td>181.09</td>\n      <td>0.240</td>\n    </tr>\n    <tr>\n      <th>Misc</th>\n      <td>192</td>\n      <td>85.04</td>\n      <td>0.120</td>\n    </tr>\n    <tr>\n      <th>Platform</th>\n      <td>85</td>\n      <td>61.00</td>\n      <td>0.210</td>\n    </tr>\n    <tr>\n      <th>Racing</th>\n      <td>116</td>\n      <td>53.59</td>\n      <td>0.135</td>\n    </tr>\n    <tr>\n      <th>Fighting</th>\n      <td>109</td>\n      <td>44.49</td>\n      <td>0.130</td>\n    </tr>\n    <tr>\n      <th>Simulation</th>\n      <td>82</td>\n      <td>35.61</td>\n      <td>0.120</td>\n    </tr>\n    <tr>\n      <th>Adventure</th>\n      <td>303</td>\n      <td>29.52</td>\n      <td>0.030</td>\n    </tr>\n    <tr>\n      <th>Strategy</th>\n      <td>71</td>\n      <td>13.34</td>\n      <td>0.080</td>\n    </tr>\n    <tr>\n      <th>Puzzle</th>\n      <td>28</td>\n      <td>4.89</td>\n      <td>0.045</td>\n    </tr>\n  </tbody>\n</table>\n</div>"
     },
     "execution_count": 33,
     "metadata": {},
     "output_type": "execute_result"
    }
   ],
   "source": [
    "#<сводная таблица с числом, суммой и медианой>\n",
    "genre_info = df.groupby('genre').agg({'all_sales':['count', 'sum', 'median']})\n",
    "#<переименование столбцов>\n",
    "genre_info.columns = ['count', 'sum',  'median']\n",
    "#<сортировка по столбцу сумма>\n",
    "genre_info = genre_info.sort_values('sum', ascending = False)\n",
    "genre_info"
   ]
  },
  {
   "cell_type": "markdown",
   "metadata": {},
   "source": [
    "Самым популярным оказался Action. Самое большое количесвто игр и число проданных копий. А вот Puzzle в самом конце по популярности. Также можно выделить жанр Shooter, где на каждую игру в среднем приходится по полмиллиона продаж. То есть игры этого жанра берут не количеством, а качеством."
   ]
  },
  {
   "cell_type": "markdown",
   "metadata": {},
   "source": [
    "### Вывод\n",
    "\n",
    "Актуальными данными для анализа рынка на будущий год считаем данные за последние 5 лет. PS4 и XOne - потенциально прибыльные платформы. Большинство игр имеют количество продаж копий равное 0,4 - 0,5 млн. Оценки критиков и пользователей никак не влияют на количество проданных копий.\n",
    "\n",
    "Самые популярные жанры Action, Shooter, причем в первом покупают много разных игр, а во втором - много копий одной игры. Самый непопулярный жанр - Puzzle."
   ]
  },
  {
   "cell_type": "markdown",
   "metadata": {},
   "source": [
    "# Шаг 4. Портрет пользователя каждого региона<a class=\"anchor\" id=\"fourth\"></a>\n",
    "\n",
    "## Самые популярные платформы (топ-5)\n",
    "\n",
    "Найдем популярные для каждого региона платформы по доле проданных копий в этом регионе. Для этого напишем функцию, которая будет принимать регион, для которого производить вычисления."
   ]
  },
  {
   "cell_type": "code",
   "execution_count": 34,
   "metadata": {},
   "outputs": [],
   "source": [
    "#<функция для вывода популярных платформ в регионе>\n",
    "def get_popular_platform(region_sales):\n",
    "    table = df.groupby('platform').agg({ region_sales :['count', 'sum']})\n",
    "    table['part_of_all'] = table[region_sales]['sum'] / df[region_sales].sum()\n",
    "    table = table.sort_values('part_of_all', ascending = False).head()\n",
    "    return table.head()"
   ]
  },
  {
   "cell_type": "code",
   "execution_count": 35,
   "metadata": {
    "ExecuteTime": {
     "end_time": "2020-11-27T09:09:13.916118Z",
     "start_time": "2020-11-27T09:09:13.865849Z"
    }
   },
   "outputs": [
    {
     "data": {
      "text/plain": "         na_sales         part_of_all\n            count     sum            \nplatform                             \nX360          292  140.05    0.236603\nPS4           392  108.74    0.183707\nPS3           493  103.38    0.174652\nXOne          247   93.12    0.157319\n3DS           404   56.15    0.094861",
      "text/html": "<div>\n<style scoped>\n    .dataframe tbody tr th:only-of-type {\n        vertical-align: middle;\n    }\n\n    .dataframe tbody tr th {\n        vertical-align: top;\n    }\n\n    .dataframe thead tr th {\n        text-align: left;\n    }\n\n    .dataframe thead tr:last-of-type th {\n        text-align: right;\n    }\n</style>\n<table border=\"1\" class=\"dataframe\">\n  <thead>\n    <tr>\n      <th></th>\n      <th colspan=\"2\" halign=\"left\">na_sales</th>\n      <th>part_of_all</th>\n    </tr>\n    <tr>\n      <th></th>\n      <th>count</th>\n      <th>sum</th>\n      <th></th>\n    </tr>\n    <tr>\n      <th>platform</th>\n      <th></th>\n      <th></th>\n      <th></th>\n    </tr>\n  </thead>\n  <tbody>\n    <tr>\n      <th>X360</th>\n      <td>292</td>\n      <td>140.05</td>\n      <td>0.236603</td>\n    </tr>\n    <tr>\n      <th>PS4</th>\n      <td>392</td>\n      <td>108.74</td>\n      <td>0.183707</td>\n    </tr>\n    <tr>\n      <th>PS3</th>\n      <td>493</td>\n      <td>103.38</td>\n      <td>0.174652</td>\n    </tr>\n    <tr>\n      <th>XOne</th>\n      <td>247</td>\n      <td>93.12</td>\n      <td>0.157319</td>\n    </tr>\n    <tr>\n      <th>3DS</th>\n      <td>404</td>\n      <td>56.15</td>\n      <td>0.094861</td>\n    </tr>\n  </tbody>\n</table>\n</div>"
     },
     "execution_count": 35,
     "metadata": {},
     "output_type": "execute_result"
    }
   ],
   "source": [
    "get_popular_platform('na_sales')"
   ]
  },
  {
   "cell_type": "code",
   "execution_count": 36,
   "metadata": {
    "ExecuteTime": {
     "end_time": "2020-11-27T09:09:13.969130Z",
     "start_time": "2020-11-27T09:09:13.920784Z"
    }
   },
   "outputs": [
    {
     "data": {
      "text/plain": "         eu_sales         part_of_all\n            count     sum            \nplatform                             \nPS4           392  141.09    0.278240\nPS3           493  106.86    0.210736\nX360          292   74.52    0.146959\nXOne          247   51.59    0.101739\n3DS           404   42.85    0.084503",
      "text/html": "<div>\n<style scoped>\n    .dataframe tbody tr th:only-of-type {\n        vertical-align: middle;\n    }\n\n    .dataframe tbody tr th {\n        vertical-align: top;\n    }\n\n    .dataframe thead tr th {\n        text-align: left;\n    }\n\n    .dataframe thead tr:last-of-type th {\n        text-align: right;\n    }\n</style>\n<table border=\"1\" class=\"dataframe\">\n  <thead>\n    <tr>\n      <th></th>\n      <th colspan=\"2\" halign=\"left\">eu_sales</th>\n      <th>part_of_all</th>\n    </tr>\n    <tr>\n      <th></th>\n      <th>count</th>\n      <th>sum</th>\n      <th></th>\n    </tr>\n    <tr>\n      <th>platform</th>\n      <th></th>\n      <th></th>\n      <th></th>\n    </tr>\n  </thead>\n  <tbody>\n    <tr>\n      <th>PS4</th>\n      <td>392</td>\n      <td>141.09</td>\n      <td>0.278240</td>\n    </tr>\n    <tr>\n      <th>PS3</th>\n      <td>493</td>\n      <td>106.86</td>\n      <td>0.210736</td>\n    </tr>\n    <tr>\n      <th>X360</th>\n      <td>292</td>\n      <td>74.52</td>\n      <td>0.146959</td>\n    </tr>\n    <tr>\n      <th>XOne</th>\n      <td>247</td>\n      <td>51.59</td>\n      <td>0.101739</td>\n    </tr>\n    <tr>\n      <th>3DS</th>\n      <td>404</td>\n      <td>42.85</td>\n      <td>0.084503</td>\n    </tr>\n  </tbody>\n</table>\n</div>"
     },
     "execution_count": 36,
     "metadata": {},
     "output_type": "execute_result"
    }
   ],
   "source": [
    "get_popular_platform('eu_sales')"
   ]
  },
  {
   "cell_type": "code",
   "execution_count": 37,
   "metadata": {
    "ExecuteTime": {
     "end_time": "2020-11-27T09:09:14.030200Z",
     "start_time": "2020-11-27T09:09:13.972017Z"
    }
   },
   "outputs": [
    {
     "data": {
      "text/plain": "         jp_sales        part_of_all\n            count    sum            \nplatform                            \n3DS           404  87.84    0.455838\nPS3           493  35.29    0.183134\nPSV           412  21.11    0.109549\nPS4           392  15.96    0.082823\nWiiU          147  13.01    0.067514",
      "text/html": "<div>\n<style scoped>\n    .dataframe tbody tr th:only-of-type {\n        vertical-align: middle;\n    }\n\n    .dataframe tbody tr th {\n        vertical-align: top;\n    }\n\n    .dataframe thead tr th {\n        text-align: left;\n    }\n\n    .dataframe thead tr:last-of-type th {\n        text-align: right;\n    }\n</style>\n<table border=\"1\" class=\"dataframe\">\n  <thead>\n    <tr>\n      <th></th>\n      <th colspan=\"2\" halign=\"left\">jp_sales</th>\n      <th>part_of_all</th>\n    </tr>\n    <tr>\n      <th></th>\n      <th>count</th>\n      <th>sum</th>\n      <th></th>\n    </tr>\n    <tr>\n      <th>platform</th>\n      <th></th>\n      <th></th>\n      <th></th>\n    </tr>\n  </thead>\n  <tbody>\n    <tr>\n      <th>3DS</th>\n      <td>404</td>\n      <td>87.84</td>\n      <td>0.455838</td>\n    </tr>\n    <tr>\n      <th>PS3</th>\n      <td>493</td>\n      <td>35.29</td>\n      <td>0.183134</td>\n    </tr>\n    <tr>\n      <th>PSV</th>\n      <td>412</td>\n      <td>21.11</td>\n      <td>0.109549</td>\n    </tr>\n    <tr>\n      <th>PS4</th>\n      <td>392</td>\n      <td>15.96</td>\n      <td>0.082823</td>\n    </tr>\n    <tr>\n      <th>WiiU</th>\n      <td>147</td>\n      <td>13.01</td>\n      <td>0.067514</td>\n    </tr>\n  </tbody>\n</table>\n</div>"
     },
     "execution_count": 37,
     "metadata": {},
     "output_type": "execute_result"
    }
   ],
   "source": [
    "get_popular_platform('jp_sales')"
   ]
  },
  {
   "cell_type": "markdown",
   "metadata": {},
   "source": [
    "Видим большую разницу в платформах. Возможно, это связано с тем, на какой рынок ориентированы производители. К примеру можем заметить, что популярных моделей X нет в топе Япониию. В Японии больше преобладают более старые модели платформ."
   ]
  },
  {
   "cell_type": "markdown",
   "metadata": {},
   "source": [
    "## Самые популярные жанры (топ-5)\n",
    "\n",
    "Найдем популярные для каждого региона жанры по доле проданных копий в этом региононе. Для этого напишем функцию, которая будет принимать регион, для которого производить вычисления."
   ]
  },
  {
   "cell_type": "code",
   "execution_count": 38,
   "metadata": {},
   "outputs": [],
   "source": [
    "#<функция для вывода популярных жанров в регионе>\n",
    "def get_popular_genre(region_sales):\n",
    "    table = df.groupby('genre').agg({ region_sales :['count', 'sum']})\n",
    "    table['part_of_all'] = table[region_sales]['sum'] / df[region_sales].sum()\n",
    "    table = table.sort_values('part_of_all', ascending = False).head()\n",
    "    return table.head()"
   ]
  },
  {
   "cell_type": "code",
   "execution_count": 39,
   "metadata": {
    "ExecuteTime": {
     "end_time": "2020-11-27T09:09:14.098828Z",
     "start_time": "2020-11-27T09:09:14.034985Z"
    }
   },
   "outputs": [
    {
     "data": {
      "text/plain": "             na_sales         part_of_all\n                count     sum            \ngenre                                    \nAction           1032  178.02    0.300750\nShooter           236  144.81    0.244645\nSports            269   81.53    0.137738\nRole-Playing      372   64.11    0.108309\nMisc              192   38.19    0.064519",
      "text/html": "<div>\n<style scoped>\n    .dataframe tbody tr th:only-of-type {\n        vertical-align: middle;\n    }\n\n    .dataframe tbody tr th {\n        vertical-align: top;\n    }\n\n    .dataframe thead tr th {\n        text-align: left;\n    }\n\n    .dataframe thead tr:last-of-type th {\n        text-align: right;\n    }\n</style>\n<table border=\"1\" class=\"dataframe\">\n  <thead>\n    <tr>\n      <th></th>\n      <th colspan=\"2\" halign=\"left\">na_sales</th>\n      <th>part_of_all</th>\n    </tr>\n    <tr>\n      <th></th>\n      <th>count</th>\n      <th>sum</th>\n      <th></th>\n    </tr>\n    <tr>\n      <th>genre</th>\n      <th></th>\n      <th></th>\n      <th></th>\n    </tr>\n  </thead>\n  <tbody>\n    <tr>\n      <th>Action</th>\n      <td>1032</td>\n      <td>178.02</td>\n      <td>0.300750</td>\n    </tr>\n    <tr>\n      <th>Shooter</th>\n      <td>236</td>\n      <td>144.81</td>\n      <td>0.244645</td>\n    </tr>\n    <tr>\n      <th>Sports</th>\n      <td>269</td>\n      <td>81.53</td>\n      <td>0.137738</td>\n    </tr>\n    <tr>\n      <th>Role-Playing</th>\n      <td>372</td>\n      <td>64.11</td>\n      <td>0.108309</td>\n    </tr>\n    <tr>\n      <th>Misc</th>\n      <td>192</td>\n      <td>38.19</td>\n      <td>0.064519</td>\n    </tr>\n  </tbody>\n</table>\n</div>"
     },
     "execution_count": 39,
     "metadata": {},
     "output_type": "execute_result"
    }
   ],
   "source": [
    "get_popular_genre('na_sales')"
   ]
  },
  {
   "cell_type": "code",
   "execution_count": 40,
   "metadata": {
    "ExecuteTime": {
     "end_time": "2020-11-27T09:09:14.162687Z",
     "start_time": "2020-11-27T09:09:14.104912Z"
    }
   },
   "outputs": [
    {
     "data": {
      "text/plain": "             eu_sales         part_of_all\n                count     sum            \ngenre                                    \nAction           1032  159.53    0.314605\nShooter           236  113.49    0.223811\nSports            269   69.09    0.136251\nRole-Playing      372   48.58    0.095803\nRacing            116   27.29    0.053818",
      "text/html": "<div>\n<style scoped>\n    .dataframe tbody tr th:only-of-type {\n        vertical-align: middle;\n    }\n\n    .dataframe tbody tr th {\n        vertical-align: top;\n    }\n\n    .dataframe thead tr th {\n        text-align: left;\n    }\n\n    .dataframe thead tr:last-of-type th {\n        text-align: right;\n    }\n</style>\n<table border=\"1\" class=\"dataframe\">\n  <thead>\n    <tr>\n      <th></th>\n      <th colspan=\"2\" halign=\"left\">eu_sales</th>\n      <th>part_of_all</th>\n    </tr>\n    <tr>\n      <th></th>\n      <th>count</th>\n      <th>sum</th>\n      <th></th>\n    </tr>\n    <tr>\n      <th>genre</th>\n      <th></th>\n      <th></th>\n      <th></th>\n    </tr>\n  </thead>\n  <tbody>\n    <tr>\n      <th>Action</th>\n      <td>1032</td>\n      <td>159.53</td>\n      <td>0.314605</td>\n    </tr>\n    <tr>\n      <th>Shooter</th>\n      <td>236</td>\n      <td>113.49</td>\n      <td>0.223811</td>\n    </tr>\n    <tr>\n      <th>Sports</th>\n      <td>269</td>\n      <td>69.09</td>\n      <td>0.136251</td>\n    </tr>\n    <tr>\n      <th>Role-Playing</th>\n      <td>372</td>\n      <td>48.58</td>\n      <td>0.095803</td>\n    </tr>\n    <tr>\n      <th>Racing</th>\n      <td>116</td>\n      <td>27.29</td>\n      <td>0.053818</td>\n    </tr>\n  </tbody>\n</table>\n</div>"
     },
     "execution_count": 40,
     "metadata": {},
     "output_type": "execute_result"
    }
   ],
   "source": [
    "get_popular_genre('eu_sales')"
   ]
  },
  {
   "cell_type": "code",
   "execution_count": 41,
   "metadata": {
    "ExecuteTime": {
     "end_time": "2020-11-27T09:09:14.231030Z",
     "start_time": "2020-11-27T09:09:14.172066Z"
    }
   },
   "outputs": [
    {
     "data": {
      "text/plain": "             jp_sales        part_of_all\n                count    sum            \ngenre                                   \nRole-Playing      372  65.54    0.340114\nAction           1032  52.80    0.274001\nMisc              192  12.86    0.066736\nSimulation         82  10.41    0.054022\nFighting          109   9.44    0.048988",
      "text/html": "<div>\n<style scoped>\n    .dataframe tbody tr th:only-of-type {\n        vertical-align: middle;\n    }\n\n    .dataframe tbody tr th {\n        vertical-align: top;\n    }\n\n    .dataframe thead tr th {\n        text-align: left;\n    }\n\n    .dataframe thead tr:last-of-type th {\n        text-align: right;\n    }\n</style>\n<table border=\"1\" class=\"dataframe\">\n  <thead>\n    <tr>\n      <th></th>\n      <th colspan=\"2\" halign=\"left\">jp_sales</th>\n      <th>part_of_all</th>\n    </tr>\n    <tr>\n      <th></th>\n      <th>count</th>\n      <th>sum</th>\n      <th></th>\n    </tr>\n    <tr>\n      <th>genre</th>\n      <th></th>\n      <th></th>\n      <th></th>\n    </tr>\n  </thead>\n  <tbody>\n    <tr>\n      <th>Role-Playing</th>\n      <td>372</td>\n      <td>65.54</td>\n      <td>0.340114</td>\n    </tr>\n    <tr>\n      <th>Action</th>\n      <td>1032</td>\n      <td>52.80</td>\n      <td>0.274001</td>\n    </tr>\n    <tr>\n      <th>Misc</th>\n      <td>192</td>\n      <td>12.86</td>\n      <td>0.066736</td>\n    </tr>\n    <tr>\n      <th>Simulation</th>\n      <td>82</td>\n      <td>10.41</td>\n      <td>0.054022</td>\n    </tr>\n    <tr>\n      <th>Fighting</th>\n      <td>109</td>\n      <td>9.44</td>\n      <td>0.048988</td>\n    </tr>\n  </tbody>\n</table>\n</div>"
     },
     "execution_count": 41,
     "metadata": {},
     "output_type": "execute_result"
    }
   ],
   "source": [
    "get_popular_genre('jp_sales')"
   ]
  },
  {
   "cell_type": "markdown",
   "metadata": {},
   "source": [
    "Видим, что Америка и Европа в основном похожа жанрами популярных игр, а вот Япония кардинально отличается отличается. Для первых характерны Action и Shooter, а для второй Role-Playing, Action и Misc. Скорее всего это происходит из-за разницы менталитета. Японцы очень спокойные люди, вряд ли им захочется \"мочить\" в шутере всех налево и направо."
   ]
  },
  {
   "cell_type": "markdown",
   "metadata": {},
   "source": [
    "## Влияние рейтинга ESRB на продажи в отдельном регионе\n",
    "Добавим новый столбец в таблицу `df`, который будет обозначать возраст, с которого можно играть в игру. Отталкиваемся от ESRB:\n",
    "* E - от 0\n",
    "* E10 - от 10\n",
    "* T - от 13\n",
    "* M - от 18"
   ]
  },
  {
   "cell_type": "code",
   "execution_count": 42,
   "metadata": {
    "ExecuteTime": {
     "end_time": "2020-11-27T09:09:14.410080Z",
     "start_time": "2020-11-27T09:09:14.235711Z"
    }
   },
   "outputs": [
    {
     "data": {
      "text/plain": "                          name platform  year_of_release         genre  \\\n16          Grand Theft Auto V      PS3             2013        Action   \n23          Grand Theft Auto V     X360             2013        Action   \n31   Call of Duty: Black Ops 3      PS4             2015       Shooter   \n33         Pokemon X/Pokemon Y      3DS             2013  Role-Playing   \n34  Call of Duty: Black Ops II      PS3             2012       Shooter   \n\n    na_sales  eu_sales  jp_sales  other_sales  critic_score  user_score  \\\n16      7.02      9.09      0.98         3.96          97.0         8.2   \n23      9.66      5.14      0.06         1.41          97.0         8.1   \n31      6.03      5.86      0.36         2.38          73.0         7.4   \n33      5.28      4.19      4.35         0.78          74.0         7.8   \n34      4.99      5.73      0.65         2.42          83.0         5.3   \n\n   rating  all_sales  year_old  \n16      M      21.05        18  \n23      M      16.27        18  \n31      M      14.63        18  \n33      T      14.60        13  \n34      M      13.79        18  ",
      "text/html": "<div>\n<style scoped>\n    .dataframe tbody tr th:only-of-type {\n        vertical-align: middle;\n    }\n\n    .dataframe tbody tr th {\n        vertical-align: top;\n    }\n\n    .dataframe thead th {\n        text-align: right;\n    }\n</style>\n<table border=\"1\" class=\"dataframe\">\n  <thead>\n    <tr style=\"text-align: right;\">\n      <th></th>\n      <th>name</th>\n      <th>platform</th>\n      <th>year_of_release</th>\n      <th>genre</th>\n      <th>na_sales</th>\n      <th>eu_sales</th>\n      <th>jp_sales</th>\n      <th>other_sales</th>\n      <th>critic_score</th>\n      <th>user_score</th>\n      <th>rating</th>\n      <th>all_sales</th>\n      <th>year_old</th>\n    </tr>\n  </thead>\n  <tbody>\n    <tr>\n      <th>16</th>\n      <td>Grand Theft Auto V</td>\n      <td>PS3</td>\n      <td>2013</td>\n      <td>Action</td>\n      <td>7.02</td>\n      <td>9.09</td>\n      <td>0.98</td>\n      <td>3.96</td>\n      <td>97.0</td>\n      <td>8.2</td>\n      <td>M</td>\n      <td>21.05</td>\n      <td>18</td>\n    </tr>\n    <tr>\n      <th>23</th>\n      <td>Grand Theft Auto V</td>\n      <td>X360</td>\n      <td>2013</td>\n      <td>Action</td>\n      <td>9.66</td>\n      <td>5.14</td>\n      <td>0.06</td>\n      <td>1.41</td>\n      <td>97.0</td>\n      <td>8.1</td>\n      <td>M</td>\n      <td>16.27</td>\n      <td>18</td>\n    </tr>\n    <tr>\n      <th>31</th>\n      <td>Call of Duty: Black Ops 3</td>\n      <td>PS4</td>\n      <td>2015</td>\n      <td>Shooter</td>\n      <td>6.03</td>\n      <td>5.86</td>\n      <td>0.36</td>\n      <td>2.38</td>\n      <td>73.0</td>\n      <td>7.4</td>\n      <td>M</td>\n      <td>14.63</td>\n      <td>18</td>\n    </tr>\n    <tr>\n      <th>33</th>\n      <td>Pokemon X/Pokemon Y</td>\n      <td>3DS</td>\n      <td>2013</td>\n      <td>Role-Playing</td>\n      <td>5.28</td>\n      <td>4.19</td>\n      <td>4.35</td>\n      <td>0.78</td>\n      <td>74.0</td>\n      <td>7.8</td>\n      <td>T</td>\n      <td>14.60</td>\n      <td>13</td>\n    </tr>\n    <tr>\n      <th>34</th>\n      <td>Call of Duty: Black Ops II</td>\n      <td>PS3</td>\n      <td>2012</td>\n      <td>Shooter</td>\n      <td>4.99</td>\n      <td>5.73</td>\n      <td>0.65</td>\n      <td>2.42</td>\n      <td>83.0</td>\n      <td>5.3</td>\n      <td>M</td>\n      <td>13.79</td>\n      <td>18</td>\n    </tr>\n  </tbody>\n</table>\n</div>"
     },
     "execution_count": 42,
     "metadata": {},
     "output_type": "execute_result"
    }
   ],
   "source": [
    "#<Функция для получения возраста для рейтинга>\n",
    "def get_year_old (row):\n",
    "    rating = row['rating']\n",
    "    if rating == 'E':\n",
    "        return 0\n",
    "    if rating == 'E10':\n",
    "        return 10\n",
    "    if rating == 'T':\n",
    "        return 13\n",
    "    return 18\n",
    "\n",
    "#<Применение функции>\n",
    "df['year_old'] = df.apply(get_year_old, axis = 1)\n",
    "df.head()"
   ]
  },
  {
   "cell_type": "markdown",
   "metadata": {},
   "source": [
    "Теперь посчитаем коэффициент корреляции Пирсона для каждого региона."
   ]
  },
  {
   "cell_type": "code",
   "execution_count": 43,
   "metadata": {
    "ExecuteTime": {
     "end_time": "2020-11-27T09:09:14.426310Z",
     "start_time": "2020-11-27T09:09:14.416295Z"
    }
   },
   "outputs": [
    {
     "data": {
      "text/plain": "0.10902373237462554"
     },
     "execution_count": 43,
     "metadata": {},
     "output_type": "execute_result"
    }
   ],
   "source": [
    "na_esrb_corr = df['na_sales'].corr(df['year_old'])\n",
    "na_esrb_corr"
   ]
  },
  {
   "cell_type": "code",
   "execution_count": 44,
   "metadata": {
    "ExecuteTime": {
     "end_time": "2020-11-27T09:09:14.441142Z",
     "start_time": "2020-11-27T09:09:14.430120Z"
    }
   },
   "outputs": [
    {
     "data": {
      "text/plain": "0.0695449150293156"
     },
     "execution_count": 44,
     "metadata": {},
     "output_type": "execute_result"
    }
   ],
   "source": [
    "eu_esrb_corr = df['eu_sales'].corr(df['year_old'])\n",
    "eu_esrb_corr"
   ]
  },
  {
   "cell_type": "code",
   "execution_count": 45,
   "metadata": {
    "ExecuteTime": {
     "end_time": "2020-11-27T09:09:14.458487Z",
     "start_time": "2020-11-27T09:09:14.445992Z"
    }
   },
   "outputs": [
    {
     "data": {
      "text/plain": "-0.010330032422330172"
     },
     "execution_count": 45,
     "metadata": {},
     "output_type": "execute_result"
    }
   ],
   "source": [
    "jp_esrb_corr = df['jp_sales'].corr(df['year_old'])\n",
    "jp_esrb_corr"
   ]
  },
  {
   "cell_type": "markdown",
   "metadata": {},
   "source": [
    "Нет никакой зависимости между возрастом и продажами. А в Америке и Японии коэфициент Пирсона даже выше нуля, что говроит о том, что спрос на игры с большим возрастом выше."
   ]
  },
  {
   "cell_type": "markdown",
   "metadata": {},
   "source": [
    "### Вывод\n",
    "\n",
    "Портрет американца:\n",
    "Играет на X360 и PS4. Любит Action и Shooter. Не зависим от рейтинга ESRB.\n",
    "\n",
    "Портрет европейца:\n",
    "Играет на PlayStation (4 и 3). Любит Action и Shooter. Не зависим от рейтинга ESRB.\n",
    "\n",
    "Портрет японца:\n",
    "Играет только на отечественных консолях (3DS, PS3, PSV, PS4). Любит Role-Playing и Action. Не зависим от рейтинга ESRB."
   ]
  },
  {
   "cell_type": "markdown",
   "metadata": {},
   "source": [
    "# Шаг 5. Гипотезы<a class=\"anchor\" id=\"fifth\"></a>\n",
    "\n",
    "## Средние пользовательские рейтинги платформ Xbox One и PC одинаковые\n",
    "\n",
    "Это гипотеза о равенстве средних двух генеральных совокупностей (совокупности платформ \"Xbox One\" и \"PC\").\n",
    "\n",
    "Сформулируем гипотезу **H<sub>0</sub>**: \"Средние пользовательские рейтинги платформ Xbox One и PC равны\". Исходя из нее сформулируем альтернативную гипотезу **H<sub>1</sub>**: \"Средние пользовательские рейтинги платформ Xbox One и PC различны\".\n",
    "\n",
    "\n",
    "Применим метод **scipy.stats.ttest_ind** для проверки гипотезы **H<sub>0</sub>**. Критический уровень статистической значимости установим равным 0.05 ."
   ]
  },
  {
   "cell_type": "code",
   "execution_count": 46,
   "metadata": {
    "ExecuteTime": {
     "end_time": "2020-11-27T09:09:14.494434Z",
     "start_time": "2020-11-27T09:09:14.462937Z"
    },
    "scrolled": true
   },
   "outputs": [
    {
     "name": "stdout",
     "output_type": "stream",
     "text": [
      "p-значение: 0.2518232001572021\n",
      "Не получилось отвергнуть нулевую гипотезу\n"
     ]
    }
   ],
   "source": [
    "#<критический уровень статистической значимости>\n",
    "alpha = .05\n",
    "#<Получение p-значения методом ttest_ind>\n",
    "results = st.ttest_ind(df.query('platform == \"XOne\"')['user_score'], df.query('platform == \"PC\"')['user_score'], equal_var = False)\n",
    "\n",
    "print('p-значение:', results.pvalue)\n",
    "\n",
    "if (results.pvalue < alpha):\n",
    "    print(\"Отвергаем нулевую гипотезу\")\n",
    "else:\n",
    "    print(\"Не получилось отвергнуть нулевую гипотезу\")"
   ]
  },
  {
   "cell_type": "markdown",
   "metadata": {},
   "source": [
    "### Вывод\n",
    "\n",
    "Так как у наc не получилось отвергнуть нулевую гипотезу, предполагаем, что она верна. Средние пользовательские рейтинги платформ Xbox One и PC одинаковые.\n",
    "\n",
    "## Средние пользовательские рейтинги жанров Action и Sports разные\n",
    "\n",
    "Это гипотеза также о равенстве средних двух генеральных совокупностей (совокупности жанров Action и Sports).\n",
    "\n",
    "Сформулируем гипотезу **H<sub>0</sub>**: \"Средние пользовательские рейтинги жанров Action и Sports равны\". Исходя из нее сформулируем альтернативную гипотезу **H<sub>1</sub>**: \"Средние пользовательские рейтинги жанров Action и Sports различны\".\n",
    "\n",
    "\n",
    "Применим метод **scipy.stats.ttest_ind** для проверки гипотезы **H<sub>0</sub>**. Критический уровень статистической значимости оставим равным 0.05 ."
   ]
  },
  {
   "cell_type": "code",
   "execution_count": 47,
   "metadata": {
    "ExecuteTime": {
     "end_time": "2020-11-27T09:09:14.541924Z",
     "start_time": "2020-11-27T09:09:14.498077Z"
    }
   },
   "outputs": [
    {
     "name": "stdout",
     "output_type": "stream",
     "text": [
      "p-значение: 2.1955903506271836e-21\n",
      "Отвергаем нулевую гипотезу\n"
     ]
    }
   ],
   "source": [
    "#<Получение p-значения методом ttest_ind>\n",
    "results = st.ttest_ind(df.query('genre == \"Action\"')['user_score'], df.query('genre == \"Sports\"')['user_score'], equal_var = False)\n",
    "\n",
    "print('p-значение:', results.pvalue)\n",
    "\n",
    "if (results.pvalue < alpha):\n",
    "    print(\"Отвергаем нулевую гипотезу\")\n",
    "else:\n",
    "    print(\"Не получилось отвергнуть нулевую гипотезу\")"
   ]
  },
  {
   "cell_type": "markdown",
   "metadata": {},
   "source": [
    "### Вывод\n",
    "\n",
    "Отвергаем нулевую гипотезу. Средние пользовательские рейтинги жанров Action и Sports различны."
   ]
  },
  {
   "cell_type": "markdown",
   "metadata": {},
   "source": [
    "# Шаг 6. Общий вывод<a class=\"anchor\" id=\"sixth\"></a>\n",
    "\n",
    "Исходя из данных за последние 5 лет, PS4 и XOne - потенциально прибыльные платформы. Что касается Японии, 3DS все еще очень популярна, а платформы X не пользуются там спросом. Большинство игр имеют количество продаж копий равное 0,4 - 0,5 млн. Оценки критиков и пользователей никак не влияют на количество проданных копий. Также и рейтинг ESRB не влияет на продажи копий.\n",
    "\n",
    "Самые популярные жанры в Европе и Америке Action, Shooter, причем в первом жанре покупают много разных игр, а во втором - много копий одной игры. Если магазин будет работать с японским рынком, то ему стоит присмотреться к жанру Role-Playing. Самый непопулярный жанр - Puzzle.\n",
    "\n",
    "Средние пользовательские рейтинги платформ XOne и PC одинаковы.  А вот рейтинги по жанрам отличаются.\n"
   ]
  },
  {
   "cell_type": "code",
   "execution_count": 47,
   "metadata": {},
   "outputs": [],
   "source": []
  }
 ],
 "metadata": {
  "kernelspec": {
   "display_name": "Python 3",
   "language": "python",
   "name": "python3"
  },
  "language_info": {
   "codemirror_mode": {
    "name": "ipython",
    "version": 3
   },
   "file_extension": ".py",
   "mimetype": "text/x-python",
   "name": "python",
   "nbconvert_exporter": "python",
   "pygments_lexer": "ipython3",
   "version": "3.7.8"
  },
  "toc": {
   "base_numbering": 1,
   "nav_menu": {},
   "number_sections": true,
   "sideBar": true,
   "skip_h1_title": true,
   "title_cell": "Table of Contents",
   "title_sidebar": "Contents",
   "toc_cell": false,
   "toc_position": {},
   "toc_section_display": true,
   "toc_window_display": false
  }
 },
 "nbformat": 4,
 "nbformat_minor": 4
}