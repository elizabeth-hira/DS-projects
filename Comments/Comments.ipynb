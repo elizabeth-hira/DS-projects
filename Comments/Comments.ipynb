{
 "cells": [
  {
   "cell_type": "markdown",
   "metadata": {
    "toc": true
   },
   "source": [
    "<h1>Содержание<span class=\"tocSkip\"></span></h1>\n",
    "<div class=\"toc\"><ul class=\"toc-item\"><li><span><a href=\"#Подготовка\" data-toc-modified-id=\"Подготовка-1\"><span class=\"toc-item-num\">1&nbsp;&nbsp;</span>Подготовка</a></span></li><li><span><a href=\"#Обучение\" data-toc-modified-id=\"Обучение-2\"><span class=\"toc-item-num\">2&nbsp;&nbsp;</span>Обучение</a></span></li><li><span><a href=\"#Выводы\" data-toc-modified-id=\"Выводы-3\"><span class=\"toc-item-num\">3&nbsp;&nbsp;</span>Выводы</a></span></li></ul></div>"
   ]
  },
  {
   "cell_type": "markdown",
   "metadata": {},
   "source": [
    "# Проект для «Викишоп» с BERT"
   ]
  },
  {
   "cell_type": "markdown",
   "metadata": {},
   "source": [
    "Задача - выявить негативные комментарии на сайте интернет-магазина для последующей их модерации. Нужно создать модель,\n",
    " определяющую токсичность комментариев."
   ]
  },
  {
   "cell_type": "markdown",
   "metadata": {},
   "source": [
    "# Подготовка"
   ]
  },
  {
   "cell_type": "code",
   "execution_count": null,
   "metadata": {},
   "outputs": [],
   "source": [
    "# <установка библиотек>\n",
    "!pip install catboost\n",
    "!pip install ipywidgets\n",
    "!jupyter nbextension enable --py widgetsnbextension\n",
    "!pip install lightgbm\n",
    "!pip install torch\n",
    "!pip install transformers"
   ]
  },
  {
   "cell_type": "code",
   "execution_count": 1,
   "metadata": {
    "scrolled": false
   },
   "outputs": [
    {
     "name": "stderr",
     "output_type": "stream",
     "text": [
      "[nltk_data] Downloading package wordnet to\n",
      "[nltk_data]     C:\\Users\\Xiaomi\\AppData\\Roaming\\nltk_data...\n",
      "[nltk_data]   Package wordnet is already up-to-date!\n"
     ]
    }
   ],
   "source": [
    "# <импорт библиотек>\n",
    "import pandas as pd\n",
    "import numpy as np\n",
    "\n",
    "from sklearn.model_selection import train_test_split\n",
    "import nltk\n",
    "from nltk.stem import WordNetLemmatizer\n",
    "nltk.download('wordnet')\n",
    "\n",
    "import re\n",
    "\n",
    "from sklearn.feature_extraction.text import TfidfVectorizer\n",
    "\n",
    "from nltk.corpus import stopwords as nltk_stopwords\n",
    "\n",
    "from sklearn.model_selection import GridSearchCV\n",
    "\n",
    "# <дерево решений>\n",
    "from sklearn.tree import DecisionTreeClassifier\n",
    "# <случайный лес>\n",
    "from sklearn.ensemble import RandomForestClassifier\n",
    "# <логистическая регрессия>\n",
    "from sklearn.linear_model import LogisticRegression\n",
    "from catboost import CatBoostClassifier\n",
    "import lightgbm as lgb\n",
    "\n",
    "import torch\n",
    "import transformers as ppb\n",
    "\n",
    "from sklearn.metrics import f1_score\n",
    "from sklearn.metrics import make_scorer"
   ]
  },
  {
   "cell_type": "markdown",
   "metadata": {},
   "source": [
    "## Чтение данных"
   ]
  },
  {
   "cell_type": "markdown",
   "metadata": {},
   "source": [
    "Прочитаем данные и сохраним в таблицу **df**."
   ]
  },
  {
   "cell_type": "code",
   "execution_count": 2,
   "metadata": {},
   "outputs": [],
   "source": [
    "df = pd.read_csv('/datasets/toxic_comments.csv')"
   ]
  },
  {
   "cell_type": "markdown",
   "metadata": {},
   "source": [
    "Выведем данные."
   ]
  },
  {
   "cell_type": "code",
   "execution_count": 3,
   "metadata": {},
   "outputs": [
    {
     "data": {
      "text/html": [
       "<div>\n",
       "<style scoped>\n",
       "    .dataframe tbody tr th:only-of-type {\n",
       "        vertical-align: middle;\n",
       "    }\n",
       "\n",
       "    .dataframe tbody tr th {\n",
       "        vertical-align: top;\n",
       "    }\n",
       "\n",
       "    .dataframe thead th {\n",
       "        text-align: right;\n",
       "    }\n",
       "</style>\n",
       "<table border=\"1\" class=\"dataframe\">\n",
       "  <thead>\n",
       "    <tr style=\"text-align: right;\">\n",
       "      <th></th>\n",
       "      <th>text</th>\n",
       "      <th>toxic</th>\n",
       "    </tr>\n",
       "  </thead>\n",
       "  <tbody>\n",
       "    <tr>\n",
       "      <th>0</th>\n",
       "      <td>Explanation\\nWhy the edits made under my usern...</td>\n",
       "      <td>0</td>\n",
       "    </tr>\n",
       "    <tr>\n",
       "      <th>1</th>\n",
       "      <td>D'aww! He matches this background colour I'm s...</td>\n",
       "      <td>0</td>\n",
       "    </tr>\n",
       "    <tr>\n",
       "      <th>2</th>\n",
       "      <td>Hey man, I'm really not trying to edit war. It...</td>\n",
       "      <td>0</td>\n",
       "    </tr>\n",
       "    <tr>\n",
       "      <th>3</th>\n",
       "      <td>\"\\nMore\\nI can't make any real suggestions on ...</td>\n",
       "      <td>0</td>\n",
       "    </tr>\n",
       "    <tr>\n",
       "      <th>4</th>\n",
       "      <td>You, sir, are my hero. Any chance you remember...</td>\n",
       "      <td>0</td>\n",
       "    </tr>\n",
       "  </tbody>\n",
       "</table>\n",
       "</div>"
      ],
      "text/plain": [
       "                                                text  toxic\n",
       "0  Explanation\\nWhy the edits made under my usern...      0\n",
       "1  D'aww! He matches this background colour I'm s...      0\n",
       "2  Hey man, I'm really not trying to edit war. It...      0\n",
       "3  \"\\nMore\\nI can't make any real suggestions on ...      0\n",
       "4  You, sir, are my hero. Any chance you remember...      0"
      ]
     },
     "execution_count": 3,
     "metadata": {},
     "output_type": "execute_result"
    }
   ],
   "source": [
    "df.head()"
   ]
  },
  {
   "cell_type": "code",
   "execution_count": 4,
   "metadata": {},
   "outputs": [
    {
     "name": "stdout",
     "output_type": "stream",
     "text": [
      "<class 'pandas.core.frame.DataFrame'>\n",
      "RangeIndex: 159571 entries, 0 to 159570\n",
      "Data columns (total 2 columns):\n",
      " #   Column  Non-Null Count   Dtype \n",
      "---  ------  --------------   ----- \n",
      " 0   text    159571 non-null  object\n",
      " 1   toxic   159571 non-null  int64 \n",
      "dtypes: int64(1), object(1)\n",
      "memory usage: 2.4+ MB\n"
     ]
    }
   ],
   "source": [
    "df.info()"
   ]
  },
  {
   "cell_type": "markdown",
   "metadata": {},
   "source": [
    "Пропусков нет, нужно только обработать текст в признаках для моделей, которые не умеют этого делать сами: решающее дерево, случайный лес, логистическая регрессия..."
   ]
  },
  {
   "cell_type": "markdown",
   "metadata": {},
   "source": [
    "## Обработка текста\n",
    "\n",
    "Для начала лемматизируем текст и оставим в нем только слова без спец символов."
   ]
  },
  {
   "cell_type": "code",
   "execution_count": 5,
   "metadata": {},
   "outputs": [],
   "source": [
    "def lemmatize(text):\n",
    "    m = WordNetLemmatizer()\n",
    "    lemm_list = m.lemmatize(text)\n",
    "    lemm_text = \"\".join(lemm_list)\n",
    "        \n",
    "    return lemm_text"
   ]
  },
  {
   "cell_type": "code",
   "execution_count": 6,
   "metadata": {},
   "outputs": [],
   "source": [
    "def clear_text(text):\n",
    "    text = re.sub(r'[^a-zA-Z ]', ' ', text) \n",
    "    text_arr = text.split()\n",
    "    text = \" \".join(text_arr)\n",
    "    return text"
   ]
  },
  {
   "cell_type": "code",
   "execution_count": 7,
   "metadata": {
    "scrolled": true
   },
   "outputs": [],
   "source": [
    "df['lemm_text'] = df['text'].apply(lambda x: lemmatize(clear_text(x)))"
   ]
  },
  {
   "cell_type": "markdown",
   "metadata": {},
   "source": [
    "## Обучение\n",
    "\n",
    "Скачаем пакет стопслов."
   ]
  },
  {
   "cell_type": "code",
   "execution_count": 8,
   "metadata": {
    "scrolled": true
   },
   "outputs": [],
   "source": [
    "f1_scorer = make_scorer(f1_score, average='binary')"
   ]
  },
  {
   "cell_type": "code",
   "execution_count": 9,
   "metadata": {
    "scrolled": true
   },
   "outputs": [
    {
     "name": "stderr",
     "output_type": "stream",
     "text": [
      "[nltk_data] Downloading package stopwords to\n",
      "[nltk_data]     C:\\Users\\Xiaomi\\AppData\\Roaming\\nltk_data...\n",
      "[nltk_data]   Package stopwords is already up-to-date!\n"
     ]
    }
   ],
   "source": [
    "nltk.download('stopwords')\n",
    "stopwords = set(nltk_stopwords.words('english'))"
   ]
  },
  {
   "cell_type": "markdown",
   "metadata": {},
   "source": [
    "## Bert\n",
    "\n",
    "Мы будем использовать distilled версию bert, так как она быстрее и дешевле по памяти. Также эта модель уже предобучена на англоязычном корпусе.\n",
    "\n",
    "Загрузка предобученной модели DistilBERT и токенизатора."
   ]
  },
  {
   "cell_type": "code",
   "execution_count": 10,
   "metadata": {
    "scrolled": false
   },
   "outputs": [],
   "source": [
    "model_class, tokenizer_class, pretrained_weights = (ppb.DistilBertModel, ppb.DistilBertTokenizer, 'distilbert-base-uncased')\n",
    "\n",
    "tokenizer = tokenizer_class.from_pretrained(pretrained_weights)\n",
    "model = model_class.from_pretrained(pretrained_weights)"
   ]
  },
  {
   "cell_type": "markdown",
   "metadata": {},
   "source": [
    "Оставим только маленькие тексты, чтобы хватило памяти компьютера."
   ]
  },
  {
   "cell_type": "code",
   "execution_count": 11,
   "metadata": {
    "scrolled": true
   },
   "outputs": [],
   "source": [
    "small_df = df[df['text'].apply(len) < 50]"
   ]
  },
  {
   "cell_type": "code",
   "execution_count": 12,
   "metadata": {
    "scrolled": false
   },
   "outputs": [
    {
     "data": {
      "text/plain": [
       "0    14300\n",
       "1     3024\n",
       "Name: toxic, dtype: int64"
      ]
     },
     "execution_count": 12,
     "metadata": {},
     "output_type": "execute_result"
    }
   ],
   "source": [
    "small_df['toxic'].value_counts()"
   ]
  },
  {
   "cell_type": "markdown",
   "metadata": {},
   "source": [
    "Закодируем строки, ограничив длину токена до 100. Кодирование происходит следующим образом: тексты разбиваются на токены, добавляются специальные токены и происходит замена каждого токена его идентификатором из таблицы эмбеддингов, которую мы получаем вместе с обученной моделью."
   ]
  },
  {
   "cell_type": "code",
   "execution_count": 13,
   "metadata": {
    "scrolled": true
   },
   "outputs": [],
   "source": [
    "tokenized = small_df['text'].apply(lambda x: tokenizer.encode(x, add_special_tokens=True, max_length = 100, truncation = True))"
   ]
  },
  {
   "cell_type": "markdown",
   "metadata": {},
   "source": [
    "Таким образом, мы получаем матрицу/тензор, который можно передавать BERT'у"
   ]
  },
  {
   "cell_type": "markdown",
   "metadata": {},
   "source": [
    "Заполним недостающие до максимальной длины строки нулями в конце."
   ]
  },
  {
   "cell_type": "code",
   "execution_count": 14,
   "metadata": {},
   "outputs": [],
   "source": [
    "max_len = 0\n",
    "for i in tokenized.values:\n",
    "    if len(i) > max_len:\n",
    "        max_len = len(i)\n",
    "\n",
    "\n",
    "padded = []\n",
    "for i in tokenized.values:\n",
    "    padded.append(i + [0]*(max_len - len(i)))"
   ]
  },
  {
   "cell_type": "markdown",
   "metadata": {},
   "source": [
    "Порядок обработки входного вектора в DistilBERT'е точно такой же, как и в обычном BERT'е. На выходе будет вектор для каждого входного токена, состоящий из 768 чисел с плавающей точкой."
   ]
  },
  {
   "cell_type": "code",
   "execution_count": 15,
   "metadata": {
    "scrolled": false
   },
   "outputs": [],
   "source": [
    "input_ids = torch.tensor(np.array(padded))\n",
    "\n",
    "with torch.no_grad():\n",
    "    last_hidden_states = model(input_ids)"
   ]
  },
  {
   "cell_type": "markdown",
   "metadata": {},
   "source": [
    "Поскольку перед нами стоит задача классификации предложений, мы игнорируем все, кроме первого вектора (связанного с [CLS] токеном). Этот вектор мы передаем в качестве входного в модель логистической регрессии."
   ]
  },
  {
   "cell_type": "code",
   "execution_count": 16,
   "metadata": {},
   "outputs": [],
   "source": [
    "features = last_hidden_states[0][:,0,:].numpy()"
   ]
  },
  {
   "cell_type": "code",
   "execution_count": 17,
   "metadata": {},
   "outputs": [],
   "source": [
    "train_small_features, test_small_features, train_small_target, test_small_target = (\n",
    "    train_test_split(features, small_df['toxic'], test_size=0.25))"
   ]
  },
  {
   "cell_type": "markdown",
   "metadata": {},
   "source": [
    "Мы получили закодированные признаки, теперь нужно только обучить логистическую регрессию.\n",
    "\n",
    "### Логистическая регрессия"
   ]
  },
  {
   "cell_type": "code",
   "execution_count": 18,
   "metadata": {
    "scrolled": true
   },
   "outputs": [
    {
     "name": "stdout",
     "output_type": "stream",
     "text": [
      "linear regression: 0.8075889010783186\n",
      "{'C': 10}\n",
      "Wall time: 3min 6s\n"
     ]
    }
   ],
   "source": [
    "%%time\n",
    "#<Логистическая регрессия>\n",
    "linear_parametrs = {'C': [0.001, 0.01, 0.1, 1, 10, 100, 1000]}\n",
    "\n",
    "clf = LogisticRegression(max_iter = 10000, random_state = 12345)\n",
    "\n",
    "grid = GridSearchCV(clf, linear_parametrs, cv=3, scoring = 'f1')\n",
    "grid.fit(train_small_features, train_small_target)\n",
    "\n",
    "print('linear regression:', abs(grid.best_score_))\n",
    "print(grid.best_params_)"
   ]
  },
  {
   "cell_type": "markdown",
   "metadata": {},
   "source": [
    "Теперь обучим простые модели."
   ]
  },
  {
   "cell_type": "code",
   "execution_count": 19,
   "metadata": {},
   "outputs": [],
   "source": [
    "features_lemm = df['lemm_text']\n",
    "features = df['text']\n",
    "\n",
    "target = df['toxic']\n",
    "\n",
    "train_features_lemm, test_features_lemm, train_target, test_target = (\n",
    "    train_test_split(features_lemm, target, test_size=0.25))"
   ]
  },
  {
   "cell_type": "markdown",
   "metadata": {},
   "source": [
    "Приведем все символы к типу Unicode и векторизуем их с помощью TfidfVectorizer."
   ]
  },
  {
   "cell_type": "code",
   "execution_count": 20,
   "metadata": {
    "scrolled": false
   },
   "outputs": [],
   "source": [
    "train_features_vect = train_features_lemm.values.astype('U')\n",
    "test_features_vect = test_features_lemm.values.astype('U')\n",
    "\n",
    "#<min_df для исключения самых редких слов>\n",
    "count_tf_idf = TfidfVectorizer(stop_words=stopwords, min_df=0.0001)\n",
    "train_features_vect = count_tf_idf.fit_transform(train_features_vect)\n",
    "test_features_vect = count_tf_idf.transform(test_features_vect)"
   ]
  },
  {
   "cell_type": "markdown",
   "source": [
    "Обучим простые модели.\n",
    "\n",
    "### Дерево решений"
   ],
   "metadata": {
    "collapsed": false
   }
  },
  {
   "cell_type": "code",
   "execution_count": null,
   "outputs": [],
   "source": [
    "%%time\n",
    "#<дерево решений>\n",
    "tree_parametrs = {'max_depth':[4,5,6,7,8,9,10,11,12,15,20,30,40,50,70,90,120,150]}\n",
    "\n",
    "clf = DecisionTreeClassifier(random_state = 12345)\n",
    "\n",
    "grid = GridSearchCV(clf, tree_parametrs, cv=3, scoring = 'f1')\n",
    "grid.fit(train_features_vect, train_target)\n",
    "\n",
    "print('tree:', abs(grid.best_score_))\n",
    "print(grid.best_params_)"
   ],
   "metadata": {
    "collapsed": false,
    "pycharm": {
     "name": "#%%\n"
    }
   }
  },
  {
   "cell_type": "markdown",
   "source": [
    "### Случайный лес"
   ],
   "metadata": {
    "collapsed": false
   }
  },
  {
   "cell_type": "code",
   "execution_count": null,
   "outputs": [],
   "source": [
    "%%time\n",
    "#<случайный лес>\n",
    "forest_parametrs = { 'n_estimators': range (10, 101, 10),\n",
    "              'max_depth': range (1, 10)}\n",
    "\n",
    "clf = RandomForestClassifier(random_state = 12345)\n",
    "\n",
    "grid = GridSearchCV(clf, forest_parametrs, cv=3, scoring = 'f1')\n",
    "grid.fit(train_features_vect, train_target)\n",
    "\n",
    "print('forest:', abs(grid.best_score_))\n",
    "print(grid.best_params_)"
   ],
   "metadata": {
    "collapsed": false,
    "pycharm": {
     "name": "#%%\n"
    }
   }
  },
  {
   "cell_type": "markdown",
   "source": [
    "### Логистическая регрессия"
   ],
   "metadata": {
    "collapsed": false
   }
  },
  {
   "cell_type": "code",
   "execution_count": null,
   "outputs": [],
   "source": [
    "%%time\n",
    "#<Логистическая регрессия>\n",
    "linear_parametrs = {\"C\":np.logspace(-3,3,7)}\n",
    "\n",
    "clf = LogisticRegression(max_iter = 1500, random_state = 12345)\n",
    "\n",
    "grid = GridSearchCV(clf, linear_parametrs, cv=3, scoring = 'f1')\n",
    "grid.fit(train_features_vect, train_target)\n",
    "\n",
    "print('linear regression:', abs(grid.best_score_))\n",
    "print(grid.best_params_)"
   ],
   "metadata": {
    "collapsed": false,
    "pycharm": {
     "name": "#%%\n"
    }
   }
  },
  {
   "cell_type": "markdown",
   "source": [
    "### LightGBM"
   ],
   "metadata": {
    "collapsed": false
   }
  },
  {
   "cell_type": "code",
   "execution_count": null,
   "outputs": [],
   "source": [
    "%%time\n",
    "\n",
    "#<LightGBM>\n",
    "lgb_parametrs = {'num_leaves': range(10, 30, 10),\n",
    "                 'max_depth': range(1, 10),\n",
    "                 'n_estimators':range(10, 100, 10)}\n",
    "\n",
    "clf = lgb.LGBMClassifier()\n",
    "\n",
    "grid = GridSearchCV(clf, lgb_parametrs, cv=3, scoring = 'f1')\n",
    "grid.fit(train_features_vect, train_target, verbose = 10)\n",
    "\n",
    "print('LightGBM:', abs(grid.best_score_))\n",
    "print(grid.best_params_)"
   ],
   "metadata": {
    "collapsed": false,
    "pycharm": {
     "name": "#%%\n"
    }
   }
  },
  {
   "cell_type": "markdown",
   "metadata": {},
   "source": [
    "## Тестирование\n",
    "\n",
    "Обучим лучшие модели на на лучших параметрах."
   ]
  },
  {
   "cell_type": "code",
   "execution_count": 25,
   "metadata": {},
   "outputs": [],
   "source": [
    "df_results = pd.DataFrame(columns=['model', 'result'])"
   ]
  },
  {
   "cell_type": "markdown",
   "metadata": {},
   "source": [
    "### Bert Логистическая регрессия"
   ]
  },
  {
   "cell_type": "code",
   "execution_count": 26,
   "metadata": {},
   "outputs": [
    {
     "data": {
      "text/plain": [
       "0.8161865569272977"
      ]
     },
     "execution_count": 26,
     "metadata": {},
     "output_type": "execute_result"
    }
   ],
   "source": [
    "model = LogisticRegression(max_iter = 5000, random_state = 12345, C = 10.0)\n",
    "model.fit(train_small_features, train_small_target)\n",
    "predictions = model.predict(test_small_features)\n",
    "\n",
    "df_results.loc[0] = (['Bert LogisticRegression', f1_score(test_small_target, predictions)])\n",
    "f1_score(test_small_target, predictions)"
   ]
  },
  {
   "cell_type": "markdown",
   "metadata": {},
   "source": [
    "\n",
    "\n",
    "### Дерево решений"
   ]
  },
  {
   "cell_type": "code",
   "execution_count": 27,
   "metadata": {
    "scrolled": true
   },
   "outputs": [
    {
     "data": {
      "text/plain": [
       "0.7226456178551985"
      ]
     },
     "execution_count": 27,
     "metadata": {},
     "output_type": "execute_result"
    }
   ],
   "source": [
    "model = DecisionTreeClassifier(random_state = 12345, max_depth = 150)\n",
    "model.fit(train_features_vect, train_target)\n",
    "predictions = model.predict(test_features_vect)\n",
    "\n",
    "df_results.loc[1] = (['DecisionTreeClassifier', f1_score(test_target, predictions)])\n",
    "f1_score(test_target, predictions)"
   ]
  },
  {
   "cell_type": "markdown",
   "metadata": {},
   "source": [
    "### Логистическая регрессия"
   ]
  },
  {
   "cell_type": "code",
   "execution_count": 28,
   "metadata": {},
   "outputs": [
    {
     "data": {
      "text/plain": [
       "0.7759123074788401"
      ]
     },
     "execution_count": 28,
     "metadata": {},
     "output_type": "execute_result"
    }
   ],
   "source": [
    "model = LogisticRegression(max_iter = 1000, random_state = 12345, C = 10.0)\n",
    "model.fit(train_features_vect, train_target)\n",
    "predictions = model.predict(test_features_vect)\n",
    "\n",
    "df_results.loc[2] = (['LogisticRegression', f1_score(test_target, predictions)])\n",
    "f1_score(test_target, predictions)"
   ]
  },
  {
   "cell_type": "markdown",
   "metadata": {},
   "source": [
    "### LightGBM"
   ]
  },
  {
   "cell_type": "code",
   "execution_count": 29,
   "metadata": {},
   "outputs": [
    {
     "data": {
      "text/plain": [
       "0.6635559131134353"
      ]
     },
     "execution_count": 29,
     "metadata": {},
     "output_type": "execute_result"
    }
   ],
   "source": [
    "model = lgb.LGBMClassifier(max_depth = 9, n_estimators = 90, num_leaves = 20)\n",
    "model.fit(train_features_vect, train_target)\n",
    "predictions = model.predict(test_features_vect)\n",
    "\n",
    "df_results.loc[3] = (['LGBMClassifier', f1_score(test_target, predictions)])\n",
    "f1_score(test_target, predictions)"
   ]
  },
  {
   "cell_type": "markdown",
   "metadata": {},
   "source": [
    "### CatBoostClassifier"
   ]
  },
  {
   "cell_type": "code",
   "execution_count": 30,
   "metadata": {
    "scrolled": true
   },
   "outputs": [
    {
     "name": "stdout",
     "output_type": "stream",
     "text": [
      "Learning rate set to 0.079478\n",
      "0:\tlearn: 0.6127715\ttotal: 1.48s\tremaining: 24m 37s\n",
      "1:\tlearn: 0.5459074\ttotal: 2.16s\tremaining: 18m\n",
      "2:\tlearn: 0.4909971\ttotal: 2.8s\tremaining: 15m 29s\n",
      "3:\tlearn: 0.4460436\ttotal: 3.38s\tremaining: 14m 1s\n",
      "4:\tlearn: 0.4098122\ttotal: 3.96s\tremaining: 13m 7s\n",
      "5:\tlearn: 0.3800263\ttotal: 4.53s\tremaining: 12m 30s\n",
      "6:\tlearn: 0.3551523\ttotal: 5.12s\tremaining: 12m 5s\n",
      "7:\tlearn: 0.3345333\ttotal: 5.7s\tremaining: 11m 47s\n",
      "8:\tlearn: 0.3167946\ttotal: 6.33s\tremaining: 11m 36s\n",
      "9:\tlearn: 0.3032729\ttotal: 6.95s\tremaining: 11m 28s\n",
      "10:\tlearn: 0.2916704\ttotal: 7.57s\tremaining: 11m 20s\n",
      "11:\tlearn: 0.2822595\ttotal: 8.14s\tremaining: 11m 10s\n",
      "12:\tlearn: 0.2738068\ttotal: 8.72s\tremaining: 11m 2s\n",
      "13:\tlearn: 0.2667461\ttotal: 9.3s\tremaining: 10m 55s\n",
      "14:\tlearn: 0.2604170\ttotal: 9.88s\tremaining: 10m 48s\n",
      "15:\tlearn: 0.2551964\ttotal: 10.5s\tremaining: 10m 43s\n",
      "16:\tlearn: 0.2507552\ttotal: 11s\tremaining: 10m 38s\n",
      "17:\tlearn: 0.2469628\ttotal: 11.6s\tremaining: 10m 33s\n",
      "18:\tlearn: 0.2435121\ttotal: 12.2s\tremaining: 10m 28s\n",
      "19:\tlearn: 0.2404527\ttotal: 12.7s\tremaining: 10m 24s\n",
      "20:\tlearn: 0.2377958\ttotal: 13.3s\tremaining: 10m 21s\n",
      "21:\tlearn: 0.2347724\ttotal: 13.9s\tremaining: 10m 18s\n",
      "22:\tlearn: 0.2323970\ttotal: 14.5s\tremaining: 10m 15s\n",
      "23:\tlearn: 0.2300758\ttotal: 15.1s\tremaining: 10m 13s\n",
      "24:\tlearn: 0.2281885\ttotal: 15.7s\tremaining: 10m 11s\n",
      "25:\tlearn: 0.2264348\ttotal: 16.2s\tremaining: 10m 8s\n",
      "26:\tlearn: 0.2247948\ttotal: 16.8s\tremaining: 10m 5s\n",
      "27:\tlearn: 0.2229150\ttotal: 17.4s\tremaining: 10m 3s\n",
      "28:\tlearn: 0.2214703\ttotal: 18s\tremaining: 10m 1s\n",
      "29:\tlearn: 0.2197673\ttotal: 18.6s\tremaining: 10m\n",
      "30:\tlearn: 0.2184201\ttotal: 19.1s\tremaining: 9m 57s\n",
      "31:\tlearn: 0.2173498\ttotal: 19.7s\tremaining: 9m 56s\n",
      "32:\tlearn: 0.2164042\ttotal: 20.3s\tremaining: 9m 54s\n",
      "33:\tlearn: 0.2154442\ttotal: 20.8s\tremaining: 9m 52s\n",
      "34:\tlearn: 0.2145258\ttotal: 21.4s\tremaining: 9m 50s\n",
      "35:\tlearn: 0.2134940\ttotal: 22s\tremaining: 9m 48s\n",
      "36:\tlearn: 0.2124869\ttotal: 22.6s\tremaining: 9m 47s\n",
      "37:\tlearn: 0.2116013\ttotal: 23.2s\tremaining: 9m 47s\n",
      "38:\tlearn: 0.2104459\ttotal: 23.8s\tremaining: 9m 46s\n",
      "39:\tlearn: 0.2097285\ttotal: 24.4s\tremaining: 9m 45s\n",
      "40:\tlearn: 0.2086849\ttotal: 25s\tremaining: 9m 44s\n",
      "41:\tlearn: 0.2080330\ttotal: 25.6s\tremaining: 9m 42s\n",
      "42:\tlearn: 0.2070572\ttotal: 26.1s\tremaining: 9m 41s\n",
      "43:\tlearn: 0.2058369\ttotal: 26.7s\tremaining: 9m 41s\n",
      "44:\tlearn: 0.2049977\ttotal: 27.3s\tremaining: 9m 39s\n",
      "45:\tlearn: 0.2043104\ttotal: 27.9s\tremaining: 9m 38s\n",
      "46:\tlearn: 0.2035317\ttotal: 28.5s\tremaining: 9m 37s\n",
      "47:\tlearn: 0.2028779\ttotal: 29.1s\tremaining: 9m 36s\n",
      "48:\tlearn: 0.2021760\ttotal: 30.1s\tremaining: 9m 43s\n",
      "49:\tlearn: 0.2015949\ttotal: 31.4s\tremaining: 9m 56s\n",
      "50:\tlearn: 0.2007387\ttotal: 32.7s\tremaining: 10m 9s\n",
      "51:\tlearn: 0.2002182\ttotal: 34s\tremaining: 10m 19s\n",
      "52:\tlearn: 0.1995942\ttotal: 34.9s\tremaining: 10m 22s\n",
      "53:\tlearn: 0.1990072\ttotal: 35.4s\tremaining: 10m 20s\n",
      "54:\tlearn: 0.1984443\ttotal: 36s\tremaining: 10m 19s\n",
      "55:\tlearn: 0.1978056\ttotal: 36.6s\tremaining: 10m 16s\n",
      "56:\tlearn: 0.1973285\ttotal: 37.3s\tremaining: 10m 16s\n",
      "57:\tlearn: 0.1968055\ttotal: 38s\tremaining: 10m 16s\n",
      "58:\tlearn: 0.1962959\ttotal: 38.7s\tremaining: 10m 17s\n",
      "59:\tlearn: 0.1955717\ttotal: 39.3s\tremaining: 10m 16s\n",
      "60:\tlearn: 0.1951113\ttotal: 40.1s\tremaining: 10m 16s\n",
      "61:\tlearn: 0.1946005\ttotal: 40.8s\tremaining: 10m 16s\n",
      "62:\tlearn: 0.1941758\ttotal: 41.4s\tremaining: 10m 16s\n",
      "63:\tlearn: 0.1937157\ttotal: 42.1s\tremaining: 10m 15s\n",
      "64:\tlearn: 0.1933159\ttotal: 42.6s\tremaining: 10m 13s\n",
      "65:\tlearn: 0.1924225\ttotal: 43.3s\tremaining: 10m 12s\n",
      "66:\tlearn: 0.1919341\ttotal: 43.9s\tremaining: 10m 10s\n",
      "67:\tlearn: 0.1914644\ttotal: 44.4s\tremaining: 10m 9s\n",
      "68:\tlearn: 0.1909852\ttotal: 45.1s\tremaining: 10m 8s\n",
      "69:\tlearn: 0.1902889\ttotal: 45.7s\tremaining: 10m 7s\n",
      "70:\tlearn: 0.1898397\ttotal: 46.3s\tremaining: 10m 6s\n",
      "71:\tlearn: 0.1892152\ttotal: 46.9s\tremaining: 10m 5s\n",
      "72:\tlearn: 0.1888514\ttotal: 47.5s\tremaining: 10m 3s\n",
      "73:\tlearn: 0.1884553\ttotal: 48.2s\tremaining: 10m 3s\n",
      "74:\tlearn: 0.1880143\ttotal: 48.8s\tremaining: 10m 1s\n",
      "75:\tlearn: 0.1875637\ttotal: 49.4s\tremaining: 10m\n",
      "76:\tlearn: 0.1872018\ttotal: 50s\tremaining: 9m 58s\n",
      "77:\tlearn: 0.1867950\ttotal: 50.6s\tremaining: 9m 58s\n",
      "78:\tlearn: 0.1864407\ttotal: 51.2s\tremaining: 9m 56s\n",
      "79:\tlearn: 0.1861406\ttotal: 51.8s\tremaining: 9m 55s\n",
      "80:\tlearn: 0.1857634\ttotal: 52.3s\tremaining: 9m 53s\n",
      "81:\tlearn: 0.1854321\ttotal: 52.9s\tremaining: 9m 52s\n",
      "82:\tlearn: 0.1849752\ttotal: 53.5s\tremaining: 9m 50s\n",
      "83:\tlearn: 0.1846644\ttotal: 54.1s\tremaining: 9m 49s\n",
      "84:\tlearn: 0.1843175\ttotal: 54.7s\tremaining: 9m 48s\n",
      "85:\tlearn: 0.1838604\ttotal: 55.8s\tremaining: 9m 52s\n",
      "86:\tlearn: 0.1833523\ttotal: 56.6s\tremaining: 9m 54s\n",
      "87:\tlearn: 0.1827710\ttotal: 57.2s\tremaining: 9m 53s\n",
      "88:\tlearn: 0.1824423\ttotal: 57.8s\tremaining: 9m 51s\n",
      "89:\tlearn: 0.1819743\ttotal: 58.4s\tremaining: 9m 50s\n",
      "90:\tlearn: 0.1816569\ttotal: 59s\tremaining: 9m 49s\n",
      "91:\tlearn: 0.1813555\ttotal: 1m\tremaining: 9m 52s\n",
      "92:\tlearn: 0.1810533\ttotal: 1m\tremaining: 9m 52s\n",
      "93:\tlearn: 0.1807807\ttotal: 1m 1s\tremaining: 9m 50s\n",
      "94:\tlearn: 0.1805017\ttotal: 1m 1s\tremaining: 9m 49s\n",
      "95:\tlearn: 0.1801936\ttotal: 1m 2s\tremaining: 9m 47s\n",
      "96:\tlearn: 0.1799295\ttotal: 1m 2s\tremaining: 9m 46s\n",
      "97:\tlearn: 0.1795028\ttotal: 1m 3s\tremaining: 9m 44s\n",
      "98:\tlearn: 0.1792116\ttotal: 1m 4s\tremaining: 9m 43s\n",
      "99:\tlearn: 0.1789558\ttotal: 1m 4s\tremaining: 9m 41s\n",
      "100:\tlearn: 0.1786531\ttotal: 1m 5s\tremaining: 9m 40s\n",
      "101:\tlearn: 0.1784163\ttotal: 1m 5s\tremaining: 9m 38s\n",
      "102:\tlearn: 0.1781241\ttotal: 1m 6s\tremaining: 9m 37s\n",
      "103:\tlearn: 0.1778545\ttotal: 1m 6s\tremaining: 9m 36s\n",
      "104:\tlearn: 0.1776282\ttotal: 1m 7s\tremaining: 9m 35s\n",
      "105:\tlearn: 0.1773479\ttotal: 1m 8s\tremaining: 9m 34s\n",
      "106:\tlearn: 0.1769754\ttotal: 1m 8s\tremaining: 9m 33s\n",
      "107:\tlearn: 0.1764635\ttotal: 1m 9s\tremaining: 9m 33s\n",
      "108:\tlearn: 0.1760232\ttotal: 1m 10s\tremaining: 9m 32s\n",
      "109:\tlearn: 0.1757682\ttotal: 1m 10s\tremaining: 9m 31s\n",
      "110:\tlearn: 0.1755207\ttotal: 1m 11s\tremaining: 9m 31s\n",
      "111:\tlearn: 0.1751213\ttotal: 1m 12s\tremaining: 9m 30s\n",
      "112:\tlearn: 0.1748451\ttotal: 1m 12s\tremaining: 9m 30s\n",
      "113:\tlearn: 0.1745575\ttotal: 1m 13s\tremaining: 9m 29s\n",
      "114:\tlearn: 0.1742708\ttotal: 1m 13s\tremaining: 9m 29s\n",
      "115:\tlearn: 0.1739119\ttotal: 1m 14s\tremaining: 9m 28s\n",
      "116:\tlearn: 0.1735268\ttotal: 1m 15s\tremaining: 9m 27s\n",
      "117:\tlearn: 0.1732504\ttotal: 1m 15s\tremaining: 9m 25s\n",
      "118:\tlearn: 0.1729932\ttotal: 1m 16s\tremaining: 9m 24s\n",
      "119:\tlearn: 0.1727280\ttotal: 1m 16s\tremaining: 9m 23s\n",
      "120:\tlearn: 0.1725188\ttotal: 1m 17s\tremaining: 9m 21s\n",
      "121:\tlearn: 0.1722403\ttotal: 1m 17s\tremaining: 9m 20s\n",
      "122:\tlearn: 0.1718583\ttotal: 1m 18s\tremaining: 9m 19s\n",
      "123:\tlearn: 0.1715799\ttotal: 1m 19s\tremaining: 9m 18s\n",
      "124:\tlearn: 0.1712820\ttotal: 1m 19s\tremaining: 9m 17s\n",
      "125:\tlearn: 0.1710522\ttotal: 1m 20s\tremaining: 9m 15s\n",
      "126:\tlearn: 0.1708250\ttotal: 1m 20s\tremaining: 9m 15s\n",
      "127:\tlearn: 0.1705963\ttotal: 1m 21s\tremaining: 9m 14s\n",
      "128:\tlearn: 0.1703673\ttotal: 1m 22s\tremaining: 9m 13s\n",
      "129:\tlearn: 0.1701516\ttotal: 1m 22s\tremaining: 9m 13s\n",
      "130:\tlearn: 0.1698556\ttotal: 1m 23s\tremaining: 9m 12s\n",
      "131:\tlearn: 0.1696393\ttotal: 1m 23s\tremaining: 9m 12s\n",
      "132:\tlearn: 0.1693906\ttotal: 1m 24s\tremaining: 9m 11s\n",
      "133:\tlearn: 0.1690234\ttotal: 1m 25s\tremaining: 9m 10s\n",
      "134:\tlearn: 0.1687263\ttotal: 1m 25s\tremaining: 9m 9s\n",
      "135:\tlearn: 0.1685248\ttotal: 1m 26s\tremaining: 9m 9s\n",
      "136:\tlearn: 0.1683177\ttotal: 1m 27s\tremaining: 9m 11s\n",
      "137:\tlearn: 0.1681157\ttotal: 1m 28s\tremaining: 9m 12s\n",
      "138:\tlearn: 0.1679210\ttotal: 1m 29s\tremaining: 9m 11s\n",
      "139:\tlearn: 0.1677260\ttotal: 1m 29s\tremaining: 9m 10s\n",
      "140:\tlearn: 0.1675430\ttotal: 1m 30s\tremaining: 9m 9s\n",
      "141:\tlearn: 0.1672477\ttotal: 1m 30s\tremaining: 9m 8s\n",
      "142:\tlearn: 0.1669054\ttotal: 1m 31s\tremaining: 9m 7s\n",
      "143:\tlearn: 0.1667299\ttotal: 1m 31s\tremaining: 9m 6s\n",
      "144:\tlearn: 0.1665524\ttotal: 1m 32s\tremaining: 9m 5s\n",
      "145:\tlearn: 0.1662918\ttotal: 1m 33s\tremaining: 9m 4s\n",
      "146:\tlearn: 0.1660247\ttotal: 1m 33s\tremaining: 9m 3s\n",
      "147:\tlearn: 0.1658142\ttotal: 1m 34s\tremaining: 9m 1s\n",
      "148:\tlearn: 0.1656301\ttotal: 1m 34s\tremaining: 9m\n",
      "149:\tlearn: 0.1654415\ttotal: 1m 35s\tremaining: 8m 59s\n",
      "150:\tlearn: 0.1652413\ttotal: 1m 35s\tremaining: 8m 58s\n",
      "151:\tlearn: 0.1650446\ttotal: 1m 36s\tremaining: 8m 57s\n",
      "152:\tlearn: 0.1647799\ttotal: 1m 36s\tremaining: 8m 56s\n",
      "153:\tlearn: 0.1645183\ttotal: 1m 37s\tremaining: 8m 55s\n",
      "154:\tlearn: 0.1643348\ttotal: 1m 38s\tremaining: 8m 54s\n",
      "155:\tlearn: 0.1640854\ttotal: 1m 38s\tremaining: 8m 53s\n",
      "156:\tlearn: 0.1639070\ttotal: 1m 39s\tremaining: 8m 52s\n",
      "157:\tlearn: 0.1637180\ttotal: 1m 39s\tremaining: 8m 51s\n",
      "158:\tlearn: 0.1635281\ttotal: 1m 40s\tremaining: 8m 50s\n",
      "159:\tlearn: 0.1633040\ttotal: 1m 40s\tremaining: 8m 49s\n",
      "160:\tlearn: 0.1630359\ttotal: 1m 41s\tremaining: 8m 48s\n",
      "161:\tlearn: 0.1627732\ttotal: 1m 42s\tremaining: 8m 48s\n",
      "162:\tlearn: 0.1626120\ttotal: 1m 42s\tremaining: 8m 47s\n",
      "163:\tlearn: 0.1623471\ttotal: 1m 43s\tremaining: 8m 46s\n",
      "164:\tlearn: 0.1621313\ttotal: 1m 44s\tremaining: 8m 46s\n",
      "165:\tlearn: 0.1619665\ttotal: 1m 44s\tremaining: 8m 47s\n",
      "166:\tlearn: 0.1616681\ttotal: 1m 45s\tremaining: 8m 46s\n",
      "167:\tlearn: 0.1614970\ttotal: 1m 46s\tremaining: 8m 46s\n",
      "168:\tlearn: 0.1613284\ttotal: 1m 46s\tremaining: 8m 45s\n",
      "169:\tlearn: 0.1611603\ttotal: 1m 47s\tremaining: 8m 45s\n",
      "170:\tlearn: 0.1609932\ttotal: 1m 48s\tremaining: 8m 44s\n",
      "171:\tlearn: 0.1608336\ttotal: 1m 48s\tremaining: 8m 43s\n",
      "172:\tlearn: 0.1605714\ttotal: 1m 49s\tremaining: 8m 42s\n",
      "173:\tlearn: 0.1603983\ttotal: 1m 49s\tremaining: 8m 41s\n",
      "174:\tlearn: 0.1602275\ttotal: 1m 50s\tremaining: 8m 40s\n",
      "175:\tlearn: 0.1598778\ttotal: 1m 51s\tremaining: 8m 40s\n",
      "176:\tlearn: 0.1597421\ttotal: 1m 51s\tremaining: 8m 39s\n",
      "177:\tlearn: 0.1595257\ttotal: 1m 52s\tremaining: 8m 38s\n",
      "178:\tlearn: 0.1593625\ttotal: 1m 52s\tremaining: 8m 37s\n",
      "179:\tlearn: 0.1591523\ttotal: 1m 53s\tremaining: 8m 36s\n",
      "180:\tlearn: 0.1589823\ttotal: 1m 53s\tremaining: 8m 35s\n",
      "181:\tlearn: 0.1587783\ttotal: 1m 54s\tremaining: 8m 34s\n",
      "182:\tlearn: 0.1586355\ttotal: 1m 54s\tremaining: 8m 33s\n",
      "183:\tlearn: 0.1584750\ttotal: 1m 55s\tremaining: 8m 32s\n",
      "184:\tlearn: 0.1582716\ttotal: 1m 56s\tremaining: 8m 31s\n",
      "185:\tlearn: 0.1580577\ttotal: 1m 56s\tremaining: 8m 30s\n",
      "186:\tlearn: 0.1578778\ttotal: 1m 57s\tremaining: 8m 29s\n",
      "187:\tlearn: 0.1577271\ttotal: 1m 57s\tremaining: 8m 28s\n",
      "188:\tlearn: 0.1575416\ttotal: 1m 58s\tremaining: 8m 27s\n",
      "189:\tlearn: 0.1573759\ttotal: 1m 58s\tremaining: 8m 26s\n",
      "190:\tlearn: 0.1572186\ttotal: 1m 59s\tremaining: 8m 26s\n",
      "191:\tlearn: 0.1570912\ttotal: 2m\tremaining: 8m 25s\n",
      "192:\tlearn: 0.1569458\ttotal: 2m\tremaining: 8m 24s\n",
      "193:\tlearn: 0.1567688\ttotal: 2m 1s\tremaining: 8m 23s\n",
      "194:\tlearn: 0.1565075\ttotal: 2m 1s\tremaining: 8m 22s\n",
      "195:\tlearn: 0.1562962\ttotal: 2m 2s\tremaining: 8m 21s\n",
      "196:\tlearn: 0.1560958\ttotal: 2m 2s\tremaining: 8m 20s\n",
      "197:\tlearn: 0.1559225\ttotal: 2m 3s\tremaining: 8m 20s\n",
      "198:\tlearn: 0.1557576\ttotal: 2m 4s\tremaining: 8m 19s\n",
      "199:\tlearn: 0.1555975\ttotal: 2m 4s\tremaining: 8m 18s\n",
      "200:\tlearn: 0.1554588\ttotal: 2m 5s\tremaining: 8m 18s\n",
      "201:\tlearn: 0.1553101\ttotal: 2m 5s\tremaining: 8m 17s\n",
      "202:\tlearn: 0.1551511\ttotal: 2m 6s\tremaining: 8m 16s\n",
      "203:\tlearn: 0.1549493\ttotal: 2m 7s\tremaining: 8m 16s\n",
      "204:\tlearn: 0.1547946\ttotal: 2m 7s\tremaining: 8m 15s\n",
      "205:\tlearn: 0.1546124\ttotal: 2m 8s\tremaining: 8m 14s\n",
      "206:\tlearn: 0.1544948\ttotal: 2m 8s\tremaining: 8m 13s\n",
      "207:\tlearn: 0.1543241\ttotal: 2m 9s\tremaining: 8m 13s\n",
      "208:\tlearn: 0.1541942\ttotal: 2m 10s\tremaining: 8m 12s\n",
      "209:\tlearn: 0.1540528\ttotal: 2m 10s\tremaining: 8m 11s\n",
      "210:\tlearn: 0.1539202\ttotal: 2m 11s\tremaining: 8m 10s\n",
      "211:\tlearn: 0.1537691\ttotal: 2m 11s\tremaining: 8m 9s\n",
      "212:\tlearn: 0.1535296\ttotal: 2m 12s\tremaining: 8m 8s\n",
      "213:\tlearn: 0.1533808\ttotal: 2m 12s\tremaining: 8m 8s\n",
      "214:\tlearn: 0.1532290\ttotal: 2m 13s\tremaining: 8m 8s\n",
      "215:\tlearn: 0.1530887\ttotal: 2m 14s\tremaining: 8m 8s\n",
      "216:\tlearn: 0.1529774\ttotal: 2m 15s\tremaining: 8m 8s\n",
      "217:\tlearn: 0.1527972\ttotal: 2m 15s\tremaining: 8m 7s\n",
      "218:\tlearn: 0.1526170\ttotal: 2m 16s\tremaining: 8m 6s\n",
      "219:\tlearn: 0.1524269\ttotal: 2m 17s\tremaining: 8m 5s\n",
      "220:\tlearn: 0.1522749\ttotal: 2m 17s\tremaining: 8m 5s\n",
      "221:\tlearn: 0.1520768\ttotal: 2m 18s\tremaining: 8m 4s\n",
      "222:\tlearn: 0.1518724\ttotal: 2m 18s\tremaining: 8m 3s\n",
      "223:\tlearn: 0.1517750\ttotal: 2m 19s\tremaining: 8m 2s\n",
      "224:\tlearn: 0.1515459\ttotal: 2m 19s\tremaining: 8m 1s\n",
      "225:\tlearn: 0.1514067\ttotal: 2m 20s\tremaining: 8m 1s\n",
      "226:\tlearn: 0.1512959\ttotal: 2m 21s\tremaining: 8m\n",
      "227:\tlearn: 0.1511286\ttotal: 2m 21s\tremaining: 7m 59s\n",
      "228:\tlearn: 0.1509431\ttotal: 2m 22s\tremaining: 7m 58s\n",
      "229:\tlearn: 0.1508049\ttotal: 2m 22s\tremaining: 7m 57s\n",
      "230:\tlearn: 0.1506705\ttotal: 2m 23s\tremaining: 7m 57s\n",
      "231:\tlearn: 0.1505506\ttotal: 2m 23s\tremaining: 7m 56s\n",
      "232:\tlearn: 0.1504116\ttotal: 2m 24s\tremaining: 7m 55s\n",
      "233:\tlearn: 0.1502626\ttotal: 2m 25s\tremaining: 7m 54s\n",
      "234:\tlearn: 0.1501492\ttotal: 2m 25s\tremaining: 7m 53s\n",
      "235:\tlearn: 0.1500256\ttotal: 2m 26s\tremaining: 7m 53s\n",
      "236:\tlearn: 0.1498892\ttotal: 2m 26s\tremaining: 7m 52s\n",
      "237:\tlearn: 0.1496841\ttotal: 2m 27s\tremaining: 7m 51s\n",
      "238:\tlearn: 0.1495705\ttotal: 2m 27s\tremaining: 7m 50s\n",
      "239:\tlearn: 0.1494637\ttotal: 2m 28s\tremaining: 7m 50s\n",
      "240:\tlearn: 0.1493433\ttotal: 2m 29s\tremaining: 7m 49s\n",
      "241:\tlearn: 0.1492251\ttotal: 2m 29s\tremaining: 7m 48s\n",
      "242:\tlearn: 0.1490980\ttotal: 2m 30s\tremaining: 7m 47s\n",
      "243:\tlearn: 0.1489861\ttotal: 2m 30s\tremaining: 7m 46s\n",
      "244:\tlearn: 0.1488758\ttotal: 2m 31s\tremaining: 7m 46s\n",
      "245:\tlearn: 0.1487632\ttotal: 2m 31s\tremaining: 7m 45s\n",
      "246:\tlearn: 0.1486698\ttotal: 2m 32s\tremaining: 7m 44s\n",
      "247:\tlearn: 0.1484810\ttotal: 2m 33s\tremaining: 7m 44s\n",
      "248:\tlearn: 0.1483511\ttotal: 2m 33s\tremaining: 7m 43s\n",
      "249:\tlearn: 0.1482090\ttotal: 2m 34s\tremaining: 7m 42s\n",
      "250:\tlearn: 0.1480340\ttotal: 2m 34s\tremaining: 7m 41s\n",
      "251:\tlearn: 0.1478703\ttotal: 2m 35s\tremaining: 7m 40s\n",
      "252:\tlearn: 0.1477075\ttotal: 2m 35s\tremaining: 7m 40s\n",
      "253:\tlearn: 0.1475717\ttotal: 2m 36s\tremaining: 7m 39s\n",
      "254:\tlearn: 0.1474811\ttotal: 2m 36s\tremaining: 7m 38s\n",
      "255:\tlearn: 0.1473304\ttotal: 2m 37s\tremaining: 7m 37s\n",
      "256:\tlearn: 0.1472126\ttotal: 2m 38s\tremaining: 7m 36s\n",
      "257:\tlearn: 0.1470247\ttotal: 2m 38s\tremaining: 7m 36s\n",
      "258:\tlearn: 0.1468659\ttotal: 2m 39s\tremaining: 7m 35s\n",
      "259:\tlearn: 0.1467378\ttotal: 2m 39s\tremaining: 7m 34s\n",
      "260:\tlearn: 0.1466216\ttotal: 2m 40s\tremaining: 7m 34s\n",
      "261:\tlearn: 0.1464640\ttotal: 2m 40s\tremaining: 7m 33s\n",
      "262:\tlearn: 0.1463769\ttotal: 2m 41s\tremaining: 7m 32s\n",
      "263:\tlearn: 0.1462382\ttotal: 2m 42s\tremaining: 7m 31s\n",
      "264:\tlearn: 0.1461590\ttotal: 2m 42s\tremaining: 7m 31s\n",
      "265:\tlearn: 0.1460415\ttotal: 2m 43s\tremaining: 7m 30s\n",
      "266:\tlearn: 0.1459394\ttotal: 2m 43s\tremaining: 7m 29s\n",
      "267:\tlearn: 0.1458233\ttotal: 2m 44s\tremaining: 7m 28s\n",
      "268:\tlearn: 0.1456544\ttotal: 2m 44s\tremaining: 7m 28s\n",
      "269:\tlearn: 0.1455441\ttotal: 2m 45s\tremaining: 7m 27s\n",
      "270:\tlearn: 0.1454126\ttotal: 2m 46s\tremaining: 7m 26s\n",
      "271:\tlearn: 0.1452749\ttotal: 2m 46s\tremaining: 7m 26s\n",
      "272:\tlearn: 0.1451498\ttotal: 2m 47s\tremaining: 7m 25s\n",
      "273:\tlearn: 0.1450401\ttotal: 2m 47s\tremaining: 7m 24s\n",
      "274:\tlearn: 0.1449359\ttotal: 2m 48s\tremaining: 7m 23s\n",
      "275:\tlearn: 0.1448211\ttotal: 2m 48s\tremaining: 7m 23s\n",
      "276:\tlearn: 0.1447110\ttotal: 2m 49s\tremaining: 7m 22s\n",
      "277:\tlearn: 0.1445994\ttotal: 2m 50s\tremaining: 7m 21s\n",
      "278:\tlearn: 0.1445085\ttotal: 2m 50s\tremaining: 7m 21s\n",
      "279:\tlearn: 0.1444112\ttotal: 2m 51s\tremaining: 7m 20s\n",
      "280:\tlearn: 0.1443030\ttotal: 2m 51s\tremaining: 7m 19s\n",
      "281:\tlearn: 0.1442010\ttotal: 2m 52s\tremaining: 7m 18s\n",
      "282:\tlearn: 0.1440612\ttotal: 2m 52s\tremaining: 7m 18s\n",
      "283:\tlearn: 0.1439823\ttotal: 2m 53s\tremaining: 7m 17s\n",
      "284:\tlearn: 0.1438977\ttotal: 2m 54s\tremaining: 7m 16s\n",
      "285:\tlearn: 0.1437777\ttotal: 2m 54s\tremaining: 7m 15s\n",
      "286:\tlearn: 0.1436824\ttotal: 2m 55s\tremaining: 7m 15s\n",
      "287:\tlearn: 0.1435928\ttotal: 2m 55s\tremaining: 7m 14s\n",
      "288:\tlearn: 0.1434960\ttotal: 2m 56s\tremaining: 7m 13s\n",
      "289:\tlearn: 0.1433267\ttotal: 2m 56s\tremaining: 7m 12s\n",
      "290:\tlearn: 0.1432063\ttotal: 2m 57s\tremaining: 7m 12s\n",
      "291:\tlearn: 0.1431108\ttotal: 2m 57s\tremaining: 7m 11s\n",
      "292:\tlearn: 0.1429584\ttotal: 2m 58s\tremaining: 7m 10s\n",
      "293:\tlearn: 0.1428103\ttotal: 2m 59s\tremaining: 7m 10s\n",
      "294:\tlearn: 0.1427334\ttotal: 2m 59s\tremaining: 7m 9s\n",
      "295:\tlearn: 0.1426629\ttotal: 3m\tremaining: 7m 8s\n",
      "296:\tlearn: 0.1425880\ttotal: 3m\tremaining: 7m 7s\n",
      "297:\tlearn: 0.1424929\ttotal: 3m 1s\tremaining: 7m 7s\n",
      "298:\tlearn: 0.1424122\ttotal: 3m 1s\tremaining: 7m 6s\n",
      "299:\tlearn: 0.1423224\ttotal: 3m 2s\tremaining: 7m 5s\n",
      "300:\tlearn: 0.1422550\ttotal: 3m 3s\tremaining: 7m 5s\n",
      "301:\tlearn: 0.1421879\ttotal: 3m 3s\tremaining: 7m 4s\n",
      "302:\tlearn: 0.1420851\ttotal: 3m 4s\tremaining: 7m 3s\n",
      "303:\tlearn: 0.1418678\ttotal: 3m 4s\tremaining: 7m 3s\n",
      "304:\tlearn: 0.1417864\ttotal: 3m 5s\tremaining: 7m 2s\n",
      "305:\tlearn: 0.1417113\ttotal: 3m 5s\tremaining: 7m 1s\n",
      "306:\tlearn: 0.1416129\ttotal: 3m 6s\tremaining: 7m\n",
      "307:\tlearn: 0.1414973\ttotal: 3m 7s\tremaining: 7m\n",
      "308:\tlearn: 0.1414181\ttotal: 3m 7s\tremaining: 6m 59s\n",
      "309:\tlearn: 0.1413177\ttotal: 3m 8s\tremaining: 6m 58s\n",
      "310:\tlearn: 0.1412325\ttotal: 3m 8s\tremaining: 6m 58s\n",
      "311:\tlearn: 0.1411326\ttotal: 3m 9s\tremaining: 6m 57s\n",
      "312:\tlearn: 0.1410150\ttotal: 3m 9s\tremaining: 6m 56s\n",
      "313:\tlearn: 0.1409482\ttotal: 3m 10s\tremaining: 6m 56s\n",
      "314:\tlearn: 0.1408503\ttotal: 3m 11s\tremaining: 6m 56s\n",
      "315:\tlearn: 0.1407474\ttotal: 3m 12s\tremaining: 6m 56s\n",
      "316:\tlearn: 0.1406143\ttotal: 3m 12s\tremaining: 6m 55s\n",
      "317:\tlearn: 0.1405427\ttotal: 3m 13s\tremaining: 6m 54s\n",
      "318:\tlearn: 0.1404507\ttotal: 3m 14s\tremaining: 6m 54s\n",
      "319:\tlearn: 0.1403643\ttotal: 3m 14s\tremaining: 6m 53s\n",
      "320:\tlearn: 0.1402757\ttotal: 3m 15s\tremaining: 6m 52s\n",
      "321:\tlearn: 0.1401922\ttotal: 3m 15s\tremaining: 6m 52s\n",
      "322:\tlearn: 0.1400985\ttotal: 3m 16s\tremaining: 6m 51s\n",
      "323:\tlearn: 0.1399462\ttotal: 3m 16s\tremaining: 6m 50s\n",
      "324:\tlearn: 0.1398455\ttotal: 3m 17s\tremaining: 6m 50s\n",
      "325:\tlearn: 0.1397463\ttotal: 3m 18s\tremaining: 6m 49s\n",
      "326:\tlearn: 0.1396030\ttotal: 3m 18s\tremaining: 6m 48s\n",
      "327:\tlearn: 0.1395416\ttotal: 3m 19s\tremaining: 6m 48s\n",
      "328:\tlearn: 0.1394812\ttotal: 3m 19s\tremaining: 6m 47s\n",
      "329:\tlearn: 0.1394158\ttotal: 3m 20s\tremaining: 6m 46s\n",
      "330:\tlearn: 0.1393212\ttotal: 3m 20s\tremaining: 6m 46s\n",
      "331:\tlearn: 0.1391400\ttotal: 3m 21s\tremaining: 6m 46s\n",
      "332:\tlearn: 0.1390358\ttotal: 3m 22s\tremaining: 6m 46s\n",
      "333:\tlearn: 0.1389246\ttotal: 3m 23s\tremaining: 6m 45s\n",
      "334:\tlearn: 0.1388519\ttotal: 3m 23s\tremaining: 6m 44s\n",
      "335:\tlearn: 0.1387128\ttotal: 3m 24s\tremaining: 6m 44s\n",
      "336:\tlearn: 0.1386119\ttotal: 3m 25s\tremaining: 6m 44s\n",
      "337:\tlearn: 0.1385152\ttotal: 3m 26s\tremaining: 6m 43s\n",
      "338:\tlearn: 0.1384236\ttotal: 3m 26s\tremaining: 6m 43s\n",
      "339:\tlearn: 0.1382991\ttotal: 3m 27s\tremaining: 6m 42s\n",
      "340:\tlearn: 0.1382345\ttotal: 3m 27s\tremaining: 6m 41s\n",
      "341:\tlearn: 0.1381770\ttotal: 3m 28s\tremaining: 6m 40s\n",
      "342:\tlearn: 0.1380717\ttotal: 3m 28s\tremaining: 6m 40s\n",
      "343:\tlearn: 0.1379853\ttotal: 3m 29s\tremaining: 6m 39s\n",
      "344:\tlearn: 0.1378181\ttotal: 3m 30s\tremaining: 6m 38s\n",
      "345:\tlearn: 0.1377366\ttotal: 3m 30s\tremaining: 6m 38s\n",
      "346:\tlearn: 0.1376529\ttotal: 3m 31s\tremaining: 6m 37s\n",
      "347:\tlearn: 0.1375272\ttotal: 3m 31s\tremaining: 6m 36s\n",
      "348:\tlearn: 0.1374254\ttotal: 3m 32s\tremaining: 6m 35s\n",
      "349:\tlearn: 0.1373646\ttotal: 3m 32s\tremaining: 6m 35s\n",
      "350:\tlearn: 0.1372097\ttotal: 3m 33s\tremaining: 6m 35s\n",
      "351:\tlearn: 0.1370851\ttotal: 3m 34s\tremaining: 6m 34s\n",
      "352:\tlearn: 0.1370185\ttotal: 3m 35s\tremaining: 6m 34s\n",
      "353:\tlearn: 0.1369521\ttotal: 3m 35s\tremaining: 6m 33s\n",
      "354:\tlearn: 0.1369016\ttotal: 3m 36s\tremaining: 6m 32s\n",
      "355:\tlearn: 0.1368184\ttotal: 3m 36s\tremaining: 6m 32s\n",
      "356:\tlearn: 0.1367166\ttotal: 3m 37s\tremaining: 6m 31s\n",
      "357:\tlearn: 0.1366437\ttotal: 3m 37s\tremaining: 6m 30s\n",
      "358:\tlearn: 0.1365702\ttotal: 3m 38s\tremaining: 6m 30s\n",
      "359:\tlearn: 0.1364975\ttotal: 3m 39s\tremaining: 6m 29s\n",
      "360:\tlearn: 0.1364235\ttotal: 3m 39s\tremaining: 6m 28s\n",
      "361:\tlearn: 0.1363229\ttotal: 3m 40s\tremaining: 6m 28s\n",
      "362:\tlearn: 0.1362693\ttotal: 3m 40s\tremaining: 6m 27s\n",
      "363:\tlearn: 0.1362221\ttotal: 3m 41s\tremaining: 6m 26s\n",
      "364:\tlearn: 0.1361453\ttotal: 3m 41s\tremaining: 6m 25s\n",
      "365:\tlearn: 0.1360569\ttotal: 3m 42s\tremaining: 6m 25s\n",
      "366:\tlearn: 0.1359797\ttotal: 3m 42s\tremaining: 6m 24s\n",
      "367:\tlearn: 0.1358669\ttotal: 3m 43s\tremaining: 6m 23s\n",
      "368:\tlearn: 0.1357730\ttotal: 3m 44s\tremaining: 6m 23s\n",
      "369:\tlearn: 0.1357123\ttotal: 3m 44s\tremaining: 6m 22s\n",
      "370:\tlearn: 0.1356678\ttotal: 3m 45s\tremaining: 6m 21s\n",
      "371:\tlearn: 0.1355911\ttotal: 3m 45s\tremaining: 6m 21s\n",
      "372:\tlearn: 0.1355281\ttotal: 3m 46s\tremaining: 6m 20s\n",
      "373:\tlearn: 0.1354682\ttotal: 3m 47s\tremaining: 6m 20s\n",
      "374:\tlearn: 0.1353802\ttotal: 3m 47s\tremaining: 6m 19s\n",
      "375:\tlearn: 0.1353001\ttotal: 3m 48s\tremaining: 6m 18s\n",
      "376:\tlearn: 0.1352015\ttotal: 3m 48s\tremaining: 6m 18s\n",
      "377:\tlearn: 0.1351317\ttotal: 3m 49s\tremaining: 6m 17s\n",
      "378:\tlearn: 0.1350155\ttotal: 3m 50s\tremaining: 6m 16s\n",
      "379:\tlearn: 0.1349169\ttotal: 3m 50s\tremaining: 6m 16s\n",
      "380:\tlearn: 0.1348182\ttotal: 3m 51s\tremaining: 6m 15s\n",
      "381:\tlearn: 0.1346885\ttotal: 3m 51s\tremaining: 6m 15s\n",
      "382:\tlearn: 0.1346025\ttotal: 3m 52s\tremaining: 6m 14s\n",
      "383:\tlearn: 0.1345284\ttotal: 3m 53s\tremaining: 6m 13s\n",
      "384:\tlearn: 0.1344187\ttotal: 3m 53s\tremaining: 6m 13s\n",
      "385:\tlearn: 0.1343408\ttotal: 3m 54s\tremaining: 6m 12s\n",
      "386:\tlearn: 0.1342462\ttotal: 3m 54s\tremaining: 6m 11s\n",
      "387:\tlearn: 0.1341987\ttotal: 3m 55s\tremaining: 6m 11s\n",
      "388:\tlearn: 0.1341435\ttotal: 3m 55s\tremaining: 6m 10s\n",
      "389:\tlearn: 0.1339946\ttotal: 3m 56s\tremaining: 6m 9s\n",
      "390:\tlearn: 0.1339533\ttotal: 3m 57s\tremaining: 6m 9s\n",
      "391:\tlearn: 0.1339076\ttotal: 3m 57s\tremaining: 6m 8s\n",
      "392:\tlearn: 0.1338297\ttotal: 3m 58s\tremaining: 6m 7s\n",
      "393:\tlearn: 0.1337560\ttotal: 3m 58s\tremaining: 6m 7s\n",
      "394:\tlearn: 0.1336480\ttotal: 3m 59s\tremaining: 6m 6s\n",
      "395:\tlearn: 0.1335468\ttotal: 3m 59s\tremaining: 6m 6s\n",
      "396:\tlearn: 0.1334466\ttotal: 4m\tremaining: 6m 5s\n",
      "397:\tlearn: 0.1333931\ttotal: 4m 1s\tremaining: 6m 4s\n",
      "398:\tlearn: 0.1333484\ttotal: 4m 1s\tremaining: 6m 4s\n",
      "399:\tlearn: 0.1332457\ttotal: 4m 2s\tremaining: 6m 3s\n",
      "400:\tlearn: 0.1331514\ttotal: 4m 2s\tremaining: 6m 2s\n",
      "401:\tlearn: 0.1330839\ttotal: 4m 3s\tremaining: 6m 2s\n",
      "402:\tlearn: 0.1330092\ttotal: 4m 4s\tremaining: 6m 1s\n",
      "403:\tlearn: 0.1329018\ttotal: 4m 4s\tremaining: 6m\n",
      "404:\tlearn: 0.1328077\ttotal: 4m 5s\tremaining: 6m\n",
      "405:\tlearn: 0.1327683\ttotal: 4m 5s\tremaining: 5m 59s\n",
      "406:\tlearn: 0.1326968\ttotal: 4m 6s\tremaining: 5m 58s\n",
      "407:\tlearn: 0.1326502\ttotal: 4m 6s\tremaining: 5m 58s\n",
      "408:\tlearn: 0.1325482\ttotal: 4m 7s\tremaining: 5m 57s\n",
      "409:\tlearn: 0.1324755\ttotal: 4m 8s\tremaining: 5m 56s\n",
      "410:\tlearn: 0.1324025\ttotal: 4m 8s\tremaining: 5m 56s\n",
      "411:\tlearn: 0.1323470\ttotal: 4m 9s\tremaining: 5m 55s\n",
      "412:\tlearn: 0.1322595\ttotal: 4m 9s\tremaining: 5m 54s\n",
      "413:\tlearn: 0.1321931\ttotal: 4m 10s\tremaining: 5m 54s\n",
      "414:\tlearn: 0.1321205\ttotal: 4m 10s\tremaining: 5m 53s\n",
      "415:\tlearn: 0.1320574\ttotal: 4m 11s\tremaining: 5m 52s\n",
      "416:\tlearn: 0.1319737\ttotal: 4m 11s\tremaining: 5m 52s\n",
      "417:\tlearn: 0.1319019\ttotal: 4m 12s\tremaining: 5m 51s\n",
      "418:\tlearn: 0.1318238\ttotal: 4m 13s\tremaining: 5m 50s\n",
      "419:\tlearn: 0.1316972\ttotal: 4m 13s\tremaining: 5m 50s\n",
      "420:\tlearn: 0.1316610\ttotal: 4m 14s\tremaining: 5m 49s\n",
      "421:\tlearn: 0.1315801\ttotal: 4m 14s\tremaining: 5m 49s\n",
      "422:\tlearn: 0.1314607\ttotal: 4m 15s\tremaining: 5m 48s\n",
      "423:\tlearn: 0.1313812\ttotal: 4m 15s\tremaining: 5m 47s\n",
      "424:\tlearn: 0.1312912\ttotal: 4m 16s\tremaining: 5m 47s\n",
      "425:\tlearn: 0.1312227\ttotal: 4m 17s\tremaining: 5m 46s\n",
      "426:\tlearn: 0.1311708\ttotal: 4m 17s\tremaining: 5m 45s\n",
      "427:\tlearn: 0.1311089\ttotal: 4m 18s\tremaining: 5m 45s\n",
      "428:\tlearn: 0.1309878\ttotal: 4m 18s\tremaining: 5m 44s\n",
      "429:\tlearn: 0.1308881\ttotal: 4m 19s\tremaining: 5m 43s\n",
      "430:\tlearn: 0.1308513\ttotal: 4m 19s\tremaining: 5m 43s\n",
      "431:\tlearn: 0.1307889\ttotal: 4m 20s\tremaining: 5m 42s\n",
      "432:\tlearn: 0.1307532\ttotal: 4m 21s\tremaining: 5m 41s\n",
      "433:\tlearn: 0.1307046\ttotal: 4m 21s\tremaining: 5m 41s\n",
      "434:\tlearn: 0.1306298\ttotal: 4m 22s\tremaining: 5m 40s\n",
      "435:\tlearn: 0.1305110\ttotal: 4m 22s\tremaining: 5m 39s\n",
      "436:\tlearn: 0.1304335\ttotal: 4m 23s\tremaining: 5m 39s\n",
      "437:\tlearn: 0.1303826\ttotal: 4m 23s\tremaining: 5m 38s\n",
      "438:\tlearn: 0.1302896\ttotal: 4m 24s\tremaining: 5m 38s\n",
      "439:\tlearn: 0.1302181\ttotal: 4m 25s\tremaining: 5m 37s\n",
      "440:\tlearn: 0.1301784\ttotal: 4m 25s\tremaining: 5m 36s\n",
      "441:\tlearn: 0.1300991\ttotal: 4m 26s\tremaining: 5m 36s\n",
      "442:\tlearn: 0.1300521\ttotal: 4m 27s\tremaining: 5m 36s\n",
      "443:\tlearn: 0.1299901\ttotal: 4m 28s\tremaining: 5m 35s\n",
      "444:\tlearn: 0.1299277\ttotal: 4m 28s\tremaining: 5m 35s\n",
      "445:\tlearn: 0.1298636\ttotal: 4m 29s\tremaining: 5m 34s\n",
      "446:\tlearn: 0.1297738\ttotal: 4m 29s\tremaining: 5m 33s\n",
      "447:\tlearn: 0.1296897\ttotal: 4m 30s\tremaining: 5m 33s\n",
      "448:\tlearn: 0.1296041\ttotal: 4m 31s\tremaining: 5m 32s\n",
      "449:\tlearn: 0.1295283\ttotal: 4m 31s\tremaining: 5m 32s\n",
      "450:\tlearn: 0.1294428\ttotal: 4m 32s\tremaining: 5m 31s\n",
      "451:\tlearn: 0.1293357\ttotal: 4m 32s\tremaining: 5m 30s\n",
      "452:\tlearn: 0.1292940\ttotal: 4m 33s\tremaining: 5m 30s\n",
      "453:\tlearn: 0.1292363\ttotal: 4m 33s\tremaining: 5m 29s\n",
      "454:\tlearn: 0.1291550\ttotal: 4m 34s\tremaining: 5m 29s\n",
      "455:\tlearn: 0.1290904\ttotal: 4m 35s\tremaining: 5m 28s\n",
      "456:\tlearn: 0.1290280\ttotal: 4m 36s\tremaining: 5m 28s\n",
      "457:\tlearn: 0.1289624\ttotal: 4m 36s\tremaining: 5m 27s\n",
      "458:\tlearn: 0.1288894\ttotal: 4m 37s\tremaining: 5m 26s\n",
      "459:\tlearn: 0.1288305\ttotal: 4m 37s\tremaining: 5m 26s\n",
      "460:\tlearn: 0.1287623\ttotal: 4m 38s\tremaining: 5m 25s\n",
      "461:\tlearn: 0.1287078\ttotal: 4m 39s\tremaining: 5m 25s\n",
      "462:\tlearn: 0.1286258\ttotal: 4m 39s\tremaining: 5m 24s\n",
      "463:\tlearn: 0.1285739\ttotal: 4m 40s\tremaining: 5m 23s\n",
      "464:\tlearn: 0.1285131\ttotal: 4m 40s\tremaining: 5m 23s\n",
      "465:\tlearn: 0.1284406\ttotal: 4m 41s\tremaining: 5m 22s\n",
      "466:\tlearn: 0.1284076\ttotal: 4m 42s\tremaining: 5m 21s\n",
      "467:\tlearn: 0.1283283\ttotal: 4m 42s\tremaining: 5m 21s\n",
      "468:\tlearn: 0.1282148\ttotal: 4m 43s\tremaining: 5m 20s\n",
      "469:\tlearn: 0.1281737\ttotal: 4m 43s\tremaining: 5m 20s\n",
      "470:\tlearn: 0.1281405\ttotal: 4m 44s\tremaining: 5m 19s\n",
      "471:\tlearn: 0.1280556\ttotal: 4m 44s\tremaining: 5m 18s\n",
      "472:\tlearn: 0.1280180\ttotal: 4m 45s\tremaining: 5m 18s\n",
      "473:\tlearn: 0.1279845\ttotal: 4m 46s\tremaining: 5m 17s\n",
      "474:\tlearn: 0.1279105\ttotal: 4m 46s\tremaining: 5m 16s\n",
      "475:\tlearn: 0.1278602\ttotal: 4m 47s\tremaining: 5m 16s\n",
      "476:\tlearn: 0.1278156\ttotal: 4m 47s\tremaining: 5m 15s\n",
      "477:\tlearn: 0.1277389\ttotal: 4m 48s\tremaining: 5m 14s\n",
      "478:\tlearn: 0.1276940\ttotal: 4m 48s\tremaining: 5m 14s\n",
      "479:\tlearn: 0.1276450\ttotal: 4m 49s\tremaining: 5m 13s\n",
      "480:\tlearn: 0.1275851\ttotal: 4m 49s\tremaining: 5m 12s\n",
      "481:\tlearn: 0.1274937\ttotal: 4m 50s\tremaining: 5m 12s\n",
      "482:\tlearn: 0.1274209\ttotal: 4m 51s\tremaining: 5m 11s\n",
      "483:\tlearn: 0.1273844\ttotal: 4m 51s\tremaining: 5m 10s\n",
      "484:\tlearn: 0.1273358\ttotal: 4m 52s\tremaining: 5m 10s\n",
      "485:\tlearn: 0.1272755\ttotal: 4m 52s\tremaining: 5m 9s\n",
      "486:\tlearn: 0.1271769\ttotal: 4m 53s\tremaining: 5m 8s\n",
      "487:\tlearn: 0.1271119\ttotal: 4m 53s\tremaining: 5m 8s\n",
      "488:\tlearn: 0.1270245\ttotal: 4m 54s\tremaining: 5m 7s\n",
      "489:\tlearn: 0.1269432\ttotal: 4m 55s\tremaining: 5m 7s\n",
      "490:\tlearn: 0.1268991\ttotal: 4m 55s\tremaining: 5m 6s\n",
      "491:\tlearn: 0.1268340\ttotal: 4m 56s\tremaining: 5m 5s\n",
      "492:\tlearn: 0.1267855\ttotal: 4m 56s\tremaining: 5m 5s\n",
      "493:\tlearn: 0.1267189\ttotal: 4m 57s\tremaining: 5m 4s\n",
      "494:\tlearn: 0.1266647\ttotal: 4m 57s\tremaining: 5m 4s\n",
      "495:\tlearn: 0.1266094\ttotal: 4m 58s\tremaining: 5m 3s\n",
      "496:\tlearn: 0.1265636\ttotal: 4m 59s\tremaining: 5m 2s\n",
      "497:\tlearn: 0.1265006\ttotal: 4m 59s\tremaining: 5m 2s\n",
      "498:\tlearn: 0.1264538\ttotal: 5m\tremaining: 5m 1s\n",
      "499:\tlearn: 0.1263974\ttotal: 5m\tremaining: 5m\n",
      "500:\tlearn: 0.1263378\ttotal: 5m 1s\tremaining: 5m\n",
      "501:\tlearn: 0.1262902\ttotal: 5m 1s\tremaining: 4m 59s\n",
      "502:\tlearn: 0.1261830\ttotal: 5m 2s\tremaining: 4m 58s\n",
      "503:\tlearn: 0.1261029\ttotal: 5m 3s\tremaining: 4m 58s\n",
      "504:\tlearn: 0.1260380\ttotal: 5m 3s\tremaining: 4m 57s\n",
      "505:\tlearn: 0.1260095\ttotal: 5m 4s\tremaining: 4m 57s\n",
      "506:\tlearn: 0.1259423\ttotal: 5m 4s\tremaining: 4m 56s\n",
      "507:\tlearn: 0.1258989\ttotal: 5m 5s\tremaining: 4m 55s\n",
      "508:\tlearn: 0.1258443\ttotal: 5m 6s\tremaining: 4m 55s\n",
      "509:\tlearn: 0.1258024\ttotal: 5m 7s\tremaining: 4m 54s\n",
      "510:\tlearn: 0.1257594\ttotal: 5m 7s\tremaining: 4m 54s\n",
      "511:\tlearn: 0.1257257\ttotal: 5m 8s\tremaining: 4m 53s\n",
      "512:\tlearn: 0.1256345\ttotal: 5m 8s\tremaining: 4m 53s\n",
      "513:\tlearn: 0.1256027\ttotal: 5m 9s\tremaining: 4m 52s\n",
      "514:\tlearn: 0.1255103\ttotal: 5m 9s\tremaining: 4m 51s\n",
      "515:\tlearn: 0.1254321\ttotal: 5m 10s\tremaining: 4m 51s\n",
      "516:\tlearn: 0.1253174\ttotal: 5m 11s\tremaining: 4m 50s\n",
      "517:\tlearn: 0.1252755\ttotal: 5m 11s\tremaining: 4m 49s\n",
      "518:\tlearn: 0.1252111\ttotal: 5m 12s\tremaining: 4m 49s\n",
      "519:\tlearn: 0.1251362\ttotal: 5m 12s\tremaining: 4m 48s\n",
      "520:\tlearn: 0.1250713\ttotal: 5m 13s\tremaining: 4m 48s\n",
      "521:\tlearn: 0.1250000\ttotal: 5m 13s\tremaining: 4m 47s\n",
      "522:\tlearn: 0.1249175\ttotal: 5m 14s\tremaining: 4m 46s\n",
      "523:\tlearn: 0.1248502\ttotal: 5m 15s\tremaining: 4m 46s\n",
      "524:\tlearn: 0.1248157\ttotal: 5m 15s\tremaining: 4m 45s\n",
      "525:\tlearn: 0.1247871\ttotal: 5m 16s\tremaining: 4m 44s\n",
      "526:\tlearn: 0.1247466\ttotal: 5m 16s\tremaining: 4m 44s\n",
      "527:\tlearn: 0.1247072\ttotal: 5m 17s\tremaining: 4m 43s\n",
      "528:\tlearn: 0.1246738\ttotal: 5m 17s\tremaining: 4m 43s\n",
      "529:\tlearn: 0.1246467\ttotal: 5m 18s\tremaining: 4m 42s\n",
      "530:\tlearn: 0.1245510\ttotal: 5m 19s\tremaining: 4m 41s\n",
      "531:\tlearn: 0.1244970\ttotal: 5m 19s\tremaining: 4m 41s\n",
      "532:\tlearn: 0.1244067\ttotal: 5m 20s\tremaining: 4m 40s\n",
      "533:\tlearn: 0.1243539\ttotal: 5m 20s\tremaining: 4m 39s\n",
      "534:\tlearn: 0.1242504\ttotal: 5m 21s\tremaining: 4m 39s\n",
      "535:\tlearn: 0.1242134\ttotal: 5m 21s\tremaining: 4m 38s\n",
      "536:\tlearn: 0.1241657\ttotal: 5m 22s\tremaining: 4m 38s\n",
      "537:\tlearn: 0.1241059\ttotal: 5m 23s\tremaining: 4m 37s\n",
      "538:\tlearn: 0.1240502\ttotal: 5m 23s\tremaining: 4m 36s\n",
      "539:\tlearn: 0.1239765\ttotal: 5m 24s\tremaining: 4m 36s\n",
      "540:\tlearn: 0.1239236\ttotal: 5m 24s\tremaining: 4m 35s\n",
      "541:\tlearn: 0.1238730\ttotal: 5m 25s\tremaining: 4m 34s\n",
      "542:\tlearn: 0.1238079\ttotal: 5m 25s\tremaining: 4m 34s\n",
      "543:\tlearn: 0.1237447\ttotal: 5m 26s\tremaining: 4m 33s\n",
      "544:\tlearn: 0.1236602\ttotal: 5m 27s\tremaining: 4m 33s\n",
      "545:\tlearn: 0.1236328\ttotal: 5m 27s\tremaining: 4m 32s\n",
      "546:\tlearn: 0.1235782\ttotal: 5m 28s\tremaining: 4m 31s\n",
      "547:\tlearn: 0.1235507\ttotal: 5m 28s\tremaining: 4m 31s\n",
      "548:\tlearn: 0.1234823\ttotal: 5m 29s\tremaining: 4m 30s\n",
      "549:\tlearn: 0.1233557\ttotal: 5m 29s\tremaining: 4m 29s\n",
      "550:\tlearn: 0.1233099\ttotal: 5m 30s\tremaining: 4m 29s\n",
      "551:\tlearn: 0.1232465\ttotal: 5m 30s\tremaining: 4m 28s\n",
      "552:\tlearn: 0.1232118\ttotal: 5m 31s\tremaining: 4m 27s\n",
      "553:\tlearn: 0.1231567\ttotal: 5m 31s\tremaining: 4m 27s\n",
      "554:\tlearn: 0.1230876\ttotal: 5m 32s\tremaining: 4m 26s\n",
      "555:\tlearn: 0.1230622\ttotal: 5m 33s\tremaining: 4m 25s\n",
      "556:\tlearn: 0.1230052\ttotal: 5m 33s\tremaining: 4m 25s\n",
      "557:\tlearn: 0.1229378\ttotal: 5m 34s\tremaining: 4m 24s\n",
      "558:\tlearn: 0.1229127\ttotal: 5m 34s\tremaining: 4m 24s\n",
      "559:\tlearn: 0.1228699\ttotal: 5m 35s\tremaining: 4m 23s\n",
      "560:\tlearn: 0.1228316\ttotal: 5m 35s\tremaining: 4m 22s\n",
      "561:\tlearn: 0.1227222\ttotal: 5m 36s\tremaining: 4m 22s\n",
      "562:\tlearn: 0.1226808\ttotal: 5m 37s\tremaining: 4m 21s\n",
      "563:\tlearn: 0.1226297\ttotal: 5m 38s\tremaining: 4m 21s\n",
      "564:\tlearn: 0.1225615\ttotal: 5m 38s\tremaining: 4m 20s\n",
      "565:\tlearn: 0.1224518\ttotal: 5m 39s\tremaining: 4m 20s\n",
      "566:\tlearn: 0.1224279\ttotal: 5m 39s\tremaining: 4m 19s\n",
      "567:\tlearn: 0.1224029\ttotal: 5m 40s\tremaining: 4m 18s\n",
      "568:\tlearn: 0.1223404\ttotal: 5m 40s\tremaining: 4m 18s\n",
      "569:\tlearn: 0.1222783\ttotal: 5m 41s\tremaining: 4m 17s\n",
      "570:\tlearn: 0.1222278\ttotal: 5m 42s\tremaining: 4m 17s\n",
      "571:\tlearn: 0.1221034\ttotal: 5m 42s\tremaining: 4m 16s\n",
      "572:\tlearn: 0.1220747\ttotal: 5m 43s\tremaining: 4m 15s\n",
      "573:\tlearn: 0.1220277\ttotal: 5m 43s\tremaining: 4m 15s\n",
      "574:\tlearn: 0.1219565\ttotal: 5m 44s\tremaining: 4m 14s\n",
      "575:\tlearn: 0.1218963\ttotal: 5m 45s\tremaining: 4m 14s\n",
      "576:\tlearn: 0.1218421\ttotal: 5m 45s\tremaining: 4m 13s\n",
      "577:\tlearn: 0.1218178\ttotal: 5m 46s\tremaining: 4m 12s\n",
      "578:\tlearn: 0.1217952\ttotal: 5m 46s\tremaining: 4m 12s\n",
      "579:\tlearn: 0.1217535\ttotal: 5m 47s\tremaining: 4m 11s\n",
      "580:\tlearn: 0.1217076\ttotal: 5m 47s\tremaining: 4m 10s\n",
      "581:\tlearn: 0.1215839\ttotal: 5m 48s\tremaining: 4m 10s\n",
      "582:\tlearn: 0.1215296\ttotal: 5m 49s\tremaining: 4m 9s\n",
      "583:\tlearn: 0.1215064\ttotal: 5m 49s\tremaining: 4m 9s\n",
      "584:\tlearn: 0.1214841\ttotal: 5m 50s\tremaining: 4m 8s\n",
      "585:\tlearn: 0.1214207\ttotal: 5m 50s\tremaining: 4m 7s\n",
      "586:\tlearn: 0.1213595\ttotal: 5m 51s\tremaining: 4m 7s\n",
      "587:\tlearn: 0.1213302\ttotal: 5m 52s\tremaining: 4m 6s\n",
      "588:\tlearn: 0.1213081\ttotal: 5m 52s\tremaining: 4m 6s\n",
      "589:\tlearn: 0.1212763\ttotal: 5m 53s\tremaining: 4m 5s\n",
      "590:\tlearn: 0.1212212\ttotal: 5m 53s\tremaining: 4m 4s\n",
      "591:\tlearn: 0.1211762\ttotal: 5m 54s\tremaining: 4m 4s\n",
      "592:\tlearn: 0.1211321\ttotal: 5m 54s\tremaining: 4m 3s\n",
      "593:\tlearn: 0.1210828\ttotal: 5m 55s\tremaining: 4m 2s\n",
      "594:\tlearn: 0.1210564\ttotal: 5m 56s\tremaining: 4m 2s\n",
      "595:\tlearn: 0.1210342\ttotal: 5m 56s\tremaining: 4m 1s\n",
      "596:\tlearn: 0.1209976\ttotal: 5m 57s\tremaining: 4m 1s\n",
      "597:\tlearn: 0.1209444\ttotal: 5m 57s\tremaining: 4m\n",
      "598:\tlearn: 0.1208869\ttotal: 5m 58s\tremaining: 3m 59s\n",
      "599:\tlearn: 0.1208664\ttotal: 5m 58s\tremaining: 3m 59s\n",
      "600:\tlearn: 0.1207976\ttotal: 5m 59s\tremaining: 3m 58s\n",
      "601:\tlearn: 0.1207645\ttotal: 6m\tremaining: 3m 58s\n",
      "602:\tlearn: 0.1207433\ttotal: 6m\tremaining: 3m 57s\n",
      "603:\tlearn: 0.1206903\ttotal: 6m 1s\tremaining: 3m 56s\n",
      "604:\tlearn: 0.1206394\ttotal: 6m 1s\tremaining: 3m 56s\n",
      "605:\tlearn: 0.1205980\ttotal: 6m 2s\tremaining: 3m 55s\n",
      "606:\tlearn: 0.1205477\ttotal: 6m 3s\tremaining: 3m 55s\n",
      "607:\tlearn: 0.1205066\ttotal: 6m 3s\tremaining: 3m 54s\n",
      "608:\tlearn: 0.1204549\ttotal: 6m 4s\tremaining: 3m 53s\n",
      "609:\tlearn: 0.1204340\ttotal: 6m 4s\tremaining: 3m 53s\n",
      "610:\tlearn: 0.1203665\ttotal: 6m 5s\tremaining: 3m 52s\n",
      "611:\tlearn: 0.1202942\ttotal: 6m 6s\tremaining: 3m 52s\n",
      "612:\tlearn: 0.1202619\ttotal: 6m 6s\tremaining: 3m 51s\n",
      "613:\tlearn: 0.1202165\ttotal: 6m 7s\tremaining: 3m 50s\n",
      "614:\tlearn: 0.1201514\ttotal: 6m 7s\tremaining: 3m 50s\n",
      "615:\tlearn: 0.1201293\ttotal: 6m 8s\tremaining: 3m 49s\n",
      "616:\tlearn: 0.1201038\ttotal: 6m 8s\tremaining: 3m 48s\n",
      "617:\tlearn: 0.1200169\ttotal: 6m 9s\tremaining: 3m 48s\n",
      "618:\tlearn: 0.1199898\ttotal: 6m 10s\tremaining: 3m 47s\n",
      "619:\tlearn: 0.1199577\ttotal: 6m 10s\tremaining: 3m 47s\n",
      "620:\tlearn: 0.1199239\ttotal: 6m 11s\tremaining: 3m 46s\n",
      "621:\tlearn: 0.1199029\ttotal: 6m 11s\tremaining: 3m 45s\n",
      "622:\tlearn: 0.1198827\ttotal: 6m 12s\tremaining: 3m 45s\n",
      "623:\tlearn: 0.1198081\ttotal: 6m 12s\tremaining: 3m 44s\n",
      "624:\tlearn: 0.1197752\ttotal: 6m 13s\tremaining: 3m 44s\n",
      "625:\tlearn: 0.1197194\ttotal: 6m 14s\tremaining: 3m 43s\n",
      "626:\tlearn: 0.1196817\ttotal: 6m 14s\tremaining: 3m 42s\n",
      "627:\tlearn: 0.1196438\ttotal: 6m 15s\tremaining: 3m 42s\n",
      "628:\tlearn: 0.1196051\ttotal: 6m 15s\tremaining: 3m 41s\n",
      "629:\tlearn: 0.1195211\ttotal: 6m 16s\tremaining: 3m 41s\n",
      "630:\tlearn: 0.1194946\ttotal: 6m 16s\tremaining: 3m 40s\n",
      "631:\tlearn: 0.1194670\ttotal: 6m 17s\tremaining: 3m 39s\n",
      "632:\tlearn: 0.1194035\ttotal: 6m 18s\tremaining: 3m 39s\n",
      "633:\tlearn: 0.1193265\ttotal: 6m 18s\tremaining: 3m 38s\n",
      "634:\tlearn: 0.1192701\ttotal: 6m 19s\tremaining: 3m 38s\n",
      "635:\tlearn: 0.1192499\ttotal: 6m 19s\tremaining: 3m 37s\n",
      "636:\tlearn: 0.1191882\ttotal: 6m 20s\tremaining: 3m 36s\n",
      "637:\tlearn: 0.1191220\ttotal: 6m 21s\tremaining: 3m 36s\n",
      "638:\tlearn: 0.1190565\ttotal: 6m 21s\tremaining: 3m 35s\n",
      "639:\tlearn: 0.1190017\ttotal: 6m 22s\tremaining: 3m 34s\n",
      "640:\tlearn: 0.1189620\ttotal: 6m 22s\tremaining: 3m 34s\n",
      "641:\tlearn: 0.1189116\ttotal: 6m 23s\tremaining: 3m 33s\n",
      "642:\tlearn: 0.1188814\ttotal: 6m 23s\tremaining: 3m 33s\n",
      "643:\tlearn: 0.1188578\ttotal: 6m 24s\tremaining: 3m 32s\n",
      "644:\tlearn: 0.1188160\ttotal: 6m 25s\tremaining: 3m 31s\n",
      "645:\tlearn: 0.1187950\ttotal: 6m 25s\tremaining: 3m 31s\n",
      "646:\tlearn: 0.1187489\ttotal: 6m 26s\tremaining: 3m 30s\n",
      "647:\tlearn: 0.1186911\ttotal: 6m 26s\tremaining: 3m 30s\n",
      "648:\tlearn: 0.1186588\ttotal: 6m 27s\tremaining: 3m 29s\n",
      "649:\tlearn: 0.1185530\ttotal: 6m 27s\tremaining: 3m 28s\n",
      "650:\tlearn: 0.1185321\ttotal: 6m 28s\tremaining: 3m 28s\n",
      "651:\tlearn: 0.1184612\ttotal: 6m 29s\tremaining: 3m 27s\n",
      "652:\tlearn: 0.1184109\ttotal: 6m 29s\tremaining: 3m 27s\n",
      "653:\tlearn: 0.1183388\ttotal: 6m 30s\tremaining: 3m 26s\n",
      "654:\tlearn: 0.1183039\ttotal: 6m 31s\tremaining: 3m 26s\n",
      "655:\tlearn: 0.1182304\ttotal: 6m 32s\tremaining: 3m 25s\n",
      "656:\tlearn: 0.1181613\ttotal: 6m 32s\tremaining: 3m 25s\n",
      "657:\tlearn: 0.1181294\ttotal: 6m 33s\tremaining: 3m 24s\n",
      "658:\tlearn: 0.1180485\ttotal: 6m 33s\tremaining: 3m 23s\n",
      "659:\tlearn: 0.1180183\ttotal: 6m 34s\tremaining: 3m 23s\n",
      "660:\tlearn: 0.1179710\ttotal: 6m 35s\tremaining: 3m 22s\n",
      "661:\tlearn: 0.1179068\ttotal: 6m 35s\tremaining: 3m 22s\n",
      "662:\tlearn: 0.1178637\ttotal: 6m 36s\tremaining: 3m 21s\n",
      "663:\tlearn: 0.1177918\ttotal: 6m 36s\tremaining: 3m 20s\n",
      "664:\tlearn: 0.1177644\ttotal: 6m 37s\tremaining: 3m 20s\n",
      "665:\tlearn: 0.1177418\ttotal: 6m 38s\tremaining: 3m 19s\n",
      "666:\tlearn: 0.1177020\ttotal: 6m 38s\tremaining: 3m 19s\n",
      "667:\tlearn: 0.1176697\ttotal: 6m 39s\tremaining: 3m 18s\n",
      "668:\tlearn: 0.1175840\ttotal: 6m 39s\tremaining: 3m 17s\n",
      "669:\tlearn: 0.1175229\ttotal: 6m 40s\tremaining: 3m 17s\n",
      "670:\tlearn: 0.1174830\ttotal: 6m 40s\tremaining: 3m 16s\n",
      "671:\tlearn: 0.1174521\ttotal: 6m 41s\tremaining: 3m 15s\n",
      "672:\tlearn: 0.1174129\ttotal: 6m 42s\tremaining: 3m 15s\n",
      "673:\tlearn: 0.1173513\ttotal: 6m 42s\tremaining: 3m 14s\n",
      "674:\tlearn: 0.1173311\ttotal: 6m 43s\tremaining: 3m 14s\n",
      "675:\tlearn: 0.1172920\ttotal: 6m 43s\tremaining: 3m 13s\n",
      "676:\tlearn: 0.1172315\ttotal: 6m 44s\tremaining: 3m 13s\n",
      "677:\tlearn: 0.1172117\ttotal: 6m 45s\tremaining: 3m 12s\n",
      "678:\tlearn: 0.1171656\ttotal: 6m 45s\tremaining: 3m 11s\n",
      "679:\tlearn: 0.1170897\ttotal: 6m 46s\tremaining: 3m 11s\n",
      "680:\tlearn: 0.1170331\ttotal: 6m 47s\tremaining: 3m 10s\n",
      "681:\tlearn: 0.1169796\ttotal: 6m 47s\tremaining: 3m 10s\n",
      "682:\tlearn: 0.1169236\ttotal: 6m 48s\tremaining: 3m 9s\n",
      "683:\tlearn: 0.1168866\ttotal: 6m 49s\tremaining: 3m 9s\n",
      "684:\tlearn: 0.1168365\ttotal: 6m 49s\tremaining: 3m 8s\n",
      "685:\tlearn: 0.1167697\ttotal: 6m 50s\tremaining: 3m 7s\n",
      "686:\tlearn: 0.1167433\ttotal: 6m 51s\tremaining: 3m 7s\n",
      "687:\tlearn: 0.1166814\ttotal: 6m 51s\tremaining: 3m 6s\n",
      "688:\tlearn: 0.1166610\ttotal: 6m 52s\tremaining: 3m 6s\n",
      "689:\tlearn: 0.1166123\ttotal: 6m 52s\tremaining: 3m 5s\n",
      "690:\tlearn: 0.1165460\ttotal: 6m 53s\tremaining: 3m 4s\n",
      "691:\tlearn: 0.1165195\ttotal: 6m 54s\tremaining: 3m 4s\n",
      "692:\tlearn: 0.1164916\ttotal: 6m 54s\tremaining: 3m 3s\n",
      "693:\tlearn: 0.1164721\ttotal: 6m 55s\tremaining: 3m 3s\n",
      "694:\tlearn: 0.1164367\ttotal: 6m 55s\tremaining: 3m 2s\n",
      "695:\tlearn: 0.1163880\ttotal: 6m 56s\tremaining: 3m 2s\n",
      "696:\tlearn: 0.1163692\ttotal: 6m 57s\tremaining: 3m 1s\n",
      "697:\tlearn: 0.1163397\ttotal: 6m 58s\tremaining: 3m\n",
      "698:\tlearn: 0.1162905\ttotal: 6m 58s\tremaining: 3m\n",
      "699:\tlearn: 0.1162728\ttotal: 6m 59s\tremaining: 2m 59s\n",
      "700:\tlearn: 0.1162158\ttotal: 6m 59s\tremaining: 2m 59s\n",
      "701:\tlearn: 0.1161672\ttotal: 7m\tremaining: 2m 58s\n",
      "702:\tlearn: 0.1161140\ttotal: 7m 1s\tremaining: 2m 57s\n",
      "703:\tlearn: 0.1160586\ttotal: 7m 1s\tremaining: 2m 57s\n",
      "704:\tlearn: 0.1160184\ttotal: 7m 2s\tremaining: 2m 56s\n",
      "705:\tlearn: 0.1159782\ttotal: 7m 2s\tremaining: 2m 56s\n",
      "706:\tlearn: 0.1159472\ttotal: 7m 3s\tremaining: 2m 55s\n",
      "707:\tlearn: 0.1159221\ttotal: 7m 4s\tremaining: 2m 54s\n",
      "708:\tlearn: 0.1158684\ttotal: 7m 4s\tremaining: 2m 54s\n",
      "709:\tlearn: 0.1158048\ttotal: 7m 5s\tremaining: 2m 53s\n",
      "710:\tlearn: 0.1157839\ttotal: 7m 5s\tremaining: 2m 53s\n",
      "711:\tlearn: 0.1157160\ttotal: 7m 6s\tremaining: 2m 52s\n",
      "712:\tlearn: 0.1156643\ttotal: 7m 6s\tremaining: 2m 51s\n",
      "713:\tlearn: 0.1156173\ttotal: 7m 7s\tremaining: 2m 51s\n",
      "714:\tlearn: 0.1155835\ttotal: 7m 8s\tremaining: 2m 50s\n",
      "715:\tlearn: 0.1155361\ttotal: 7m 8s\tremaining: 2m 50s\n",
      "716:\tlearn: 0.1155168\ttotal: 7m 9s\tremaining: 2m 49s\n",
      "717:\tlearn: 0.1154989\ttotal: 7m 9s\tremaining: 2m 48s\n",
      "718:\tlearn: 0.1154584\ttotal: 7m 10s\tremaining: 2m 48s\n",
      "719:\tlearn: 0.1154286\ttotal: 7m 10s\tremaining: 2m 47s\n",
      "720:\tlearn: 0.1154106\ttotal: 7m 11s\tremaining: 2m 46s\n",
      "721:\tlearn: 0.1153522\ttotal: 7m 12s\tremaining: 2m 46s\n",
      "722:\tlearn: 0.1153356\ttotal: 7m 12s\tremaining: 2m 45s\n",
      "723:\tlearn: 0.1153156\ttotal: 7m 13s\tremaining: 2m 45s\n",
      "724:\tlearn: 0.1152582\ttotal: 7m 13s\tremaining: 2m 44s\n",
      "725:\tlearn: 0.1152320\ttotal: 7m 14s\tremaining: 2m 43s\n",
      "726:\tlearn: 0.1151791\ttotal: 7m 14s\tremaining: 2m 43s\n",
      "727:\tlearn: 0.1151349\ttotal: 7m 15s\tremaining: 2m 42s\n",
      "728:\tlearn: 0.1150779\ttotal: 7m 16s\tremaining: 2m 42s\n",
      "729:\tlearn: 0.1150191\ttotal: 7m 16s\tremaining: 2m 41s\n",
      "730:\tlearn: 0.1149970\ttotal: 7m 17s\tremaining: 2m 40s\n",
      "731:\tlearn: 0.1149403\ttotal: 7m 17s\tremaining: 2m 40s\n",
      "732:\tlearn: 0.1149121\ttotal: 7m 18s\tremaining: 2m 39s\n",
      "733:\tlearn: 0.1148597\ttotal: 7m 18s\tremaining: 2m 39s\n",
      "734:\tlearn: 0.1148219\ttotal: 7m 19s\tremaining: 2m 38s\n",
      "735:\tlearn: 0.1147758\ttotal: 7m 20s\tremaining: 2m 37s\n",
      "736:\tlearn: 0.1147192\ttotal: 7m 20s\tremaining: 2m 37s\n",
      "737:\tlearn: 0.1147021\ttotal: 7m 21s\tremaining: 2m 36s\n",
      "738:\tlearn: 0.1146758\ttotal: 7m 21s\tremaining: 2m 36s\n",
      "739:\tlearn: 0.1146246\ttotal: 7m 22s\tremaining: 2m 35s\n",
      "740:\tlearn: 0.1145760\ttotal: 7m 23s\tremaining: 2m 34s\n",
      "741:\tlearn: 0.1145257\ttotal: 7m 24s\tremaining: 2m 34s\n",
      "742:\tlearn: 0.1144656\ttotal: 7m 24s\tremaining: 2m 33s\n",
      "743:\tlearn: 0.1144168\ttotal: 7m 25s\tremaining: 2m 33s\n",
      "744:\tlearn: 0.1143756\ttotal: 7m 25s\tremaining: 2m 32s\n",
      "745:\tlearn: 0.1143443\ttotal: 7m 26s\tremaining: 2m 32s\n",
      "746:\tlearn: 0.1142976\ttotal: 7m 27s\tremaining: 2m 31s\n",
      "747:\tlearn: 0.1142222\ttotal: 7m 28s\tremaining: 2m 30s\n",
      "748:\tlearn: 0.1141538\ttotal: 7m 28s\tremaining: 2m 30s\n",
      "749:\tlearn: 0.1141045\ttotal: 7m 29s\tremaining: 2m 29s\n",
      "750:\tlearn: 0.1140542\ttotal: 7m 29s\tremaining: 2m 29s\n",
      "751:\tlearn: 0.1140368\ttotal: 7m 30s\tremaining: 2m 28s\n",
      "752:\tlearn: 0.1139869\ttotal: 7m 31s\tremaining: 2m 27s\n",
      "753:\tlearn: 0.1139642\ttotal: 7m 31s\tremaining: 2m 27s\n",
      "754:\tlearn: 0.1139451\ttotal: 7m 32s\tremaining: 2m 26s\n",
      "755:\tlearn: 0.1138491\ttotal: 7m 32s\tremaining: 2m 26s\n",
      "756:\tlearn: 0.1138060\ttotal: 7m 33s\tremaining: 2m 25s\n",
      "757:\tlearn: 0.1137622\ttotal: 7m 33s\tremaining: 2m 24s\n",
      "758:\tlearn: 0.1137447\ttotal: 7m 34s\tremaining: 2m 24s\n",
      "759:\tlearn: 0.1136886\ttotal: 7m 35s\tremaining: 2m 23s\n",
      "760:\tlearn: 0.1136380\ttotal: 7m 35s\tremaining: 2m 23s\n",
      "761:\tlearn: 0.1136157\ttotal: 7m 36s\tremaining: 2m 22s\n",
      "762:\tlearn: 0.1135664\ttotal: 7m 36s\tremaining: 2m 21s\n",
      "763:\tlearn: 0.1135437\ttotal: 7m 37s\tremaining: 2m 21s\n",
      "764:\tlearn: 0.1135258\ttotal: 7m 37s\tremaining: 2m 20s\n",
      "765:\tlearn: 0.1134749\ttotal: 7m 38s\tremaining: 2m 20s\n",
      "766:\tlearn: 0.1134546\ttotal: 7m 39s\tremaining: 2m 19s\n",
      "767:\tlearn: 0.1134113\ttotal: 7m 39s\tremaining: 2m 18s\n",
      "768:\tlearn: 0.1133935\ttotal: 7m 40s\tremaining: 2m 18s\n",
      "769:\tlearn: 0.1133656\ttotal: 7m 40s\tremaining: 2m 17s\n",
      "770:\tlearn: 0.1133407\ttotal: 7m 41s\tremaining: 2m 17s\n",
      "771:\tlearn: 0.1132767\ttotal: 7m 41s\tremaining: 2m 16s\n",
      "772:\tlearn: 0.1132480\ttotal: 7m 42s\tremaining: 2m 15s\n",
      "773:\tlearn: 0.1131990\ttotal: 7m 43s\tremaining: 2m 15s\n",
      "774:\tlearn: 0.1131696\ttotal: 7m 44s\tremaining: 2m 14s\n",
      "775:\tlearn: 0.1131475\ttotal: 7m 44s\tremaining: 2m 14s\n",
      "776:\tlearn: 0.1131177\ttotal: 7m 45s\tremaining: 2m 13s\n",
      "777:\tlearn: 0.1130923\ttotal: 7m 45s\tremaining: 2m 12s\n",
      "778:\tlearn: 0.1130455\ttotal: 7m 46s\tremaining: 2m 12s\n",
      "779:\tlearn: 0.1130164\ttotal: 7m 46s\tremaining: 2m 11s\n",
      "780:\tlearn: 0.1129993\ttotal: 7m 47s\tremaining: 2m 11s\n",
      "781:\tlearn: 0.1129342\ttotal: 7m 47s\tremaining: 2m 10s\n",
      "782:\tlearn: 0.1128930\ttotal: 7m 48s\tremaining: 2m 9s\n",
      "783:\tlearn: 0.1128413\ttotal: 7m 49s\tremaining: 2m 9s\n",
      "784:\tlearn: 0.1128232\ttotal: 7m 49s\tremaining: 2m 8s\n",
      "785:\tlearn: 0.1127827\ttotal: 7m 50s\tremaining: 2m 8s\n",
      "786:\tlearn: 0.1127579\ttotal: 7m 50s\tremaining: 2m 7s\n",
      "787:\tlearn: 0.1127302\ttotal: 7m 51s\tremaining: 2m 6s\n",
      "788:\tlearn: 0.1126887\ttotal: 7m 52s\tremaining: 2m 6s\n",
      "789:\tlearn: 0.1126474\ttotal: 7m 52s\tremaining: 2m 5s\n",
      "790:\tlearn: 0.1126219\ttotal: 7m 53s\tremaining: 2m 5s\n",
      "791:\tlearn: 0.1126062\ttotal: 7m 53s\tremaining: 2m 4s\n",
      "792:\tlearn: 0.1125682\ttotal: 7m 54s\tremaining: 2m 3s\n",
      "793:\tlearn: 0.1125191\ttotal: 7m 54s\tremaining: 2m 3s\n",
      "794:\tlearn: 0.1124917\ttotal: 7m 55s\tremaining: 2m 2s\n",
      "795:\tlearn: 0.1124598\ttotal: 7m 55s\tremaining: 2m 1s\n",
      "796:\tlearn: 0.1124280\ttotal: 7m 56s\tremaining: 2m 1s\n",
      "797:\tlearn: 0.1123999\ttotal: 7m 56s\tremaining: 2m\n",
      "798:\tlearn: 0.1123321\ttotal: 7m 57s\tremaining: 2m\n",
      "799:\tlearn: 0.1122840\ttotal: 7m 58s\tremaining: 1m 59s\n",
      "800:\tlearn: 0.1122685\ttotal: 7m 58s\tremaining: 1m 58s\n",
      "801:\tlearn: 0.1122341\ttotal: 7m 59s\tremaining: 1m 58s\n",
      "802:\tlearn: 0.1121947\ttotal: 7m 59s\tremaining: 1m 57s\n",
      "803:\tlearn: 0.1121772\ttotal: 8m\tremaining: 1m 57s\n",
      "804:\tlearn: 0.1121336\ttotal: 8m\tremaining: 1m 56s\n",
      "805:\tlearn: 0.1121173\ttotal: 8m 1s\tremaining: 1m 55s\n",
      "806:\tlearn: 0.1120122\ttotal: 8m 2s\tremaining: 1m 55s\n",
      "807:\tlearn: 0.1119966\ttotal: 8m 2s\tremaining: 1m 54s\n",
      "808:\tlearn: 0.1119502\ttotal: 8m 3s\tremaining: 1m 54s\n",
      "809:\tlearn: 0.1119301\ttotal: 8m 3s\tremaining: 1m 53s\n",
      "810:\tlearn: 0.1118859\ttotal: 8m 4s\tremaining: 1m 52s\n",
      "811:\tlearn: 0.1118458\ttotal: 8m 4s\tremaining: 1m 52s\n",
      "812:\tlearn: 0.1118216\ttotal: 8m 5s\tremaining: 1m 51s\n",
      "813:\tlearn: 0.1117923\ttotal: 8m 6s\tremaining: 1m 51s\n",
      "814:\tlearn: 0.1117393\ttotal: 8m 6s\tremaining: 1m 50s\n",
      "815:\tlearn: 0.1117039\ttotal: 8m 7s\tremaining: 1m 49s\n",
      "816:\tlearn: 0.1116794\ttotal: 8m 7s\tremaining: 1m 49s\n",
      "817:\tlearn: 0.1116292\ttotal: 8m 8s\tremaining: 1m 48s\n",
      "818:\tlearn: 0.1116120\ttotal: 8m 9s\tremaining: 1m 48s\n",
      "819:\tlearn: 0.1115328\ttotal: 8m 9s\tremaining: 1m 47s\n",
      "820:\tlearn: 0.1114684\ttotal: 8m 10s\tremaining: 1m 46s\n",
      "821:\tlearn: 0.1114382\ttotal: 8m 10s\tremaining: 1m 46s\n",
      "822:\tlearn: 0.1113704\ttotal: 8m 11s\tremaining: 1m 45s\n",
      "823:\tlearn: 0.1113165\ttotal: 8m 12s\tremaining: 1m 45s\n",
      "824:\tlearn: 0.1112718\ttotal: 8m 12s\tremaining: 1m 44s\n",
      "825:\tlearn: 0.1112496\ttotal: 8m 13s\tremaining: 1m 43s\n",
      "826:\tlearn: 0.1112263\ttotal: 8m 13s\tremaining: 1m 43s\n",
      "827:\tlearn: 0.1111722\ttotal: 8m 14s\tremaining: 1m 42s\n",
      "828:\tlearn: 0.1111276\ttotal: 8m 14s\tremaining: 1m 42s\n",
      "829:\tlearn: 0.1110766\ttotal: 8m 15s\tremaining: 1m 41s\n",
      "830:\tlearn: 0.1110377\ttotal: 8m 16s\tremaining: 1m 40s\n",
      "831:\tlearn: 0.1109826\ttotal: 8m 16s\tremaining: 1m 40s\n",
      "832:\tlearn: 0.1109660\ttotal: 8m 17s\tremaining: 1m 39s\n",
      "833:\tlearn: 0.1109444\ttotal: 8m 18s\tremaining: 1m 39s\n",
      "834:\tlearn: 0.1108849\ttotal: 8m 18s\tremaining: 1m 38s\n",
      "835:\tlearn: 0.1108493\ttotal: 8m 19s\tremaining: 1m 37s\n",
      "836:\tlearn: 0.1108088\ttotal: 8m 19s\tremaining: 1m 37s\n",
      "837:\tlearn: 0.1107937\ttotal: 8m 20s\tremaining: 1m 36s\n",
      "838:\tlearn: 0.1107480\ttotal: 8m 21s\tremaining: 1m 36s\n",
      "839:\tlearn: 0.1107282\ttotal: 8m 21s\tremaining: 1m 35s\n",
      "840:\tlearn: 0.1106888\ttotal: 8m 22s\tremaining: 1m 34s\n",
      "841:\tlearn: 0.1106558\ttotal: 8m 22s\tremaining: 1m 34s\n",
      "842:\tlearn: 0.1106315\ttotal: 8m 23s\tremaining: 1m 33s\n",
      "843:\tlearn: 0.1105934\ttotal: 8m 23s\tremaining: 1m 33s\n",
      "844:\tlearn: 0.1105669\ttotal: 8m 24s\tremaining: 1m 32s\n",
      "845:\tlearn: 0.1105174\ttotal: 8m 25s\tremaining: 1m 31s\n",
      "846:\tlearn: 0.1104806\ttotal: 8m 25s\tremaining: 1m 31s\n",
      "847:\tlearn: 0.1104372\ttotal: 8m 26s\tremaining: 1m 30s\n",
      "848:\tlearn: 0.1103919\ttotal: 8m 26s\tremaining: 1m 30s\n",
      "849:\tlearn: 0.1103551\ttotal: 8m 27s\tremaining: 1m 29s\n",
      "850:\tlearn: 0.1103207\ttotal: 8m 27s\tremaining: 1m 28s\n",
      "851:\tlearn: 0.1103016\ttotal: 8m 28s\tremaining: 1m 28s\n",
      "852:\tlearn: 0.1102793\ttotal: 8m 29s\tremaining: 1m 27s\n",
      "853:\tlearn: 0.1102355\ttotal: 8m 29s\tremaining: 1m 27s\n",
      "854:\tlearn: 0.1102085\ttotal: 8m 30s\tremaining: 1m 26s\n",
      "855:\tlearn: 0.1101670\ttotal: 8m 30s\tremaining: 1m 25s\n",
      "856:\tlearn: 0.1101290\ttotal: 8m 31s\tremaining: 1m 25s\n",
      "857:\tlearn: 0.1100938\ttotal: 8m 31s\tremaining: 1m 24s\n",
      "858:\tlearn: 0.1100465\ttotal: 8m 32s\tremaining: 1m 24s\n",
      "859:\tlearn: 0.1100252\ttotal: 8m 33s\tremaining: 1m 23s\n",
      "860:\tlearn: 0.1099891\ttotal: 8m 33s\tremaining: 1m 22s\n",
      "861:\tlearn: 0.1099557\ttotal: 8m 34s\tremaining: 1m 22s\n",
      "862:\tlearn: 0.1099097\ttotal: 8m 34s\tremaining: 1m 21s\n",
      "863:\tlearn: 0.1098838\ttotal: 8m 35s\tremaining: 1m 21s\n",
      "864:\tlearn: 0.1098558\ttotal: 8m 35s\tremaining: 1m 20s\n",
      "865:\tlearn: 0.1098132\ttotal: 8m 36s\tremaining: 1m 19s\n",
      "866:\tlearn: 0.1097777\ttotal: 8m 37s\tremaining: 1m 19s\n",
      "867:\tlearn: 0.1097127\ttotal: 8m 37s\tremaining: 1m 18s\n",
      "868:\tlearn: 0.1096913\ttotal: 8m 38s\tremaining: 1m 18s\n",
      "869:\tlearn: 0.1096763\ttotal: 8m 38s\tremaining: 1m 17s\n",
      "870:\tlearn: 0.1096364\ttotal: 8m 39s\tremaining: 1m 16s\n",
      "871:\tlearn: 0.1096216\ttotal: 8m 39s\tremaining: 1m 16s\n",
      "872:\tlearn: 0.1095734\ttotal: 8m 40s\tremaining: 1m 15s\n",
      "873:\tlearn: 0.1095521\ttotal: 8m 41s\tremaining: 1m 15s\n",
      "874:\tlearn: 0.1094730\ttotal: 8m 41s\tremaining: 1m 14s\n",
      "875:\tlearn: 0.1094411\ttotal: 8m 42s\tremaining: 1m 13s\n",
      "876:\tlearn: 0.1093977\ttotal: 8m 42s\tremaining: 1m 13s\n",
      "877:\tlearn: 0.1093682\ttotal: 8m 43s\tremaining: 1m 12s\n",
      "878:\tlearn: 0.1093245\ttotal: 8m 43s\tremaining: 1m 12s\n",
      "879:\tlearn: 0.1092776\ttotal: 8m 44s\tremaining: 1m 11s\n",
      "880:\tlearn: 0.1092337\ttotal: 8m 45s\tremaining: 1m 10s\n",
      "881:\tlearn: 0.1091970\ttotal: 8m 45s\tremaining: 1m 10s\n",
      "882:\tlearn: 0.1091815\ttotal: 8m 46s\tremaining: 1m 9s\n",
      "883:\tlearn: 0.1091468\ttotal: 8m 46s\tremaining: 1m 9s\n",
      "884:\tlearn: 0.1090940\ttotal: 8m 47s\tremaining: 1m 8s\n",
      "885:\tlearn: 0.1090567\ttotal: 8m 48s\tremaining: 1m 7s\n",
      "886:\tlearn: 0.1090390\ttotal: 8m 48s\tremaining: 1m 7s\n",
      "887:\tlearn: 0.1089839\ttotal: 8m 49s\tremaining: 1m 6s\n",
      "888:\tlearn: 0.1089391\ttotal: 8m 49s\tremaining: 1m 6s\n",
      "889:\tlearn: 0.1089022\ttotal: 8m 50s\tremaining: 1m 5s\n",
      "890:\tlearn: 0.1088869\ttotal: 8m 50s\tremaining: 1m 4s\n",
      "891:\tlearn: 0.1088727\ttotal: 8m 51s\tremaining: 1m 4s\n",
      "892:\tlearn: 0.1088300\ttotal: 8m 51s\tremaining: 1m 3s\n",
      "893:\tlearn: 0.1088067\ttotal: 8m 52s\tremaining: 1m 3s\n",
      "894:\tlearn: 0.1087577\ttotal: 8m 53s\tremaining: 1m 2s\n",
      "895:\tlearn: 0.1087205\ttotal: 8m 53s\tremaining: 1m 1s\n",
      "896:\tlearn: 0.1086961\ttotal: 8m 54s\tremaining: 1m 1s\n",
      "897:\tlearn: 0.1086620\ttotal: 8m 54s\tremaining: 1m\n",
      "898:\tlearn: 0.1086477\ttotal: 8m 55s\tremaining: 1m\n",
      "899:\tlearn: 0.1086010\ttotal: 8m 55s\tremaining: 59.6s\n",
      "900:\tlearn: 0.1085597\ttotal: 8m 56s\tremaining: 59s\n",
      "901:\tlearn: 0.1085414\ttotal: 8m 57s\tremaining: 58.4s\n",
      "902:\tlearn: 0.1085170\ttotal: 8m 57s\tremaining: 57.8s\n",
      "903:\tlearn: 0.1084963\ttotal: 8m 58s\tremaining: 57.2s\n",
      "904:\tlearn: 0.1084776\ttotal: 8m 59s\tremaining: 56.6s\n",
      "905:\tlearn: 0.1084004\ttotal: 8m 59s\tremaining: 56s\n",
      "906:\tlearn: 0.1083585\ttotal: 9m\tremaining: 55.4s\n",
      "907:\tlearn: 0.1083384\ttotal: 9m 1s\tremaining: 54.8s\n",
      "908:\tlearn: 0.1082729\ttotal: 9m 1s\tremaining: 54.2s\n",
      "909:\tlearn: 0.1082437\ttotal: 9m 2s\tremaining: 53.6s\n",
      "910:\tlearn: 0.1082054\ttotal: 9m 2s\tremaining: 53s\n",
      "911:\tlearn: 0.1081819\ttotal: 9m 3s\tremaining: 52.4s\n",
      "912:\tlearn: 0.1081299\ttotal: 9m 4s\tremaining: 51.9s\n",
      "913:\tlearn: 0.1080878\ttotal: 9m 4s\tremaining: 51.3s\n",
      "914:\tlearn: 0.1080344\ttotal: 9m 5s\tremaining: 50.7s\n",
      "915:\tlearn: 0.1079903\ttotal: 9m 5s\tremaining: 50.1s\n",
      "916:\tlearn: 0.1079533\ttotal: 9m 6s\tremaining: 49.5s\n",
      "917:\tlearn: 0.1079210\ttotal: 9m 6s\tremaining: 48.9s\n",
      "918:\tlearn: 0.1078815\ttotal: 9m 7s\tremaining: 48.3s\n",
      "919:\tlearn: 0.1078624\ttotal: 9m 8s\tremaining: 47.7s\n",
      "920:\tlearn: 0.1078287\ttotal: 9m 8s\tremaining: 47.1s\n",
      "921:\tlearn: 0.1077845\ttotal: 9m 9s\tremaining: 46.5s\n",
      "922:\tlearn: 0.1077540\ttotal: 9m 9s\tremaining: 45.9s\n",
      "923:\tlearn: 0.1076982\ttotal: 9m 10s\tremaining: 45.3s\n",
      "924:\tlearn: 0.1076709\ttotal: 9m 11s\tremaining: 44.7s\n",
      "925:\tlearn: 0.1076566\ttotal: 9m 11s\tremaining: 44.1s\n",
      "926:\tlearn: 0.1076207\ttotal: 9m 12s\tremaining: 43.5s\n",
      "927:\tlearn: 0.1076060\ttotal: 9m 12s\tremaining: 42.9s\n",
      "928:\tlearn: 0.1075840\ttotal: 9m 13s\tremaining: 42.3s\n",
      "929:\tlearn: 0.1075279\ttotal: 9m 13s\tremaining: 41.7s\n",
      "930:\tlearn: 0.1074994\ttotal: 9m 14s\tremaining: 41.1s\n",
      "931:\tlearn: 0.1074518\ttotal: 9m 15s\tremaining: 40.5s\n",
      "932:\tlearn: 0.1074375\ttotal: 9m 15s\tremaining: 39.9s\n",
      "933:\tlearn: 0.1074190\ttotal: 9m 16s\tremaining: 39.3s\n",
      "934:\tlearn: 0.1073896\ttotal: 9m 16s\tremaining: 38.7s\n",
      "935:\tlearn: 0.1073473\ttotal: 9m 17s\tremaining: 38.1s\n",
      "936:\tlearn: 0.1073338\ttotal: 9m 18s\tremaining: 37.5s\n",
      "937:\tlearn: 0.1072895\ttotal: 9m 18s\tremaining: 36.9s\n",
      "938:\tlearn: 0.1072639\ttotal: 9m 19s\tremaining: 36.3s\n",
      "939:\tlearn: 0.1072202\ttotal: 9m 19s\tremaining: 35.7s\n",
      "940:\tlearn: 0.1071616\ttotal: 9m 20s\tremaining: 35.1s\n",
      "941:\tlearn: 0.1071391\ttotal: 9m 21s\tremaining: 34.5s\n",
      "942:\tlearn: 0.1071189\ttotal: 9m 21s\tremaining: 33.9s\n",
      "943:\tlearn: 0.1070857\ttotal: 9m 22s\tremaining: 33.4s\n",
      "944:\tlearn: 0.1070491\ttotal: 9m 22s\tremaining: 32.8s\n",
      "945:\tlearn: 0.1070220\ttotal: 9m 23s\tremaining: 32.2s\n",
      "946:\tlearn: 0.1069880\ttotal: 9m 24s\tremaining: 31.6s\n",
      "947:\tlearn: 0.1069675\ttotal: 9m 24s\tremaining: 31s\n",
      "948:\tlearn: 0.1069356\ttotal: 9m 25s\tremaining: 30.4s\n",
      "949:\tlearn: 0.1069179\ttotal: 9m 25s\tremaining: 29.8s\n",
      "950:\tlearn: 0.1068640\ttotal: 9m 26s\tremaining: 29.2s\n",
      "951:\tlearn: 0.1068493\ttotal: 9m 27s\tremaining: 28.6s\n",
      "952:\tlearn: 0.1068314\ttotal: 9m 27s\tremaining: 28s\n",
      "953:\tlearn: 0.1068032\ttotal: 9m 28s\tremaining: 27.4s\n",
      "954:\tlearn: 0.1067353\ttotal: 9m 28s\tremaining: 26.8s\n",
      "955:\tlearn: 0.1067214\ttotal: 9m 29s\tremaining: 26.2s\n",
      "956:\tlearn: 0.1066913\ttotal: 9m 30s\tremaining: 25.6s\n",
      "957:\tlearn: 0.1066779\ttotal: 9m 30s\tremaining: 25s\n",
      "958:\tlearn: 0.1066428\ttotal: 9m 31s\tremaining: 24.4s\n",
      "959:\tlearn: 0.1066246\ttotal: 9m 32s\tremaining: 23.9s\n",
      "960:\tlearn: 0.1065809\ttotal: 9m 33s\tremaining: 23.3s\n",
      "961:\tlearn: 0.1065558\ttotal: 9m 34s\tremaining: 22.7s\n",
      "962:\tlearn: 0.1064965\ttotal: 9m 34s\tremaining: 22.1s\n",
      "963:\tlearn: 0.1064651\ttotal: 9m 35s\tremaining: 21.5s\n",
      "964:\tlearn: 0.1064303\ttotal: 9m 35s\tremaining: 20.9s\n",
      "965:\tlearn: 0.1064167\ttotal: 9m 36s\tremaining: 20.3s\n",
      "966:\tlearn: 0.1063931\ttotal: 9m 36s\tremaining: 19.7s\n",
      "967:\tlearn: 0.1063347\ttotal: 9m 37s\tremaining: 19.1s\n",
      "968:\tlearn: 0.1062617\ttotal: 9m 38s\tremaining: 18.5s\n",
      "969:\tlearn: 0.1062304\ttotal: 9m 38s\tremaining: 17.9s\n",
      "970:\tlearn: 0.1062116\ttotal: 9m 39s\tremaining: 17.3s\n",
      "971:\tlearn: 0.1061873\ttotal: 9m 39s\tremaining: 16.7s\n",
      "972:\tlearn: 0.1061456\ttotal: 9m 40s\tremaining: 16.1s\n",
      "973:\tlearn: 0.1060925\ttotal: 9m 41s\tremaining: 15.5s\n",
      "974:\tlearn: 0.1060075\ttotal: 9m 42s\tremaining: 14.9s\n",
      "975:\tlearn: 0.1059920\ttotal: 9m 42s\tremaining: 14.3s\n",
      "976:\tlearn: 0.1059592\ttotal: 9m 43s\tremaining: 13.7s\n",
      "977:\tlearn: 0.1059200\ttotal: 9m 44s\tremaining: 13.1s\n",
      "978:\tlearn: 0.1058863\ttotal: 9m 44s\tremaining: 12.5s\n",
      "979:\tlearn: 0.1058357\ttotal: 9m 45s\tremaining: 11.9s\n",
      "980:\tlearn: 0.1058195\ttotal: 9m 45s\tremaining: 11.3s\n",
      "981:\tlearn: 0.1058048\ttotal: 9m 46s\tremaining: 10.8s\n",
      "982:\tlearn: 0.1057735\ttotal: 9m 47s\tremaining: 10.2s\n",
      "983:\tlearn: 0.1057375\ttotal: 9m 47s\tremaining: 9.56s\n",
      "984:\tlearn: 0.1056828\ttotal: 9m 48s\tremaining: 8.96s\n",
      "985:\tlearn: 0.1056263\ttotal: 9m 48s\tremaining: 8.36s\n",
      "986:\tlearn: 0.1055941\ttotal: 9m 49s\tremaining: 7.76s\n",
      "987:\tlearn: 0.1055803\ttotal: 9m 50s\tremaining: 7.17s\n",
      "988:\tlearn: 0.1055485\ttotal: 9m 50s\tremaining: 6.57s\n",
      "989:\tlearn: 0.1055261\ttotal: 9m 51s\tremaining: 5.97s\n",
      "990:\tlearn: 0.1054714\ttotal: 9m 52s\tremaining: 5.38s\n",
      "991:\tlearn: 0.1054439\ttotal: 9m 52s\tremaining: 4.78s\n",
      "992:\tlearn: 0.1054100\ttotal: 9m 53s\tremaining: 4.18s\n",
      "993:\tlearn: 0.1053689\ttotal: 9m 53s\tremaining: 3.58s\n",
      "994:\tlearn: 0.1053319\ttotal: 9m 54s\tremaining: 2.99s\n",
      "995:\tlearn: 0.1053164\ttotal: 9m 54s\tremaining: 2.39s\n",
      "996:\tlearn: 0.1052750\ttotal: 9m 55s\tremaining: 1.79s\n",
      "997:\tlearn: 0.1052452\ttotal: 9m 55s\tremaining: 1.19s\n",
      "998:\tlearn: 0.1052005\ttotal: 9m 56s\tremaining: 597ms\n",
      "999:\tlearn: 0.1051731\ttotal: 9m 57s\tremaining: 0us\n",
      "Wall time: 17min 42s\n"
     ]
    },
    {
     "data": {
      "text/plain": [
       "<catboost.core.CatBoostClassifier at 0x169106fe610>"
      ]
     },
     "execution_count": 30,
     "metadata": {},
     "output_type": "execute_result"
    }
   ],
   "source": [
    "%%time\n",
    "\n",
    "\n",
    "#<CatBoostClassifier>\n",
    "\n",
    "model = CatBoostClassifier()\n",
    "model.fit(train_features_vect.toarray(), train_target)"
   ]
  },
  {
   "cell_type": "code",
   "execution_count": 31,
   "metadata": {},
   "outputs": [
    {
     "data": {
      "text/plain": [
       "0.7551673944687045"
      ]
     },
     "execution_count": 31,
     "metadata": {},
     "output_type": "execute_result"
    }
   ],
   "source": [
    "predictions = model.predict(test_features_vect.toarray())\n",
    "\n",
    "df_results.loc[4] = (['CatBoostClassifier', f1_score(test_target, predictions)])\n",
    "f1_score(test_target, predictions)"
   ]
  },
  {
   "cell_type": "markdown",
   "metadata": {},
   "source": [
    "## Выводы"
   ]
  },
  {
   "cell_type": "code",
   "execution_count": 32,
   "metadata": {
    "scrolled": true
   },
   "outputs": [
    {
     "data": {
      "text/html": [
       "<div>\n",
       "<style scoped>\n",
       "    .dataframe tbody tr th:only-of-type {\n",
       "        vertical-align: middle;\n",
       "    }\n",
       "\n",
       "    .dataframe tbody tr th {\n",
       "        vertical-align: top;\n",
       "    }\n",
       "\n",
       "    .dataframe thead th {\n",
       "        text-align: right;\n",
       "    }\n",
       "</style>\n",
       "<table border=\"1\" class=\"dataframe\">\n",
       "  <thead>\n",
       "    <tr style=\"text-align: right;\">\n",
       "      <th></th>\n",
       "      <th>result</th>\n",
       "    </tr>\n",
       "    <tr>\n",
       "      <th>model</th>\n",
       "      <th></th>\n",
       "    </tr>\n",
       "  </thead>\n",
       "  <tbody>\n",
       "    <tr>\n",
       "      <th>Bert LogisticRegression</th>\n",
       "      <td>0.816187</td>\n",
       "    </tr>\n",
       "    <tr>\n",
       "      <th>LogisticRegression</th>\n",
       "      <td>0.775912</td>\n",
       "    </tr>\n",
       "    <tr>\n",
       "      <th>CatBoostClassifier</th>\n",
       "      <td>0.755167</td>\n",
       "    </tr>\n",
       "    <tr>\n",
       "      <th>DecisionTreeClassifier</th>\n",
       "      <td>0.722646</td>\n",
       "    </tr>\n",
       "    <tr>\n",
       "      <th>LGBMClassifier</th>\n",
       "      <td>0.663556</td>\n",
       "    </tr>\n",
       "  </tbody>\n",
       "</table>\n",
       "</div>"
      ],
      "text/plain": [
       "                           result\n",
       "model                            \n",
       "Bert LogisticRegression  0.816187\n",
       "LogisticRegression       0.775912\n",
       "CatBoostClassifier       0.755167\n",
       "DecisionTreeClassifier   0.722646\n",
       "LGBMClassifier           0.663556"
      ]
     },
     "execution_count": 32,
     "metadata": {},
     "output_type": "execute_result"
    }
   ],
   "source": [
    "df_results = df_results.set_index('model')\n",
    "df_results.sort_values(by='result', ascending=False)"
   ]
  },
  {
   "cell_type": "markdown",
   "metadata": {
    "pycharm": {
     "name": "#%% md\n"
    }
   },
   "source": [
    "Лучше всего справился Bert, хотя по моему мнению, если обучить его на более сложных текстах, качество еще вырастет. Но на данном этапе у нас нет таких ресурсов."
   ]
  }
 ],
 "metadata": {
  "kernelspec": {
   "display_name": "Python 3",
   "language": "python",
   "name": "python3"
  },
  "language_info": {
   "codemirror_mode": {
    "name": "ipython",
    "version": 3
   },
   "file_extension": ".py",
   "mimetype": "text/x-python",
   "name": "python",
   "nbconvert_exporter": "python",
   "pygments_lexer": "ipython3",
   "version": "3.8.3"
  },
  "toc": {
   "base_numbering": 1,
   "nav_menu": {},
   "number_sections": true,
   "sideBar": true,
   "skip_h1_title": true,
   "title_cell": "Содержание",
   "title_sidebar": "Contents",
   "toc_cell": true,
   "toc_position": {
    "height": "calc(100% - 180px)",
    "left": "10px",
    "top": "150px",
    "width": "302.391px"
   },
   "toc_section_display": true,
   "toc_window_display": false
  }
 },
 "nbformat": 4,
 "nbformat_minor": 2
}